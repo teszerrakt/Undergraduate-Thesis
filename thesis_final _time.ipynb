{
 "cells": [
  {
   "cell_type": "markdown",
   "source": [
    "# Main Function"
   ],
   "metadata": {}
  },
  {
   "cell_type": "code",
   "execution_count": 1,
   "source": [
    "from data_prep import load_rating_data\r\n",
    "from cluster import kmeans_clustering\r\n",
    "from evaluate import evaluate\r\n",
    "from IPython.display import clear_output"
   ],
   "outputs": [],
   "metadata": {}
  },
  {
   "cell_type": "code",
   "execution_count": 2,
   "source": [
    "def run_test_kmeans(n_clusters, rating_path = 'dataset_5_min_100/', item_path = 'comic_genre.csv'):\r\n",
    "\r\n",
    "    total_mae = []\r\n",
    "\r\n",
    "    # 10-Fold Cross-Validation\r\n",
    "    for i in range(1, 11):\r\n",
    "        # load dataset\r\n",
    "        print('K-Means (k={}) | Fold = {}'.format(n_clusters, i))\r\n",
    "        print('Loading Data...')\r\n",
    "        train_data, cluster_data = load_rating_data('train', number=i, rating_path=rating_path, item_path=item_path)\r\n",
    "        test_data = load_rating_data('test', number=i, rating_path=rating_path, item_path=item_path)\r\n",
    "        print('Data Loaded...')\r\n",
    "\r\n",
    "        # perform clustering\r\n",
    "        print('Clustering Starts')\r\n",
    "        ratings_cluster, cluster_centroids = kmeans_clustering(n_clusters, cluster_data, train_data)\r\n",
    "        print('Clustering Finished')\r\n",
    "\r\n",
    "        # predict and evaluate\r\n",
    "        print('Predicting and Evaluating Starts')\r\n",
    "        mae = evaluate(test_data, ratings_cluster, cluster_centroids)\r\n",
    "        total_mae.append(mae)\r\n",
    "        print('Predicting and Evaluating Finished')\r\n",
    "\r\n",
    "        clear_output(wait=True)\r\n",
    "        print('K = {} | Fold = {} | MAE = {}\\n'.format(n_clusters, i, mae))\r\n",
    "\r\n",
    "\r\n",
    "    clear_output(wait=True)\r\n",
    "    for i in range(len(total_mae)):\r\n",
    "        print('K = {} | Fold = {} | MAE = {}'.format(n_clusters, i+1, total_mae[i]))\r\n",
    "    avg_mae = sum(total_mae)/10\r\n",
    "    print('K = {} | Average MAE = {}'.format(n_clusters, avg_mae))\r\n",
    "\r\n",
    "    # return avg_mae, total_mae"
   ],
   "outputs": [],
   "metadata": {}
  },
  {
   "cell_type": "markdown",
   "source": [
    "# No Clustering"
   ],
   "metadata": {}
  },
  {
   "cell_type": "code",
   "execution_count": 42,
   "source": [
    "run_test_kmeans(1)"
   ],
   "outputs": [
    {
     "output_type": "stream",
     "name": "stdout",
     "text": [
      "K = 1 | Fold = 1 | MAE = 0.2711706846105243\n",
      "K = 1 | Fold = 2 | MAE = 0.2436201682113505\n",
      "K = 1 | Fold = 3 | MAE = 0.24793435049546214\n",
      "K = 1 | Fold = 4 | MAE = 0.2478566843362659\n",
      "K = 1 | Fold = 5 | MAE = 0.2171740422178029\n",
      "K = 1 | Fold = 6 | MAE = 0.2522172240932635\n",
      "K = 1 | Fold = 7 | MAE = 0.27439575329373034\n",
      "K = 1 | Fold = 8 | MAE = 0.24072770463853455\n",
      "K = 1 | Fold = 9 | MAE = 0.23272546173621997\n",
      "K = 1 | Fold = 10 | MAE = 0.23472213696823346\n",
      "K = 1 | Average MAE = 0.24625442106013873\n"
     ]
    },
    {
     "output_type": "execute_result",
     "data": {
      "text/plain": [
       "(0.24625442106013873,\n",
       " [0.2711706846105243,\n",
       "  0.2436201682113505,\n",
       "  0.24793435049546214,\n",
       "  0.2478566843362659,\n",
       "  0.2171740422178029,\n",
       "  0.2522172240932635,\n",
       "  0.27439575329373034,\n",
       "  0.24072770463853455,\n",
       "  0.23272546173621997,\n",
       "  0.23472213696823346])"
      ]
     },
     "metadata": {},
     "execution_count": 42
    }
   ],
   "metadata": {}
  },
  {
   "cell_type": "code",
   "execution_count": 43,
   "source": [
    "run_test_kmeans(1, rating_path='dataset_5_min_75/')"
   ],
   "outputs": [
    {
     "output_type": "stream",
     "name": "stdout",
     "text": [
      "K = 1 | Fold = 1 | MAE = 0.3194271715388204\n",
      "K = 1 | Fold = 2 | MAE = 0.3126145112122271\n",
      "K = 1 | Fold = 3 | MAE = 0.3371930533738793\n",
      "K = 1 | Fold = 4 | MAE = 0.3243633678289324\n",
      "K = 1 | Fold = 5 | MAE = 0.3158410096007955\n",
      "K = 1 | Fold = 6 | MAE = 0.33816343440311175\n",
      "K = 1 | Fold = 7 | MAE = 0.312900461434167\n",
      "K = 1 | Fold = 8 | MAE = 0.3071062341684496\n",
      "K = 1 | Fold = 9 | MAE = 0.3363108550447118\n",
      "K = 1 | Fold = 10 | MAE = 0.3194980483575356\n",
      "K = 1 | Average MAE = 0.32234181469626305\n"
     ]
    },
    {
     "output_type": "execute_result",
     "data": {
      "text/plain": [
       "(0.32234181469626305,\n",
       " [0.3194271715388204,\n",
       "  0.3126145112122271,\n",
       "  0.3371930533738793,\n",
       "  0.3243633678289324,\n",
       "  0.3158410096007955,\n",
       "  0.33816343440311175,\n",
       "  0.312900461434167,\n",
       "  0.3071062341684496,\n",
       "  0.3363108550447118,\n",
       "  0.3194980483575356])"
      ]
     },
     "metadata": {},
     "execution_count": 43
    }
   ],
   "metadata": {}
  },
  {
   "cell_type": "markdown",
   "source": [
    "# K-Means K=2 - K=20 DATASET_MIN_100 (RATING 1-5)"
   ],
   "metadata": {}
  },
  {
   "cell_type": "code",
   "execution_count": 3,
   "source": [
    "run_test_kmeans(2)"
   ],
   "outputs": [
    {
     "output_type": "stream",
     "name": "stdout",
     "text": [
      "K = 2 | Fold = 1 | MAE = 0.2873209800770044\n",
      "K = 2 | Fold = 2 | MAE = 0.26603306237109586\n",
      "K = 2 | Fold = 3 | MAE = 0.26041808732284577\n",
      "K = 2 | Fold = 4 | MAE = 0.26482222755403306\n",
      "K = 2 | Fold = 5 | MAE = 0.23188836024476253\n",
      "K = 2 | Fold = 6 | MAE = 0.27079361118627326\n",
      "K = 2 | Fold = 7 | MAE = 0.28588416834960223\n",
      "K = 2 | Fold = 8 | MAE = 0.25504346879431883\n",
      "K = 2 | Fold = 9 | MAE = 0.2447583425032367\n",
      "K = 2 | Fold = 10 | MAE = 0.2578478453190397\n",
      "K = 2 | Average MAE = 0.2624810153722212\n"
     ]
    },
    {
     "output_type": "execute_result",
     "data": {
      "text/plain": [
       "(0.2624810153722212,\n",
       " [0.2873209800770044,\n",
       "  0.26603306237109586,\n",
       "  0.26041808732284577,\n",
       "  0.26482222755403306,\n",
       "  0.23188836024476253,\n",
       "  0.27079361118627326,\n",
       "  0.28588416834960223,\n",
       "  0.25504346879431883,\n",
       "  0.2447583425032367,\n",
       "  0.2578478453190397])"
      ]
     },
     "metadata": {},
     "execution_count": 3
    }
   ],
   "metadata": {}
  },
  {
   "cell_type": "code",
   "execution_count": 4,
   "source": [
    "run_test_kmeans(3)"
   ],
   "outputs": [
    {
     "output_type": "stream",
     "name": "stdout",
     "text": [
      "K = 3 | Fold = 1 | MAE = 0.34798853047890044\n",
      "K = 3 | Fold = 2 | MAE = 0.3261538995070379\n",
      "K = 3 | Fold = 3 | MAE = 0.3398124310596404\n",
      "K = 3 | Fold = 4 | MAE = 0.3555459624549784\n",
      "K = 3 | Fold = 5 | MAE = 0.28824506847956466\n",
      "K = 3 | Fold = 6 | MAE = 0.3397255872412453\n",
      "K = 3 | Fold = 7 | MAE = 0.3689580523762031\n",
      "K = 3 | Fold = 8 | MAE = 0.3396811227804064\n",
      "K = 3 | Fold = 9 | MAE = 0.3311430503575267\n",
      "K = 3 | Fold = 10 | MAE = 0.3429137728056443\n",
      "K = 3 | Average MAE = 0.3380167477541147\n"
     ]
    },
    {
     "output_type": "execute_result",
     "data": {
      "text/plain": [
       "(0.3380167477541147,\n",
       " [0.34798853047890044,\n",
       "  0.3261538995070379,\n",
       "  0.3398124310596404,\n",
       "  0.3555459624549784,\n",
       "  0.28824506847956466,\n",
       "  0.3397255872412453,\n",
       "  0.3689580523762031,\n",
       "  0.3396811227804064,\n",
       "  0.3311430503575267,\n",
       "  0.3429137728056443])"
      ]
     },
     "metadata": {},
     "execution_count": 4
    }
   ],
   "metadata": {}
  },
  {
   "cell_type": "code",
   "execution_count": 5,
   "source": [
    "run_test_kmeans(4)"
   ],
   "outputs": [
    {
     "output_type": "stream",
     "name": "stdout",
     "text": [
      "K = 4 | Fold = 1 | MAE = 0.35124850456736234\n",
      "K = 4 | Fold = 2 | MAE = 0.32860018286011383\n",
      "K = 4 | Fold = 3 | MAE = 0.33723463757191313\n",
      "K = 4 | Fold = 4 | MAE = 0.36851826864285103\n",
      "K = 4 | Fold = 5 | MAE = 0.3068606098713134\n",
      "K = 4 | Fold = 6 | MAE = 0.34315163525731546\n",
      "K = 4 | Fold = 7 | MAE = 0.36674155891349036\n",
      "K = 4 | Fold = 8 | MAE = 0.35143811444863465\n",
      "K = 4 | Fold = 9 | MAE = 0.3311734704809455\n",
      "K = 4 | Fold = 10 | MAE = 0.33312283908742013\n",
      "K = 4 | Average MAE = 0.34180898217013594\n"
     ]
    },
    {
     "output_type": "execute_result",
     "data": {
      "text/plain": [
       "(0.34180898217013594,\n",
       " [0.35124850456736234,\n",
       "  0.32860018286011383,\n",
       "  0.33723463757191313,\n",
       "  0.36851826864285103,\n",
       "  0.3068606098713134,\n",
       "  0.34315163525731546,\n",
       "  0.36674155891349036,\n",
       "  0.35143811444863465,\n",
       "  0.3311734704809455,\n",
       "  0.33312283908742013])"
      ]
     },
     "metadata": {},
     "execution_count": 5
    }
   ],
   "metadata": {}
  },
  {
   "cell_type": "code",
   "execution_count": 6,
   "source": [
    "run_test_kmeans(5)"
   ],
   "outputs": [
    {
     "output_type": "stream",
     "name": "stdout",
     "text": [
      "K = 5 | Fold = 1 | MAE = 0.373106092810928\n",
      "K = 5 | Fold = 2 | MAE = 0.31540959214300907\n",
      "K = 5 | Fold = 3 | MAE = 0.3295672859174648\n",
      "K = 5 | Fold = 4 | MAE = 0.33815615854883685\n",
      "K = 5 | Fold = 5 | MAE = 0.327613408741389\n",
      "K = 5 | Fold = 6 | MAE = 0.362858242544526\n",
      "K = 5 | Fold = 7 | MAE = 0.3618109529348461\n",
      "K = 5 | Fold = 8 | MAE = 0.3592257464374811\n",
      "K = 5 | Fold = 9 | MAE = 0.3361078793210253\n",
      "K = 5 | Fold = 10 | MAE = 0.3266987640120026\n",
      "K = 5 | Average MAE = 0.3430554123411509\n"
     ]
    },
    {
     "output_type": "execute_result",
     "data": {
      "text/plain": [
       "(0.3430554123411509,\n",
       " [0.373106092810928,\n",
       "  0.31540959214300907,\n",
       "  0.3295672859174648,\n",
       "  0.33815615854883685,\n",
       "  0.327613408741389,\n",
       "  0.362858242544526,\n",
       "  0.3618109529348461,\n",
       "  0.3592257464374811,\n",
       "  0.3361078793210253,\n",
       "  0.3266987640120026])"
      ]
     },
     "metadata": {},
     "execution_count": 6
    }
   ],
   "metadata": {}
  },
  {
   "cell_type": "code",
   "execution_count": 7,
   "source": [
    "run_test_kmeans(6)"
   ],
   "outputs": [
    {
     "output_type": "stream",
     "name": "stdout",
     "text": [
      "K = 6 | Fold = 1 | MAE = 0.37056769646836396\n",
      "K = 6 | Fold = 2 | MAE = 0.35956780261186\n",
      "K = 6 | Fold = 3 | MAE = 0.33887053997064587\n",
      "K = 6 | Fold = 4 | MAE = 0.3778011137691808\n",
      "K = 6 | Fold = 5 | MAE = 0.3239997705113885\n",
      "K = 6 | Fold = 6 | MAE = 0.3754160262233176\n",
      "K = 6 | Fold = 7 | MAE = 0.3716064851751875\n",
      "K = 6 | Fold = 8 | MAE = 0.37355213976148816\n",
      "K = 6 | Fold = 9 | MAE = 0.33545379026754585\n",
      "K = 6 | Fold = 10 | MAE = 0.3222689363394727\n",
      "K = 6 | Average MAE = 0.35491043010984513\n"
     ]
    },
    {
     "output_type": "execute_result",
     "data": {
      "text/plain": [
       "(0.35491043010984513,\n",
       " [0.37056769646836396,\n",
       "  0.35956780261186,\n",
       "  0.33887053997064587,\n",
       "  0.3778011137691808,\n",
       "  0.3239997705113885,\n",
       "  0.3754160262233176,\n",
       "  0.3716064851751875,\n",
       "  0.37355213976148816,\n",
       "  0.33545379026754585,\n",
       "  0.3222689363394727])"
      ]
     },
     "metadata": {},
     "execution_count": 7
    }
   ],
   "metadata": {}
  },
  {
   "cell_type": "code",
   "execution_count": 8,
   "source": [
    "run_test_kmeans(7)"
   ],
   "outputs": [
    {
     "output_type": "stream",
     "name": "stdout",
     "text": [
      "K = 7 | Fold = 1 | MAE = 0.3817285260529814\n",
      "K = 7 | Fold = 2 | MAE = 0.34355178929139096\n",
      "K = 7 | Fold = 3 | MAE = 0.3569651834027499\n",
      "K = 7 | Fold = 4 | MAE = 0.3689909837133892\n",
      "K = 7 | Fold = 5 | MAE = 0.352881391464582\n",
      "K = 7 | Fold = 6 | MAE = 0.39742347647130566\n",
      "K = 7 | Fold = 7 | MAE = 0.3751022622017403\n",
      "K = 7 | Fold = 8 | MAE = 0.389095620425185\n",
      "K = 7 | Fold = 9 | MAE = 0.36800725158122294\n",
      "K = 7 | Fold = 10 | MAE = 0.3487383069533741\n",
      "K = 7 | Average MAE = 0.3682484791557922\n"
     ]
    },
    {
     "output_type": "execute_result",
     "data": {
      "text/plain": [
       "(0.3682484791557922,\n",
       " [0.3817285260529814,\n",
       "  0.34355178929139096,\n",
       "  0.3569651834027499,\n",
       "  0.3689909837133892,\n",
       "  0.352881391464582,\n",
       "  0.39742347647130566,\n",
       "  0.3751022622017403,\n",
       "  0.389095620425185,\n",
       "  0.36800725158122294,\n",
       "  0.3487383069533741])"
      ]
     },
     "metadata": {},
     "execution_count": 8
    }
   ],
   "metadata": {}
  },
  {
   "cell_type": "code",
   "execution_count": 9,
   "source": [
    "run_test_kmeans(8)"
   ],
   "outputs": [
    {
     "output_type": "stream",
     "name": "stdout",
     "text": [
      "K = 8 | Fold = 1 | MAE = 0.39924381063749126\n",
      "K = 8 | Fold = 2 | MAE = 0.3805642937103147\n",
      "K = 8 | Fold = 3 | MAE = 0.3313140055791499\n",
      "K = 8 | Fold = 4 | MAE = 0.39428315016468723\n",
      "K = 8 | Fold = 5 | MAE = 0.35935163013305466\n",
      "K = 8 | Fold = 6 | MAE = 0.39527491156407746\n",
      "K = 8 | Fold = 7 | MAE = 0.41043995957874835\n",
      "K = 8 | Fold = 8 | MAE = 0.3992856835977131\n",
      "K = 8 | Fold = 9 | MAE = 0.35478448197184487\n",
      "K = 8 | Fold = 10 | MAE = 0.3839715919455477\n",
      "K = 8 | Average MAE = 0.3808513518882629\n"
     ]
    },
    {
     "output_type": "execute_result",
     "data": {
      "text/plain": [
       "(0.3808513518882629,\n",
       " [0.39924381063749126,\n",
       "  0.3805642937103147,\n",
       "  0.3313140055791499,\n",
       "  0.39428315016468723,\n",
       "  0.35935163013305466,\n",
       "  0.39527491156407746,\n",
       "  0.41043995957874835,\n",
       "  0.3992856835977131,\n",
       "  0.35478448197184487,\n",
       "  0.3839715919455477])"
      ]
     },
     "metadata": {},
     "execution_count": 9
    }
   ],
   "metadata": {}
  },
  {
   "cell_type": "code",
   "execution_count": 10,
   "source": [
    "run_test_kmeans(9)"
   ],
   "outputs": [
    {
     "output_type": "stream",
     "name": "stdout",
     "text": [
      "K = 9 | Fold = 1 | MAE = 0.3954976607217739\n",
      "K = 9 | Fold = 2 | MAE = 0.4010419116813777\n",
      "K = 9 | Fold = 3 | MAE = 0.39290648776018366\n",
      "K = 9 | Fold = 4 | MAE = 0.39347073482836215\n",
      "K = 9 | Fold = 5 | MAE = 0.34570866617864704\n",
      "K = 9 | Fold = 6 | MAE = 0.3923353580235377\n",
      "K = 9 | Fold = 7 | MAE = 0.3880160705549012\n",
      "K = 9 | Fold = 8 | MAE = 0.39594168025173393\n",
      "K = 9 | Fold = 9 | MAE = 0.3992902015362486\n",
      "K = 9 | Fold = 10 | MAE = 0.37448871013264523\n",
      "K = 9 | Average MAE = 0.38786974816694114\n"
     ]
    },
    {
     "output_type": "execute_result",
     "data": {
      "text/plain": [
       "(0.38786974816694114,\n",
       " [0.3954976607217739,\n",
       "  0.4010419116813777,\n",
       "  0.39290648776018366,\n",
       "  0.39347073482836215,\n",
       "  0.34570866617864704,\n",
       "  0.3923353580235377,\n",
       "  0.3880160705549012,\n",
       "  0.39594168025173393,\n",
       "  0.3992902015362486,\n",
       "  0.37448871013264523])"
      ]
     },
     "metadata": {},
     "execution_count": 10
    }
   ],
   "metadata": {}
  },
  {
   "cell_type": "code",
   "execution_count": 11,
   "source": [
    "run_test_kmeans(10)"
   ],
   "outputs": [
    {
     "output_type": "stream",
     "name": "stdout",
     "text": [
      "K = 10 | Fold = 1 | MAE = 0.407175797183838\n",
      "K = 10 | Fold = 2 | MAE = 0.403881499689244\n",
      "K = 10 | Fold = 3 | MAE = 0.3685962865654824\n",
      "K = 10 | Fold = 4 | MAE = 0.39382547072549196\n",
      "K = 10 | Fold = 5 | MAE = 0.3895603609598704\n",
      "K = 10 | Fold = 6 | MAE = 0.39631788424504905\n",
      "K = 10 | Fold = 7 | MAE = 0.4328462828448401\n",
      "K = 10 | Fold = 8 | MAE = 0.3905902982106709\n",
      "K = 10 | Fold = 9 | MAE = 0.3888046526090611\n",
      "K = 10 | Fold = 10 | MAE = 0.40802279747526415\n",
      "K = 10 | Average MAE = 0.39796213305088124\n"
     ]
    },
    {
     "output_type": "execute_result",
     "data": {
      "text/plain": [
       "(0.39796213305088124,\n",
       " [0.407175797183838,\n",
       "  0.403881499689244,\n",
       "  0.3685962865654824,\n",
       "  0.39382547072549196,\n",
       "  0.3895603609598704,\n",
       "  0.39631788424504905,\n",
       "  0.4328462828448401,\n",
       "  0.3905902982106709,\n",
       "  0.3888046526090611,\n",
       "  0.40802279747526415])"
      ]
     },
     "metadata": {},
     "execution_count": 11
    }
   ],
   "metadata": {}
  },
  {
   "cell_type": "code",
   "execution_count": 12,
   "source": [
    "run_test_kmeans(11)"
   ],
   "outputs": [
    {
     "output_type": "stream",
     "name": "stdout",
     "text": [
      "K = 11 | Fold = 1 | MAE = 0.40250669188677723\n",
      "K = 11 | Fold = 2 | MAE = 0.4047654328409819\n",
      "K = 11 | Fold = 3 | MAE = 0.3838743285009442\n",
      "K = 11 | Fold = 4 | MAE = 0.3947554374606811\n",
      "K = 11 | Fold = 5 | MAE = 0.38295878390453447\n",
      "K = 11 | Fold = 6 | MAE = 0.4062246766528812\n",
      "K = 11 | Fold = 7 | MAE = 0.4314209664994534\n",
      "K = 11 | Fold = 8 | MAE = 0.4030182218572983\n",
      "K = 11 | Fold = 9 | MAE = 0.39394690176237607\n",
      "K = 11 | Fold = 10 | MAE = 0.41789523022099345\n",
      "K = 11 | Average MAE = 0.40213666715869206\n"
     ]
    },
    {
     "output_type": "execute_result",
     "data": {
      "text/plain": [
       "(0.40213666715869206,\n",
       " [0.40250669188677723,\n",
       "  0.4047654328409819,\n",
       "  0.3838743285009442,\n",
       "  0.3947554374606811,\n",
       "  0.38295878390453447,\n",
       "  0.4062246766528812,\n",
       "  0.4314209664994534,\n",
       "  0.4030182218572983,\n",
       "  0.39394690176237607,\n",
       "  0.41789523022099345])"
      ]
     },
     "metadata": {},
     "execution_count": 12
    }
   ],
   "metadata": {}
  },
  {
   "cell_type": "code",
   "execution_count": 13,
   "source": [
    "run_test_kmeans(12)"
   ],
   "outputs": [
    {
     "output_type": "stream",
     "name": "stdout",
     "text": [
      "K = 12 | Fold = 1 | MAE = 0.4379607206793346\n",
      "K = 12 | Fold = 2 | MAE = 0.40581625670751315\n",
      "K = 12 | Fold = 3 | MAE = 0.37862380689475783\n",
      "K = 12 | Fold = 4 | MAE = 0.4434536198224261\n",
      "K = 12 | Fold = 5 | MAE = 0.3870897937785764\n",
      "K = 12 | Fold = 6 | MAE = 0.4362092754891861\n",
      "K = 12 | Fold = 7 | MAE = 0.4250397059482612\n",
      "K = 12 | Fold = 8 | MAE = 0.4262563958128036\n",
      "K = 12 | Fold = 9 | MAE = 0.4087976645619142\n",
      "K = 12 | Fold = 10 | MAE = 0.4354766866317032\n",
      "K = 12 | Average MAE = 0.4184723926326477\n"
     ]
    },
    {
     "output_type": "execute_result",
     "data": {
      "text/plain": [
       "(0.4184723926326477,\n",
       " [0.4379607206793346,\n",
       "  0.40581625670751315,\n",
       "  0.37862380689475783,\n",
       "  0.4434536198224261,\n",
       "  0.3870897937785764,\n",
       "  0.4362092754891861,\n",
       "  0.4250397059482612,\n",
       "  0.4262563958128036,\n",
       "  0.4087976645619142,\n",
       "  0.4354766866317032])"
      ]
     },
     "metadata": {},
     "execution_count": 13
    }
   ],
   "metadata": {}
  },
  {
   "cell_type": "code",
   "execution_count": 14,
   "source": [
    "run_test_kmeans(13)"
   ],
   "outputs": [
    {
     "output_type": "stream",
     "name": "stdout",
     "text": [
      "K = 13 | Fold = 1 | MAE = 0.42911975996678486\n",
      "K = 13 | Fold = 2 | MAE = 0.39731372773513396\n",
      "K = 13 | Fold = 3 | MAE = 0.3926160525206323\n",
      "K = 13 | Fold = 4 | MAE = 0.39051223077219127\n",
      "K = 13 | Fold = 5 | MAE = 0.3915553785922829\n",
      "K = 13 | Fold = 6 | MAE = 0.41158545352205755\n",
      "K = 13 | Fold = 7 | MAE = 0.45887769532997175\n",
      "K = 13 | Fold = 8 | MAE = 0.4185478604414493\n",
      "K = 13 | Fold = 9 | MAE = 0.43481918141767595\n",
      "K = 13 | Fold = 10 | MAE = 0.4201524914918192\n",
      "K = 13 | Average MAE = 0.41450998317899995\n"
     ]
    },
    {
     "output_type": "execute_result",
     "data": {
      "text/plain": [
       "(0.41450998317899995,\n",
       " [0.42911975996678486,\n",
       "  0.39731372773513396,\n",
       "  0.3926160525206323,\n",
       "  0.39051223077219127,\n",
       "  0.3915553785922829,\n",
       "  0.41158545352205755,\n",
       "  0.45887769532997175,\n",
       "  0.4185478604414493,\n",
       "  0.43481918141767595,\n",
       "  0.4201524914918192])"
      ]
     },
     "metadata": {},
     "execution_count": 14
    }
   ],
   "metadata": {}
  },
  {
   "cell_type": "code",
   "execution_count": 15,
   "source": [
    "run_test_kmeans(14)"
   ],
   "outputs": [
    {
     "output_type": "stream",
     "name": "stdout",
     "text": [
      "K = 14 | Fold = 1 | MAE = 0.4270470512051668\n",
      "K = 14 | Fold = 2 | MAE = 0.4139786589151332\n",
      "K = 14 | Fold = 3 | MAE = 0.4132416201997493\n",
      "K = 14 | Fold = 4 | MAE = 0.46062227387982146\n",
      "K = 14 | Fold = 5 | MAE = 0.4196024107274679\n",
      "K = 14 | Fold = 6 | MAE = 0.4310329603872896\n",
      "K = 14 | Fold = 7 | MAE = 0.42761675673605815\n",
      "K = 14 | Fold = 8 | MAE = 0.45063462416513533\n",
      "K = 14 | Fold = 9 | MAE = 0.4184644625596841\n",
      "K = 14 | Fold = 10 | MAE = 0.3967682324585508\n",
      "K = 14 | Average MAE = 0.42590090512340567\n"
     ]
    },
    {
     "output_type": "execute_result",
     "data": {
      "text/plain": [
       "(0.42590090512340567,\n",
       " [0.4270470512051668,\n",
       "  0.4139786589151332,\n",
       "  0.4132416201997493,\n",
       "  0.46062227387982146,\n",
       "  0.4196024107274679,\n",
       "  0.4310329603872896,\n",
       "  0.42761675673605815,\n",
       "  0.45063462416513533,\n",
       "  0.4184644625596841,\n",
       "  0.3967682324585508])"
      ]
     },
     "metadata": {},
     "execution_count": 15
    }
   ],
   "metadata": {}
  },
  {
   "cell_type": "code",
   "execution_count": 16,
   "source": [
    "run_test_kmeans(15)"
   ],
   "outputs": [
    {
     "output_type": "stream",
     "name": "stdout",
     "text": [
      "K = 15 | Fold = 1 | MAE = 0.4732320878028201\n",
      "K = 15 | Fold = 2 | MAE = 0.44833565059658037\n",
      "K = 15 | Fold = 3 | MAE = 0.4167822144243299\n",
      "K = 15 | Fold = 4 | MAE = 0.41467910741794073\n",
      "K = 15 | Fold = 5 | MAE = 0.38105250519353545\n",
      "K = 15 | Fold = 6 | MAE = 0.44748959634915586\n",
      "K = 15 | Fold = 7 | MAE = 0.44802559466849856\n",
      "K = 15 | Fold = 8 | MAE = 0.4188101128956369\n",
      "K = 15 | Fold = 9 | MAE = 0.41773873508372095\n",
      "K = 15 | Fold = 10 | MAE = 0.4334454959558419\n",
      "K = 15 | Average MAE = 0.4299591100388061\n"
     ]
    },
    {
     "output_type": "execute_result",
     "data": {
      "text/plain": [
       "(0.4299591100388061,\n",
       " [0.4732320878028201,\n",
       "  0.44833565059658037,\n",
       "  0.4167822144243299,\n",
       "  0.41467910741794073,\n",
       "  0.38105250519353545,\n",
       "  0.44748959634915586,\n",
       "  0.44802559466849856,\n",
       "  0.4188101128956369,\n",
       "  0.41773873508372095,\n",
       "  0.4334454959558419])"
      ]
     },
     "metadata": {},
     "execution_count": 16
    }
   ],
   "metadata": {}
  },
  {
   "cell_type": "code",
   "execution_count": 17,
   "source": [
    "run_test_kmeans(16)\r\n"
   ],
   "outputs": [
    {
     "output_type": "stream",
     "name": "stdout",
     "text": [
      "K = 16 | Fold = 1 | MAE = 0.4361731949300879\n",
      "K = 16 | Fold = 2 | MAE = 0.4160336989795681\n",
      "K = 16 | Fold = 3 | MAE = 0.44120302597172467\n",
      "K = 16 | Fold = 4 | MAE = 0.4429255377047962\n",
      "K = 16 | Fold = 5 | MAE = 0.39436144875750573\n",
      "K = 16 | Fold = 6 | MAE = 0.4553554839872888\n",
      "K = 16 | Fold = 7 | MAE = 0.46633295743062403\n",
      "K = 16 | Fold = 8 | MAE = 0.4412968159849209\n",
      "K = 16 | Fold = 9 | MAE = 0.4227127803518394\n",
      "K = 16 | Fold = 10 | MAE = 0.4129061969631709\n",
      "K = 16 | Average MAE = 0.4329301141061527\n"
     ]
    },
    {
     "output_type": "execute_result",
     "data": {
      "text/plain": [
       "(0.4329301141061527,\n",
       " [0.4361731949300879,\n",
       "  0.4160336989795681,\n",
       "  0.44120302597172467,\n",
       "  0.4429255377047962,\n",
       "  0.39436144875750573,\n",
       "  0.4553554839872888,\n",
       "  0.46633295743062403,\n",
       "  0.4412968159849209,\n",
       "  0.4227127803518394,\n",
       "  0.4129061969631709])"
      ]
     },
     "metadata": {},
     "execution_count": 17
    }
   ],
   "metadata": {}
  },
  {
   "cell_type": "code",
   "execution_count": 18,
   "source": [
    "run_test_kmeans(17)\r\n"
   ],
   "outputs": [
    {
     "output_type": "stream",
     "name": "stdout",
     "text": [
      "K = 17 | Fold = 1 | MAE = 0.4334235655703928\n",
      "K = 17 | Fold = 2 | MAE = 0.4483502268281737\n",
      "K = 17 | Fold = 3 | MAE = 0.42750797015500747\n",
      "K = 17 | Fold = 4 | MAE = 0.40966544795183235\n",
      "K = 17 | Fold = 5 | MAE = 0.39173956793596393\n",
      "K = 17 | Fold = 6 | MAE = 0.4540756966421831\n",
      "K = 17 | Fold = 7 | MAE = 0.47871525569867446\n",
      "K = 17 | Fold = 8 | MAE = 0.42173892223820425\n",
      "K = 17 | Fold = 9 | MAE = 0.4115043690628026\n",
      "K = 17 | Fold = 10 | MAE = 0.41782332874202543\n",
      "K = 17 | Average MAE = 0.42945443508252606\n"
     ]
    },
    {
     "output_type": "execute_result",
     "data": {
      "text/plain": [
       "(0.42945443508252606,\n",
       " [0.4334235655703928,\n",
       "  0.4483502268281737,\n",
       "  0.42750797015500747,\n",
       "  0.40966544795183235,\n",
       "  0.39173956793596393,\n",
       "  0.4540756966421831,\n",
       "  0.47871525569867446,\n",
       "  0.42173892223820425,\n",
       "  0.4115043690628026,\n",
       "  0.41782332874202543])"
      ]
     },
     "metadata": {},
     "execution_count": 18
    }
   ],
   "metadata": {}
  },
  {
   "cell_type": "code",
   "execution_count": 19,
   "source": [
    "run_test_kmeans(18)\r\n"
   ],
   "outputs": [
    {
     "output_type": "stream",
     "name": "stdout",
     "text": [
      "K = 18 | Fold = 1 | MAE = 0.4670191285276326\n",
      "K = 18 | Fold = 2 | MAE = 0.41609657878598943\n",
      "K = 18 | Fold = 3 | MAE = 0.41173631717988374\n",
      "K = 18 | Fold = 4 | MAE = 0.44690849825172985\n",
      "K = 18 | Fold = 5 | MAE = 0.36076615848967986\n",
      "K = 18 | Fold = 6 | MAE = 0.4469310443594707\n",
      "K = 18 | Fold = 7 | MAE = 0.4635907185406279\n",
      "K = 18 | Fold = 8 | MAE = 0.4389204291023312\n",
      "K = 18 | Fold = 9 | MAE = 0.42308124824241866\n",
      "K = 18 | Fold = 10 | MAE = 0.40557423916930374\n",
      "K = 18 | Average MAE = 0.42806243606490674\n"
     ]
    },
    {
     "output_type": "execute_result",
     "data": {
      "text/plain": [
       "(0.42806243606490674,\n",
       " [0.4670191285276326,\n",
       "  0.41609657878598943,\n",
       "  0.41173631717988374,\n",
       "  0.44690849825172985,\n",
       "  0.36076615848967986,\n",
       "  0.4469310443594707,\n",
       "  0.4635907185406279,\n",
       "  0.4389204291023312,\n",
       "  0.42308124824241866,\n",
       "  0.40557423916930374])"
      ]
     },
     "metadata": {},
     "execution_count": 19
    }
   ],
   "metadata": {}
  },
  {
   "cell_type": "code",
   "execution_count": 20,
   "source": [
    "run_test_kmeans(19)\r\n"
   ],
   "outputs": [
    {
     "output_type": "stream",
     "name": "stdout",
     "text": [
      "K = 19 | Fold = 1 | MAE = 0.4641285405634272\n",
      "K = 19 | Fold = 2 | MAE = 0.42563861072071596\n",
      "K = 19 | Fold = 3 | MAE = 0.4349678215021687\n",
      "K = 19 | Fold = 4 | MAE = 0.48346914867745755\n",
      "K = 19 | Fold = 5 | MAE = 0.4115618053340786\n",
      "K = 19 | Fold = 6 | MAE = 0.4378048203671502\n",
      "K = 19 | Fold = 7 | MAE = 0.4780087428622007\n",
      "K = 19 | Fold = 8 | MAE = 0.46227703031762124\n",
      "K = 19 | Fold = 9 | MAE = 0.43548014125335427\n",
      "K = 19 | Fold = 10 | MAE = 0.430748445368754\n",
      "K = 19 | Average MAE = 0.44640851069669274\n"
     ]
    },
    {
     "output_type": "execute_result",
     "data": {
      "text/plain": [
       "(0.44640851069669274,\n",
       " [0.4641285405634272,\n",
       "  0.42563861072071596,\n",
       "  0.4349678215021687,\n",
       "  0.48346914867745755,\n",
       "  0.4115618053340786,\n",
       "  0.4378048203671502,\n",
       "  0.4780087428622007,\n",
       "  0.46227703031762124,\n",
       "  0.43548014125335427,\n",
       "  0.430748445368754])"
      ]
     },
     "metadata": {},
     "execution_count": 20
    }
   ],
   "metadata": {}
  },
  {
   "cell_type": "code",
   "execution_count": 21,
   "source": [
    "run_test_kmeans(20)\r\n"
   ],
   "outputs": [
    {
     "output_type": "stream",
     "name": "stdout",
     "text": [
      "K = 20 | Fold = 1 | MAE = 0.48130803673290307\n",
      "K = 20 | Fold = 2 | MAE = 0.4553798366679371\n",
      "K = 20 | Fold = 3 | MAE = 0.455965572096049\n",
      "K = 20 | Fold = 4 | MAE = 0.4373405629746447\n",
      "K = 20 | Fold = 5 | MAE = 0.42163183364989404\n",
      "K = 20 | Fold = 6 | MAE = 0.47401105435495444\n",
      "K = 20 | Fold = 7 | MAE = 0.4696158967423548\n",
      "K = 20 | Fold = 8 | MAE = 0.4411986843432948\n",
      "K = 20 | Fold = 9 | MAE = 0.44910704356209413\n",
      "K = 20 | Fold = 10 | MAE = 0.441307325479819\n",
      "K = 20 | Average MAE = 0.4526865846603945\n"
     ]
    },
    {
     "output_type": "execute_result",
     "data": {
      "text/plain": [
       "(0.4526865846603945,\n",
       " [0.48130803673290307,\n",
       "  0.4553798366679371,\n",
       "  0.455965572096049,\n",
       "  0.4373405629746447,\n",
       "  0.42163183364989404,\n",
       "  0.47401105435495444,\n",
       "  0.4696158967423548,\n",
       "  0.4411986843432948,\n",
       "  0.44910704356209413,\n",
       "  0.441307325479819])"
      ]
     },
     "metadata": {},
     "execution_count": 21
    }
   ],
   "metadata": {}
  },
  {
   "cell_type": "markdown",
   "source": [
    "# K-MEANS K=2 - K=20 DATASET_MIN_75 (RATING 1-5)"
   ],
   "metadata": {}
  },
  {
   "cell_type": "code",
   "execution_count": 22,
   "source": [
    "run_test_kmeans(2, rating_path='dataset_5_min_75/')"
   ],
   "outputs": [
    {
     "output_type": "stream",
     "name": "stdout",
     "text": [
      "K = 2 | Fold = 1 | MAE = 0.4396851364321037\n",
      "K = 2 | Fold = 2 | MAE = 0.4292427148803832\n",
      "K = 2 | Fold = 3 | MAE = 0.43530153262090104\n",
      "K = 2 | Fold = 4 | MAE = 0.4487263132897809\n",
      "K = 2 | Fold = 5 | MAE = 0.41364654574544085\n",
      "K = 2 | Fold = 6 | MAE = 0.44086966701277336\n",
      "K = 2 | Fold = 7 | MAE = 0.42402515724817086\n",
      "K = 2 | Fold = 8 | MAE = 0.42074765876685066\n",
      "K = 2 | Fold = 9 | MAE = 0.43527756463204054\n",
      "K = 2 | Fold = 10 | MAE = 0.4329875509880375\n",
      "K = 2 | Average MAE = 0.4320509841616483\n"
     ]
    },
    {
     "output_type": "execute_result",
     "data": {
      "text/plain": [
       "(0.4320509841616483,\n",
       " [0.4396851364321037,\n",
       "  0.4292427148803832,\n",
       "  0.43530153262090104,\n",
       "  0.4487263132897809,\n",
       "  0.41364654574544085,\n",
       "  0.44086966701277336,\n",
       "  0.42402515724817086,\n",
       "  0.42074765876685066,\n",
       "  0.43527756463204054,\n",
       "  0.4329875509880375])"
      ]
     },
     "metadata": {},
     "execution_count": 22
    }
   ],
   "metadata": {}
  },
  {
   "cell_type": "code",
   "execution_count": 23,
   "source": [
    "run_test_kmeans(3, rating_path='dataset_5_min_75/')"
   ],
   "outputs": [
    {
     "output_type": "stream",
     "name": "stdout",
     "text": [
      "K = 3 | Fold = 1 | MAE = 0.4381391970398593\n",
      "K = 3 | Fold = 2 | MAE = 0.4357269918591443\n",
      "K = 3 | Fold = 3 | MAE = 0.4386880572379504\n",
      "K = 3 | Fold = 4 | MAE = 0.4533323039763089\n",
      "K = 3 | Fold = 5 | MAE = 0.4305074514228763\n",
      "K = 3 | Fold = 6 | MAE = 0.4459978177964431\n",
      "K = 3 | Fold = 7 | MAE = 0.43597314436989953\n",
      "K = 3 | Fold = 8 | MAE = 0.40721362639578323\n",
      "K = 3 | Fold = 9 | MAE = 0.4393386661188274\n",
      "K = 3 | Fold = 10 | MAE = 0.4339471127193858\n",
      "K = 3 | Average MAE = 0.4358864368936478\n"
     ]
    },
    {
     "output_type": "execute_result",
     "data": {
      "text/plain": [
       "(0.4358864368936478,\n",
       " [0.4381391970398593,\n",
       "  0.4357269918591443,\n",
       "  0.4386880572379504,\n",
       "  0.4533323039763089,\n",
       "  0.4305074514228763,\n",
       "  0.4459978177964431,\n",
       "  0.43597314436989953,\n",
       "  0.40721362639578323,\n",
       "  0.4393386661188274,\n",
       "  0.4339471127193858])"
      ]
     },
     "metadata": {},
     "execution_count": 23
    }
   ],
   "metadata": {}
  },
  {
   "cell_type": "code",
   "execution_count": 24,
   "source": [
    "run_test_kmeans(4, rating_path='dataset_5_min_75/')"
   ],
   "outputs": [
    {
     "output_type": "stream",
     "name": "stdout",
     "text": [
      "K = 4 | Fold = 1 | MAE = 0.4400598128284627\n",
      "K = 4 | Fold = 2 | MAE = 0.4464362634318924\n",
      "K = 4 | Fold = 3 | MAE = 0.44011512379750867\n",
      "K = 4 | Fold = 4 | MAE = 0.44689046192439286\n",
      "K = 4 | Fold = 5 | MAE = 0.4287115642594075\n",
      "K = 4 | Fold = 6 | MAE = 0.4521033368352809\n",
      "K = 4 | Fold = 7 | MAE = 0.43255691049819006\n",
      "K = 4 | Fold = 8 | MAE = 0.41247715431551635\n",
      "K = 4 | Fold = 9 | MAE = 0.4413018961475906\n",
      "K = 4 | Fold = 10 | MAE = 0.44546030782372853\n",
      "K = 4 | Average MAE = 0.438611283186197\n"
     ]
    },
    {
     "output_type": "execute_result",
     "data": {
      "text/plain": [
       "(0.438611283186197,\n",
       " [0.4400598128284627,\n",
       "  0.4464362634318924,\n",
       "  0.44011512379750867,\n",
       "  0.44689046192439286,\n",
       "  0.4287115642594075,\n",
       "  0.4521033368352809,\n",
       "  0.43255691049819006,\n",
       "  0.41247715431551635,\n",
       "  0.4413018961475906,\n",
       "  0.44546030782372853])"
      ]
     },
     "metadata": {},
     "execution_count": 24
    }
   ],
   "metadata": {}
  },
  {
   "cell_type": "code",
   "execution_count": 25,
   "source": [
    "run_test_kmeans(5, rating_path='dataset_5_min_75/')"
   ],
   "outputs": [
    {
     "output_type": "stream",
     "name": "stdout",
     "text": [
      "K = 5 | Fold = 1 | MAE = 0.4434084196868154\n",
      "K = 5 | Fold = 2 | MAE = 0.45084238794522086\n",
      "K = 5 | Fold = 3 | MAE = 0.44248844759652733\n",
      "K = 5 | Fold = 4 | MAE = 0.4779166596523829\n",
      "K = 5 | Fold = 5 | MAE = 0.455101006661046\n",
      "K = 5 | Fold = 6 | MAE = 0.47242538689755764\n",
      "K = 5 | Fold = 7 | MAE = 0.45969884762690516\n",
      "K = 5 | Fold = 8 | MAE = 0.4422462425242046\n",
      "K = 5 | Fold = 9 | MAE = 0.4346146081066997\n",
      "K = 5 | Fold = 10 | MAE = 0.4515672932159219\n",
      "K = 5 | Average MAE = 0.4530309299913281\n"
     ]
    },
    {
     "output_type": "execute_result",
     "data": {
      "text/plain": [
       "(0.4530309299913281,\n",
       " [0.4434084196868154,\n",
       "  0.45084238794522086,\n",
       "  0.44248844759652733,\n",
       "  0.4779166596523829,\n",
       "  0.455101006661046,\n",
       "  0.47242538689755764,\n",
       "  0.45969884762690516,\n",
       "  0.4422462425242046,\n",
       "  0.4346146081066997,\n",
       "  0.4515672932159219])"
      ]
     },
     "metadata": {},
     "execution_count": 25
    }
   ],
   "metadata": {}
  },
  {
   "cell_type": "code",
   "execution_count": 26,
   "source": [
    "run_test_kmeans(6  , rating_path='dataset_5_min_75/')"
   ],
   "outputs": [
    {
     "output_type": "stream",
     "name": "stdout",
     "text": [
      "K = 6 | Fold = 1 | MAE = 0.4612213162917317\n",
      "K = 6 | Fold = 2 | MAE = 0.4462733419602551\n",
      "K = 6 | Fold = 3 | MAE = 0.47842446852139997\n",
      "K = 6 | Fold = 4 | MAE = 0.47103588338739966\n",
      "K = 6 | Fold = 5 | MAE = 0.466378723592095\n",
      "K = 6 | Fold = 6 | MAE = 0.4816758650245841\n",
      "K = 6 | Fold = 7 | MAE = 0.47136731128680964\n",
      "K = 6 | Fold = 8 | MAE = 0.45884262689644884\n",
      "K = 6 | Fold = 9 | MAE = 0.49153474327155655\n",
      "K = 6 | Fold = 10 | MAE = 0.461252606555281\n",
      "K = 6 | Average MAE = 0.46880068867875613\n"
     ]
    },
    {
     "output_type": "execute_result",
     "data": {
      "text/plain": [
       "(0.46880068867875613,\n",
       " [0.4612213162917317,\n",
       "  0.4462733419602551,\n",
       "  0.47842446852139997,\n",
       "  0.47103588338739966,\n",
       "  0.466378723592095,\n",
       "  0.4816758650245841,\n",
       "  0.47136731128680964,\n",
       "  0.45884262689644884,\n",
       "  0.49153474327155655,\n",
       "  0.461252606555281])"
      ]
     },
     "metadata": {},
     "execution_count": 26
    }
   ],
   "metadata": {}
  },
  {
   "cell_type": "code",
   "execution_count": 27,
   "source": [
    "run_test_kmeans(7  , rating_path='dataset_5_min_75/')"
   ],
   "outputs": [
    {
     "output_type": "stream",
     "name": "stdout",
     "text": [
      "K = 7 | Fold = 1 | MAE = 0.488126839814199\n",
      "K = 7 | Fold = 2 | MAE = 0.4505681710043391\n",
      "K = 7 | Fold = 3 | MAE = 0.4943855913056742\n",
      "K = 7 | Fold = 4 | MAE = 0.48478848015765974\n",
      "K = 7 | Fold = 5 | MAE = 0.4780917461007546\n",
      "K = 7 | Fold = 6 | MAE = 0.4867321794662039\n",
      "K = 7 | Fold = 7 | MAE = 0.4783612451771053\n",
      "K = 7 | Fold = 8 | MAE = 0.45812472678626043\n",
      "K = 7 | Fold = 9 | MAE = 0.4884610076860928\n",
      "K = 7 | Fold = 10 | MAE = 0.4701197463127728\n",
      "K = 7 | Average MAE = 0.4777759733811062\n"
     ]
    },
    {
     "output_type": "execute_result",
     "data": {
      "text/plain": [
       "(0.4777759733811062,\n",
       " [0.488126839814199,\n",
       "  0.4505681710043391,\n",
       "  0.4943855913056742,\n",
       "  0.48478848015765974,\n",
       "  0.4780917461007546,\n",
       "  0.4867321794662039,\n",
       "  0.4783612451771053,\n",
       "  0.45812472678626043,\n",
       "  0.4884610076860928,\n",
       "  0.4701197463127728])"
      ]
     },
     "metadata": {},
     "execution_count": 27
    }
   ],
   "metadata": {}
  },
  {
   "cell_type": "code",
   "execution_count": 28,
   "source": [
    "run_test_kmeans(8  , rating_path='dataset_5_min_75/')"
   ],
   "outputs": [
    {
     "output_type": "stream",
     "name": "stdout",
     "text": [
      "K = 8 | Fold = 1 | MAE = 0.4918597070621065\n",
      "K = 8 | Fold = 2 | MAE = 0.4684236119395122\n",
      "K = 8 | Fold = 3 | MAE = 0.5158036703651998\n",
      "K = 8 | Fold = 4 | MAE = 0.5152044932080644\n",
      "K = 8 | Fold = 5 | MAE = 0.47005802089748644\n",
      "K = 8 | Fold = 6 | MAE = 0.49518558632185194\n",
      "K = 8 | Fold = 7 | MAE = 0.4827791773283008\n",
      "K = 8 | Fold = 8 | MAE = 0.4572252090765064\n",
      "K = 8 | Fold = 9 | MAE = 0.5194987979580723\n",
      "K = 8 | Fold = 10 | MAE = 0.47116028047635333\n",
      "K = 8 | Average MAE = 0.48871985546334545\n"
     ]
    },
    {
     "output_type": "execute_result",
     "data": {
      "text/plain": [
       "(0.48871985546334545,\n",
       " [0.4918597070621065,\n",
       "  0.4684236119395122,\n",
       "  0.5158036703651998,\n",
       "  0.5152044932080644,\n",
       "  0.47005802089748644,\n",
       "  0.49518558632185194,\n",
       "  0.4827791773283008,\n",
       "  0.4572252090765064,\n",
       "  0.5194987979580723,\n",
       "  0.47116028047635333])"
      ]
     },
     "metadata": {},
     "execution_count": 28
    }
   ],
   "metadata": {}
  },
  {
   "cell_type": "code",
   "execution_count": 29,
   "source": [
    "run_test_kmeans(9  , rating_path='dataset_5_min_75/')"
   ],
   "outputs": [
    {
     "output_type": "stream",
     "name": "stdout",
     "text": [
      "K = 9 | Fold = 1 | MAE = 0.518024169216164\n",
      "K = 9 | Fold = 2 | MAE = 0.4964958578029401\n",
      "K = 9 | Fold = 3 | MAE = 0.530408856044543\n",
      "K = 9 | Fold = 4 | MAE = 0.5065185958570884\n",
      "K = 9 | Fold = 5 | MAE = 0.5015141571741563\n",
      "K = 9 | Fold = 6 | MAE = 0.5415018262863482\n",
      "K = 9 | Fold = 7 | MAE = 0.4867985777717323\n",
      "K = 9 | Fold = 8 | MAE = 0.48434165294867676\n",
      "K = 9 | Fold = 9 | MAE = 0.4774559607404197\n",
      "K = 9 | Fold = 10 | MAE = 0.49506026982379747\n",
      "K = 9 | Average MAE = 0.5038119923665867\n"
     ]
    },
    {
     "output_type": "execute_result",
     "data": {
      "text/plain": [
       "(0.5038119923665867,\n",
       " [0.518024169216164,\n",
       "  0.4964958578029401,\n",
       "  0.530408856044543,\n",
       "  0.5065185958570884,\n",
       "  0.5015141571741563,\n",
       "  0.5415018262863482,\n",
       "  0.4867985777717323,\n",
       "  0.48434165294867676,\n",
       "  0.4774559607404197,\n",
       "  0.49506026982379747])"
      ]
     },
     "metadata": {},
     "execution_count": 29
    }
   ],
   "metadata": {}
  },
  {
   "cell_type": "code",
   "execution_count": 30,
   "source": [
    "run_test_kmeans(10  , rating_path='dataset_5_min_75/')"
   ],
   "outputs": [
    {
     "output_type": "stream",
     "name": "stdout",
     "text": [
      "K = 10 | Fold = 1 | MAE = 0.5069768022577482\n",
      "K = 10 | Fold = 2 | MAE = 0.4889491002909593\n",
      "K = 10 | Fold = 3 | MAE = 0.5338154395572631\n",
      "K = 10 | Fold = 4 | MAE = 0.5081040502140202\n",
      "K = 10 | Fold = 5 | MAE = 0.459713499734259\n",
      "K = 10 | Fold = 6 | MAE = 0.5300336332661921\n",
      "K = 10 | Fold = 7 | MAE = 0.5239399026581644\n",
      "K = 10 | Fold = 8 | MAE = 0.5059106253357734\n",
      "K = 10 | Fold = 9 | MAE = 0.5270579109055988\n",
      "K = 10 | Fold = 10 | MAE = 0.4936685839717453\n",
      "K = 10 | Average MAE = 0.5078169548191724\n"
     ]
    },
    {
     "output_type": "execute_result",
     "data": {
      "text/plain": [
       "(0.5078169548191724,\n",
       " [0.5069768022577482,\n",
       "  0.4889491002909593,\n",
       "  0.5338154395572631,\n",
       "  0.5081040502140202,\n",
       "  0.459713499734259,\n",
       "  0.5300336332661921,\n",
       "  0.5239399026581644,\n",
       "  0.5059106253357734,\n",
       "  0.5270579109055988,\n",
       "  0.4936685839717453])"
      ]
     },
     "metadata": {},
     "execution_count": 30
    }
   ],
   "metadata": {}
  },
  {
   "cell_type": "code",
   "execution_count": 31,
   "source": [
    "run_test_kmeans(11  , rating_path='dataset_5_min_75/')"
   ],
   "outputs": [
    {
     "output_type": "stream",
     "name": "stdout",
     "text": [
      "K = 11 | Fold = 1 | MAE = 0.5294658404805365\n",
      "K = 11 | Fold = 2 | MAE = 0.47923647361391514\n",
      "K = 11 | Fold = 3 | MAE = 0.5266182601251199\n",
      "K = 11 | Fold = 4 | MAE = 0.52956172683791\n",
      "K = 11 | Fold = 5 | MAE = 0.49338260423469193\n",
      "K = 11 | Fold = 6 | MAE = 0.5359405386404994\n",
      "K = 11 | Fold = 7 | MAE = 0.5138672658446524\n",
      "K = 11 | Fold = 8 | MAE = 0.4994054654993989\n",
      "K = 11 | Fold = 9 | MAE = 0.519305419607184\n",
      "K = 11 | Fold = 10 | MAE = 0.5178744088775965\n",
      "K = 11 | Average MAE = 0.5144658003761504\n"
     ]
    },
    {
     "output_type": "execute_result",
     "data": {
      "text/plain": [
       "(0.5144658003761504,\n",
       " [0.5294658404805365,\n",
       "  0.47923647361391514,\n",
       "  0.5266182601251199,\n",
       "  0.52956172683791,\n",
       "  0.49338260423469193,\n",
       "  0.5359405386404994,\n",
       "  0.5138672658446524,\n",
       "  0.4994054654993989,\n",
       "  0.519305419607184,\n",
       "  0.5178744088775965])"
      ]
     },
     "metadata": {},
     "execution_count": 31
    }
   ],
   "metadata": {}
  },
  {
   "cell_type": "code",
   "execution_count": 32,
   "source": [
    "run_test_kmeans(12  , rating_path='dataset_5_min_75/')"
   ],
   "outputs": [
    {
     "output_type": "stream",
     "name": "stdout",
     "text": [
      "K = 12 | Fold = 1 | MAE = 0.517862370415351\n",
      "K = 12 | Fold = 2 | MAE = 0.530065071019886\n",
      "K = 12 | Fold = 3 | MAE = 0.5257243320674492\n",
      "K = 12 | Fold = 4 | MAE = 0.550115640201473\n",
      "K = 12 | Fold = 5 | MAE = 0.5143554170489746\n",
      "K = 12 | Fold = 6 | MAE = 0.5491322689365143\n",
      "K = 12 | Fold = 7 | MAE = 0.5325366025345745\n",
      "K = 12 | Fold = 8 | MAE = 0.5079669346983278\n",
      "K = 12 | Fold = 9 | MAE = 0.5116740778888442\n",
      "K = 12 | Fold = 10 | MAE = 0.5165805991664782\n",
      "K = 12 | Average MAE = 0.5256013313977872\n"
     ]
    },
    {
     "output_type": "execute_result",
     "data": {
      "text/plain": [
       "(0.5256013313977872,\n",
       " [0.517862370415351,\n",
       "  0.530065071019886,\n",
       "  0.5257243320674492,\n",
       "  0.550115640201473,\n",
       "  0.5143554170489746,\n",
       "  0.5491322689365143,\n",
       "  0.5325366025345745,\n",
       "  0.5079669346983278,\n",
       "  0.5116740778888442,\n",
       "  0.5165805991664782])"
      ]
     },
     "metadata": {},
     "execution_count": 32
    }
   ],
   "metadata": {}
  },
  {
   "cell_type": "code",
   "execution_count": 33,
   "source": [
    "run_test_kmeans(13  , rating_path='dataset_5_min_75/')"
   ],
   "outputs": [
    {
     "output_type": "stream",
     "name": "stdout",
     "text": [
      "K = 13 | Fold = 1 | MAE = 0.5247143767996653\n",
      "K = 13 | Fold = 2 | MAE = 0.5007951680645956\n",
      "K = 13 | Fold = 3 | MAE = 0.546449247182198\n",
      "K = 13 | Fold = 4 | MAE = 0.5245940877860118\n",
      "K = 13 | Fold = 5 | MAE = 0.5109370236907443\n",
      "K = 13 | Fold = 6 | MAE = 0.5646958256092788\n",
      "K = 13 | Fold = 7 | MAE = 0.5141276992994482\n",
      "K = 13 | Fold = 8 | MAE = 0.5315710612191842\n",
      "K = 13 | Fold = 9 | MAE = 0.5237816958554998\n",
      "K = 13 | Fold = 10 | MAE = 0.5058047449920725\n",
      "K = 13 | Average MAE = 0.5247470930498699\n"
     ]
    },
    {
     "output_type": "execute_result",
     "data": {
      "text/plain": [
       "(0.5247470930498699,\n",
       " [0.5247143767996653,\n",
       "  0.5007951680645956,\n",
       "  0.546449247182198,\n",
       "  0.5245940877860118,\n",
       "  0.5109370236907443,\n",
       "  0.5646958256092788,\n",
       "  0.5141276992994482,\n",
       "  0.5315710612191842,\n",
       "  0.5237816958554998,\n",
       "  0.5058047449920725])"
      ]
     },
     "metadata": {},
     "execution_count": 33
    }
   ],
   "metadata": {}
  },
  {
   "cell_type": "code",
   "execution_count": 34,
   "source": [
    "run_test_kmeans(14  , rating_path='dataset_5_min_75/')"
   ],
   "outputs": [
    {
     "output_type": "stream",
     "name": "stdout",
     "text": [
      "K = 14 | Fold = 1 | MAE = 0.5483064855624753\n",
      "K = 14 | Fold = 2 | MAE = 0.5225449595533048\n",
      "K = 14 | Fold = 3 | MAE = 0.548298542582218\n",
      "K = 14 | Fold = 4 | MAE = 0.5410259587831767\n",
      "K = 14 | Fold = 5 | MAE = 0.5321012647211115\n",
      "K = 14 | Fold = 6 | MAE = 0.5390129380856704\n",
      "K = 14 | Fold = 7 | MAE = 0.5370195459742159\n",
      "K = 14 | Fold = 8 | MAE = 0.5465749206736471\n",
      "K = 14 | Fold = 9 | MAE = 0.5379188579858523\n",
      "K = 14 | Fold = 10 | MAE = 0.5530471818385472\n",
      "K = 14 | Average MAE = 0.5405850655760219\n"
     ]
    },
    {
     "output_type": "execute_result",
     "data": {
      "text/plain": [
       "(0.5405850655760219,\n",
       " [0.5483064855624753,\n",
       "  0.5225449595533048,\n",
       "  0.548298542582218,\n",
       "  0.5410259587831767,\n",
       "  0.5321012647211115,\n",
       "  0.5390129380856704,\n",
       "  0.5370195459742159,\n",
       "  0.5465749206736471,\n",
       "  0.5379188579858523,\n",
       "  0.5530471818385472])"
      ]
     },
     "metadata": {},
     "execution_count": 34
    }
   ],
   "metadata": {}
  },
  {
   "cell_type": "code",
   "execution_count": 35,
   "source": [
    "run_test_kmeans(15  , rating_path='dataset_5_min_75/')"
   ],
   "outputs": [
    {
     "output_type": "stream",
     "name": "stdout",
     "text": [
      "K = 15 | Fold = 1 | MAE = 0.5230441147463418\n",
      "K = 15 | Fold = 2 | MAE = 0.5379234105146571\n",
      "K = 15 | Fold = 3 | MAE = 0.5403629611769499\n",
      "K = 15 | Fold = 4 | MAE = 0.5384754119593412\n",
      "K = 15 | Fold = 5 | MAE = 0.5296092962637492\n",
      "K = 15 | Fold = 6 | MAE = 0.5409685261882339\n",
      "K = 15 | Fold = 7 | MAE = 0.5334269614765749\n",
      "K = 15 | Fold = 8 | MAE = 0.5048830052472344\n",
      "K = 15 | Fold = 9 | MAE = 0.5335247520796743\n",
      "K = 15 | Fold = 10 | MAE = 0.513731180309726\n",
      "K = 15 | Average MAE = 0.5295949619962482\n"
     ]
    },
    {
     "output_type": "execute_result",
     "data": {
      "text/plain": [
       "(0.5295949619962482,\n",
       " [0.5230441147463418,\n",
       "  0.5379234105146571,\n",
       "  0.5403629611769499,\n",
       "  0.5384754119593412,\n",
       "  0.5296092962637492,\n",
       "  0.5409685261882339,\n",
       "  0.5334269614765749,\n",
       "  0.5048830052472344,\n",
       "  0.5335247520796743,\n",
       "  0.513731180309726])"
      ]
     },
     "metadata": {},
     "execution_count": 35
    }
   ],
   "metadata": {}
  },
  {
   "cell_type": "code",
   "execution_count": 36,
   "source": [
    "run_test_kmeans(16  , rating_path='dataset_5_min_75/')"
   ],
   "outputs": [
    {
     "output_type": "stream",
     "name": "stdout",
     "text": [
      "K = 16 | Fold = 1 | MAE = 0.5392714388971228\n",
      "K = 16 | Fold = 2 | MAE = 0.5256242530774029\n",
      "K = 16 | Fold = 3 | MAE = 0.5535114951785042\n",
      "K = 16 | Fold = 4 | MAE = 0.532863798543893\n",
      "K = 16 | Fold = 5 | MAE = 0.5318914416281016\n",
      "K = 16 | Fold = 6 | MAE = 0.5535022334377493\n",
      "K = 16 | Fold = 7 | MAE = 0.5417899656891763\n",
      "K = 16 | Fold = 8 | MAE = 0.5277425925394343\n",
      "K = 16 | Fold = 9 | MAE = 0.5550180303994802\n",
      "K = 16 | Fold = 10 | MAE = 0.5291043316089961\n",
      "K = 16 | Average MAE = 0.5390319580999859\n"
     ]
    },
    {
     "output_type": "execute_result",
     "data": {
      "text/plain": [
       "(0.5390319580999859,\n",
       " [0.5392714388971228,\n",
       "  0.5256242530774029,\n",
       "  0.5535114951785042,\n",
       "  0.532863798543893,\n",
       "  0.5318914416281016,\n",
       "  0.5535022334377493,\n",
       "  0.5417899656891763,\n",
       "  0.5277425925394343,\n",
       "  0.5550180303994802,\n",
       "  0.5291043316089961])"
      ]
     },
     "metadata": {},
     "execution_count": 36
    }
   ],
   "metadata": {}
  },
  {
   "cell_type": "code",
   "execution_count": 37,
   "source": [
    "run_test_kmeans(17  , rating_path='dataset_5_min_75/')"
   ],
   "outputs": [
    {
     "output_type": "stream",
     "name": "stdout",
     "text": [
      "K = 17 | Fold = 1 | MAE = 0.5527316131125778\n",
      "K = 17 | Fold = 2 | MAE = 0.5394824381543252\n",
      "K = 17 | Fold = 3 | MAE = 0.5627157923962955\n",
      "K = 17 | Fold = 4 | MAE = 0.5653650254170405\n",
      "K = 17 | Fold = 5 | MAE = 0.5235132813790987\n",
      "K = 17 | Fold = 6 | MAE = 0.5643734982302033\n",
      "K = 17 | Fold = 7 | MAE = 0.5564219214824719\n",
      "K = 17 | Fold = 8 | MAE = 0.5258778172871961\n",
      "K = 17 | Fold = 9 | MAE = 0.5608451538327273\n",
      "K = 17 | Fold = 10 | MAE = 0.5178669221545517\n",
      "K = 17 | Average MAE = 0.5469193463446488\n"
     ]
    },
    {
     "output_type": "execute_result",
     "data": {
      "text/plain": [
       "(0.5469193463446488,\n",
       " [0.5527316131125778,\n",
       "  0.5394824381543252,\n",
       "  0.5627157923962955,\n",
       "  0.5653650254170405,\n",
       "  0.5235132813790987,\n",
       "  0.5643734982302033,\n",
       "  0.5564219214824719,\n",
       "  0.5258778172871961,\n",
       "  0.5608451538327273,\n",
       "  0.5178669221545517])"
      ]
     },
     "metadata": {},
     "execution_count": 37
    }
   ],
   "metadata": {}
  },
  {
   "cell_type": "code",
   "execution_count": 38,
   "source": [
    "run_test_kmeans(18  , rating_path='dataset_5_min_75/')"
   ],
   "outputs": [
    {
     "output_type": "stream",
     "name": "stdout",
     "text": [
      "K = 18 | Fold = 1 | MAE = 0.5568388955400155\n",
      "K = 18 | Fold = 2 | MAE = 0.5475718553809551\n",
      "K = 18 | Fold = 3 | MAE = 0.5530702872406094\n",
      "K = 18 | Fold = 4 | MAE = 0.5530802288482657\n",
      "K = 18 | Fold = 5 | MAE = 0.5454080209234478\n",
      "K = 18 | Fold = 6 | MAE = 0.5561041653388764\n",
      "K = 18 | Fold = 7 | MAE = 0.5572444183281089\n",
      "K = 18 | Fold = 8 | MAE = 0.5482444279324776\n",
      "K = 18 | Fold = 9 | MAE = 0.5597296254508153\n",
      "K = 18 | Fold = 10 | MAE = 0.543344849581046\n",
      "K = 18 | Average MAE = 0.5520636774564618\n"
     ]
    },
    {
     "output_type": "execute_result",
     "data": {
      "text/plain": [
       "(0.5520636774564618,\n",
       " [0.5568388955400155,\n",
       "  0.5475718553809551,\n",
       "  0.5530702872406094,\n",
       "  0.5530802288482657,\n",
       "  0.5454080209234478,\n",
       "  0.5561041653388764,\n",
       "  0.5572444183281089,\n",
       "  0.5482444279324776,\n",
       "  0.5597296254508153,\n",
       "  0.543344849581046])"
      ]
     },
     "metadata": {},
     "execution_count": 38
    }
   ],
   "metadata": {}
  },
  {
   "cell_type": "code",
   "execution_count": 39,
   "source": [
    "run_test_kmeans(19  , rating_path='dataset_5_min_75/')"
   ],
   "outputs": [
    {
     "output_type": "stream",
     "name": "stdout",
     "text": [
      "K = 19 | Fold = 1 | MAE = 0.5369402956243594\n",
      "K = 19 | Fold = 2 | MAE = 0.5295697752152191\n",
      "K = 19 | Fold = 3 | MAE = 0.5695092936982309\n",
      "K = 19 | Fold = 4 | MAE = 0.5575303610132736\n",
      "K = 19 | Fold = 5 | MAE = 0.5291421369950762\n",
      "K = 19 | Fold = 6 | MAE = 0.5858301898133796\n",
      "K = 19 | Fold = 7 | MAE = 0.5580769555729703\n",
      "K = 19 | Fold = 8 | MAE = 0.5639878497057698\n",
      "K = 19 | Fold = 9 | MAE = 0.5552993210403772\n",
      "K = 19 | Fold = 10 | MAE = 0.5194006127323831\n",
      "K = 19 | Average MAE = 0.5505286791411039\n"
     ]
    },
    {
     "output_type": "execute_result",
     "data": {
      "text/plain": [
       "(0.5505286791411039,\n",
       " [0.5369402956243594,\n",
       "  0.5295697752152191,\n",
       "  0.5695092936982309,\n",
       "  0.5575303610132736,\n",
       "  0.5291421369950762,\n",
       "  0.5858301898133796,\n",
       "  0.5580769555729703,\n",
       "  0.5639878497057698,\n",
       "  0.5552993210403772,\n",
       "  0.5194006127323831])"
      ]
     },
     "metadata": {},
     "execution_count": 39
    }
   ],
   "metadata": {}
  },
  {
   "cell_type": "code",
   "execution_count": 40,
   "source": [
    "run_test_kmeans(20  , rating_path='dataset_5_min_75/')"
   ],
   "outputs": [
    {
     "output_type": "stream",
     "name": "stdout",
     "text": [
      "K = 20 | Fold = 1 | MAE = 0.5421944564887871\n",
      "K = 20 | Fold = 2 | MAE = 0.5436573541736316\n",
      "K = 20 | Fold = 3 | MAE = 0.5893892782976768\n",
      "K = 20 | Fold = 4 | MAE = 0.5781461537255062\n",
      "K = 20 | Fold = 5 | MAE = 0.5452472097693645\n",
      "K = 20 | Fold = 6 | MAE = 0.5887272761320671\n",
      "K = 20 | Fold = 7 | MAE = 0.5521924286847029\n",
      "K = 20 | Fold = 8 | MAE = 0.5511924669607274\n",
      "K = 20 | Fold = 9 | MAE = 0.5531886205144056\n",
      "K = 20 | Fold = 10 | MAE = 0.5497676773647759\n",
      "K = 20 | Average MAE = 0.5593702922111644\n"
     ]
    },
    {
     "output_type": "execute_result",
     "data": {
      "text/plain": [
       "(0.5593702922111644,\n",
       " [0.5421944564887871,\n",
       "  0.5436573541736316,\n",
       "  0.5893892782976768,\n",
       "  0.5781461537255062,\n",
       "  0.5452472097693645,\n",
       "  0.5887272761320671,\n",
       "  0.5521924286847029,\n",
       "  0.5511924669607274,\n",
       "  0.5531886205144056,\n",
       "  0.5497676773647759])"
      ]
     },
     "metadata": {},
     "execution_count": 40
    }
   ],
   "metadata": {}
  }
 ],
 "metadata": {
  "orig_nbformat": 4,
  "language_info": {
   "name": "python",
   "version": "3.9.1",
   "mimetype": "text/x-python",
   "codemirror_mode": {
    "name": "ipython",
    "version": 3
   },
   "pygments_lexer": "ipython3",
   "nbconvert_exporter": "python",
   "file_extension": ".py"
  },
  "kernelspec": {
   "name": "python3",
   "display_name": "Python 3.9.1 64-bit"
  },
  "interpreter": {
   "hash": "6093fa3b248174b374b709111c412862ed9d642d68334f11c425669a3f6da8b1"
  }
 },
 "nbformat": 4,
 "nbformat_minor": 2
}