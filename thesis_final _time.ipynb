{
 "cells": [
  {
   "cell_type": "markdown",
   "source": [
    "# Main Function"
   ],
   "metadata": {}
  },
  {
   "cell_type": "code",
   "execution_count": null,
   "source": [
    "from data_prep import load_rating_data\r\n",
    "from cluster import kmeans_clustering\r\n",
    "from evaluate import time_evaluate\r\n",
    "from IPython.display import clear_output"
   ],
   "outputs": [],
   "metadata": {}
  },
  {
   "cell_type": "code",
   "execution_count": null,
   "source": [
    "def run_test_kmeans(n_clusters, rating_path = 'dataset_5_min_100/', item_path = 'comic_genre.csv'):\r\n",
    "\r\n",
    "    total_mae = []\r\n",
    "    total_time = []\r\n",
    "\r\n",
    "    # 10-Fold Cross-Validation\r\n",
    "    for i in range(1, 11):\r\n",
    "        # load dataset\r\n",
    "        print('K-Means (k={}) | Fold = {}'.format(n_clusters, i))\r\n",
    "        print('Loading Data...')\r\n",
    "        train_data, cluster_data = load_rating_data('train', number=i, rating_path=rating_path, item_path=item_path)\r\n",
    "        test_data = load_rating_data('test', number=i, rating_path=rating_path, item_path=item_path)\r\n",
    "        print('Data Loaded...')\r\n",
    "\r\n",
    "        # perform clustering\r\n",
    "        print('Clustering Starts')\r\n",
    "        ratings_cluster, cluster_centroids = kmeans_clustering(n_clusters, cluster_data, train_data)\r\n",
    "        print('Clustering Finished')\r\n",
    "\r\n",
    "        # predict and evaluate\r\n",
    "        print('Predicting and Evaluating Starts')\r\n",
    "        mae, time = time_evaluate(test_data, ratings_cluster, cluster_centroids)\r\n",
    "        total_mae.append(mae)\r\n",
    "        total_time.append(time)\r\n",
    "        print('Predicting and Evaluating Finished')\r\n",
    "\r\n",
    "        clear_output(wait=True)\r\n",
    "        print('K = {} | Fold = {} | MAE = {} | Time Elapsed = {}\\n'.format(n_clusters, i, mae, time))\r\n",
    "\r\n",
    "\r\n",
    "    clear_output(wait=True)\r\n",
    "    for i in range(len(total_mae)):\r\n",
    "        print('K = {} | Fold = {} | MAE = {} | Time Elapsed = {}'.format(n_clusters, i+1, total_mae[i], total_time[i]))\r\n",
    "    avg_mae = sum(total_mae)/10\r\n",
    "    avg_time = sum(total_time)/10\r\n",
    "    print('K = {} | Average MAE = {} | Average Time = {}'.format(n_clusters, avg_mae, avg_time))\r\n",
    "\r\n",
    "    # return avg_mae, total_mae"
   ],
   "outputs": [],
   "metadata": {}
  },
  {
   "cell_type": "markdown",
   "source": [
    "# No Clustering"
   ],
   "metadata": {}
  },
  {
   "cell_type": "code",
   "execution_count": null,
   "source": [
    "run_test_kmeans(1)"
   ],
   "outputs": [],
   "metadata": {}
  },
  {
   "cell_type": "code",
   "execution_count": null,
   "source": [
    "run_test_kmeans(1, rating_path='dataset_5_min_75/')"
   ],
   "outputs": [],
   "metadata": {}
  },
  {
   "cell_type": "markdown",
   "source": [
    "# K-Means K=2 - K=20 DATASET_MIN_100 (RATING 1-5)"
   ],
   "metadata": {}
  },
  {
   "cell_type": "code",
   "execution_count": null,
   "source": [
    "run_test_kmeans(2)"
   ],
   "outputs": [],
   "metadata": {}
  },
  {
   "cell_type": "code",
   "execution_count": null,
   "source": [
    "run_test_kmeans(3)"
   ],
   "outputs": [],
   "metadata": {}
  },
  {
   "cell_type": "code",
   "execution_count": null,
   "source": [
    "run_test_kmeans(4)"
   ],
   "outputs": [],
   "metadata": {}
  },
  {
   "cell_type": "code",
   "execution_count": null,
   "source": [
    "run_test_kmeans(5)"
   ],
   "outputs": [],
   "metadata": {}
  },
  {
   "cell_type": "code",
   "execution_count": null,
   "source": [
    "run_test_kmeans(6)"
   ],
   "outputs": [],
   "metadata": {}
  },
  {
   "cell_type": "code",
   "execution_count": null,
   "source": [
    "run_test_kmeans(7)"
   ],
   "outputs": [],
   "metadata": {}
  },
  {
   "cell_type": "code",
   "execution_count": null,
   "source": [
    "run_test_kmeans(8)"
   ],
   "outputs": [],
   "metadata": {}
  },
  {
   "cell_type": "code",
   "execution_count": null,
   "source": [
    "run_test_kmeans(9)"
   ],
   "outputs": [],
   "metadata": {}
  },
  {
   "cell_type": "code",
   "execution_count": null,
   "source": [
    "run_test_kmeans(10)"
   ],
   "outputs": [],
   "metadata": {}
  },
  {
   "cell_type": "code",
   "execution_count": null,
   "source": [
    "run_test_kmeans(11)"
   ],
   "outputs": [],
   "metadata": {}
  },
  {
   "cell_type": "code",
   "execution_count": null,
   "source": [
    "run_test_kmeans(12)"
   ],
   "outputs": [],
   "metadata": {}
  },
  {
   "cell_type": "code",
   "execution_count": null,
   "source": [
    "run_test_kmeans(13)"
   ],
   "outputs": [],
   "metadata": {}
  },
  {
   "cell_type": "code",
   "execution_count": null,
   "source": [
    "run_test_kmeans(14)"
   ],
   "outputs": [],
   "metadata": {}
  },
  {
   "cell_type": "code",
   "execution_count": null,
   "source": [
    "run_test_kmeans(15)"
   ],
   "outputs": [],
   "metadata": {}
  },
  {
   "cell_type": "code",
   "execution_count": null,
   "source": [
    "run_test_kmeans(16)\r\n"
   ],
   "outputs": [],
   "metadata": {}
  },
  {
   "cell_type": "code",
   "execution_count": null,
   "source": [
    "run_test_kmeans(17)\r\n"
   ],
   "outputs": [],
   "metadata": {}
  },
  {
   "cell_type": "code",
   "execution_count": null,
   "source": [
    "run_test_kmeans(18)\r\n"
   ],
   "outputs": [],
   "metadata": {}
  },
  {
   "cell_type": "code",
   "execution_count": null,
   "source": [
    "run_test_kmeans(19)\r\n"
   ],
   "outputs": [],
   "metadata": {}
  },
  {
   "cell_type": "code",
   "execution_count": null,
   "source": [
    "run_test_kmeans(20)\r\n"
   ],
   "outputs": [],
   "metadata": {}
  },
  {
   "cell_type": "markdown",
   "source": [
    "# K-MEANS K=2 - K=20 DATASET_MIN_75 (RATING 1-5)"
   ],
   "metadata": {}
  },
  {
   "cell_type": "code",
   "execution_count": null,
   "source": [
    "run_test_kmeans(2, rating_path='dataset_5_min_75/')"
   ],
   "outputs": [],
   "metadata": {}
  },
  {
   "cell_type": "code",
   "execution_count": null,
   "source": [
    "run_test_kmeans(3, rating_path='dataset_5_min_75/')"
   ],
   "outputs": [],
   "metadata": {}
  },
  {
   "cell_type": "code",
   "execution_count": null,
   "source": [
    "run_test_kmeans(4, rating_path='dataset_5_min_75/')"
   ],
   "outputs": [],
   "metadata": {}
  },
  {
   "cell_type": "code",
   "execution_count": null,
   "source": [
    "run_test_kmeans(5, rating_path='dataset_5_min_75/')"
   ],
   "outputs": [],
   "metadata": {}
  },
  {
   "cell_type": "code",
   "execution_count": null,
   "source": [
    "run_test_kmeans(6  , rating_path='dataset_5_min_75/')"
   ],
   "outputs": [],
   "metadata": {}
  },
  {
   "cell_type": "code",
   "execution_count": null,
   "source": [
    "run_test_kmeans(7  , rating_path='dataset_5_min_75/')"
   ],
   "outputs": [],
   "metadata": {}
  },
  {
   "cell_type": "code",
   "execution_count": null,
   "source": [
    "run_test_kmeans(8  , rating_path='dataset_5_min_75/')"
   ],
   "outputs": [],
   "metadata": {}
  },
  {
   "cell_type": "code",
   "execution_count": null,
   "source": [
    "run_test_kmeans(9  , rating_path='dataset_5_min_75/')"
   ],
   "outputs": [],
   "metadata": {}
  },
  {
   "cell_type": "code",
   "execution_count": null,
   "source": [
    "run_test_kmeans(10  , rating_path='dataset_5_min_75/')"
   ],
   "outputs": [],
   "metadata": {}
  },
  {
   "cell_type": "code",
   "execution_count": null,
   "source": [
    "run_test_kmeans(11  , rating_path='dataset_5_min_75/')"
   ],
   "outputs": [],
   "metadata": {}
  },
  {
   "cell_type": "code",
   "execution_count": null,
   "source": [
    "run_test_kmeans(12  , rating_path='dataset_5_min_75/')"
   ],
   "outputs": [],
   "metadata": {}
  },
  {
   "cell_type": "code",
   "execution_count": null,
   "source": [
    "run_test_kmeans(13  , rating_path='dataset_5_min_75/')"
   ],
   "outputs": [],
   "metadata": {}
  },
  {
   "cell_type": "code",
   "execution_count": null,
   "source": [
    "run_test_kmeans(14  , rating_path='dataset_5_min_75/')"
   ],
   "outputs": [],
   "metadata": {}
  },
  {
   "cell_type": "code",
   "execution_count": null,
   "source": [
    "run_test_kmeans(15  , rating_path='dataset_5_min_75/')"
   ],
   "outputs": [],
   "metadata": {}
  },
  {
   "cell_type": "code",
   "execution_count": null,
   "source": [
    "run_test_kmeans(16  , rating_path='dataset_5_min_75/')"
   ],
   "outputs": [],
   "metadata": {}
  },
  {
   "cell_type": "code",
   "execution_count": null,
   "source": [
    "run_test_kmeans(17  , rating_path='dataset_5_min_75/')"
   ],
   "outputs": [],
   "metadata": {}
  },
  {
   "cell_type": "code",
   "execution_count": null,
   "source": [
    "run_test_kmeans(18  , rating_path='dataset_5_min_75/')"
   ],
   "outputs": [],
   "metadata": {}
  },
  {
   "cell_type": "code",
   "execution_count": null,
   "source": [
    "run_test_kmeans(19  , rating_path='dataset_5_min_75/')"
   ],
   "outputs": [],
   "metadata": {}
  },
  {
   "cell_type": "code",
   "execution_count": null,
   "source": [
    "run_test_kmeans(20  , rating_path='dataset_5_min_75/')"
   ],
   "outputs": [],
   "metadata": {}
  }
 ],
 "metadata": {
  "orig_nbformat": 4,
  "language_info": {
   "name": "python",
   "version": "3.9.1",
   "mimetype": "text/x-python",
   "codemirror_mode": {
    "name": "ipython",
    "version": 3
   },
   "pygments_lexer": "ipython3",
   "nbconvert_exporter": "python",
   "file_extension": ".py"
  },
  "kernelspec": {
   "name": "python3",
   "display_name": "Python 3.9.1 64-bit"
  },
  "interpreter": {
   "hash": "6093fa3b248174b374b709111c412862ed9d642d68334f11c425669a3f6da8b1"
  }
 },
 "nbformat": 4,
 "nbformat_minor": 2
}