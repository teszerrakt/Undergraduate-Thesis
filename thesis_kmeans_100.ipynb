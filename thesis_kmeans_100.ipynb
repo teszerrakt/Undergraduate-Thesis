{
 "cells": [
  {
   "cell_type": "markdown",
   "metadata": {},
   "source": [
    "# Main Function"
   ]
  },
  {
   "cell_type": "code",
   "execution_count": 1,
   "metadata": {},
   "outputs": [],
   "source": [
    "from data_prep import load_rating_data\r\n",
    "from cluster import kmeans_clustering\r\n",
    "from evaluate import time_evaluate\r\n",
    "from IPython.display import clear_output"
   ]
  },
  {
   "cell_type": "code",
   "execution_count": 2,
   "metadata": {},
   "outputs": [],
   "source": [
    "def run_test_kmeans(n_clusters, rating_path = 'dataset_5_min_100/', item_path = 'comic_genre.csv'):\r\n",
    "\r\n",
    "    total_mae = []\r\n",
    "    total_time = []\r\n",
    "\r\n",
    "    # 10-Fold Cross-Validation\r\n",
    "    for i in range(1, 11):\r\n",
    "        # load dataset\r\n",
    "        print('K-Means (k={}) | Fold = {}'.format(n_clusters, i))\r\n",
    "        print('Loading Data...')\r\n",
    "        train_data, cluster_data = load_rating_data('train', number=i, rating_path=rating_path, item_path=item_path)\r\n",
    "        test_data = load_rating_data('test', number=i, rating_path=rating_path, item_path=item_path)\r\n",
    "        print('Data Loaded...')\r\n",
    "\r\n",
    "        # perform clustering\r\n",
    "        print('Clustering Starts')\r\n",
    "        ratings_cluster, cluster_centroids = kmeans_clustering(n_clusters, cluster_data, train_data)\r\n",
    "        print('Clustering Finished')\r\n",
    "\r\n",
    "        # predict and evaluate\r\n",
    "        print('Predicting and Evaluating Starts')\r\n",
    "        mae, time = time_evaluate(test_data, ratings_cluster, cluster_centroids)\r\n",
    "        total_mae.append(mae)\r\n",
    "        total_time.append(time)\r\n",
    "        print('Predicting and Evaluating Finished')\r\n",
    "\r\n",
    "        clear_output(wait=True)\r\n",
    "        print('K = {} | Fold = {} | MAE = {} | Time Elapsed = {}\\n'.format(n_clusters, i, mae, time))\r\n",
    "\r\n",
    "\r\n",
    "    clear_output(wait=True)\r\n",
    "    for i in range(len(total_mae)):\r\n",
    "        print('K = {} | Fold = {} | MAE = {} | Time Elapsed = {}'.format(n_clusters, i+1, total_mae[i], total_time[i]))\r\n",
    "    avg_mae = sum(total_mae)/10\r\n",
    "    avg_time = sum(total_time)/10\r\n",
    "    print('K = {} | Average MAE = {} | Average Time = {}'.format(n_clusters, avg_mae, avg_time))\r\n",
    "\r\n",
    "    # return avg_mae, total_mae"
   ]
  },
  {
   "cell_type": "markdown",
   "metadata": {},
   "source": [
    "# No Clustering"
   ]
  },
  {
   "cell_type": "code",
   "execution_count": null,
   "metadata": {},
   "outputs": [
    {
     "name": "stdout",
     "output_type": "stream",
     "text": [
      "K = 1 | Fold = 1 | MAE = 0.7664629899147171 | Time Elapsed = 0.032553857793517854\n",
      "K = 1 | Fold = 2 | MAE = 0.7526501681974113 | Time Elapsed = 0.02245174240598831\n",
      "K = 1 | Fold = 3 | MAE = 0.7585291005456697 | Time Elapsed = 0.025870626435947945\n",
      "K = 1 | Fold = 4 | MAE = 0.753070837047046 | Time Elapsed = 0.033185455845169964\n",
      "K = 1 | Fold = 5 | MAE = 0.7467591200890978 | Time Elapsed = 0.027192258185436267\n",
      "K = 1 | Fold = 6 | MAE = 0.7742443044843373 | Time Elapsed = 0.030894806349046296\n",
      "K = 1 | Fold = 7 | MAE = 0.7810748643447544 | Time Elapsed = 0.025848505154448698\n",
      "K = 1 | Fold = 8 | MAE = 0.7481843217044939 | Time Elapsed = 0.03259586712383863\n",
      "K = 1 | Fold = 9 | MAE = 0.7639005343209175 | Time Elapsed = 0.02782667140957194\n",
      "K = 1 | Fold = 10 | MAE = 0.7521098472749863 | Time Elapsed = 0.02327752751330269\n",
      "K = 1 | Average MAE = 0.7596986087923431 | Average Time = 0.02816973182162686\n"
     ]
    }
   ],
   "source": [
    "run_test_kmeans(1)"
   ]
  },
  {
   "cell_type": "markdown",
   "metadata": {},
   "source": [
    "# K-Means K=2 - K=20 DATASET_MIN_100 (RATING 1-5)"
   ]
  },
  {
   "cell_type": "code",
   "execution_count": null,
   "metadata": {},
   "outputs": [
    {
     "name": "stdout",
     "output_type": "stream",
     "text": [
      "K = 2 | Fold = 9 | MAE = 0.7728612006089263 | Time Elapsed = 0.02388533320370689\n",
      "\n",
      "K-Means (k=2) | Fold = 10\n",
      "Loading Data...\n",
      "Data Loaded...\n",
      "Clustering Starts\n",
      "Clustering Finished\n",
      "Predicting and Evaluating Starts\n"
     ]
    }
   ],
   "source": [
    "run_test_kmeans(2)"
   ]
  },
  {
   "cell_type": "code",
   "execution_count": null,
   "metadata": {},
   "outputs": [
    {
     "name": "stdout",
     "output_type": "stream",
     "text": [
      "K = 3 | Fold = 8 | MAE = 0.8115172515713698 | Time Elapsed = 0.024517205193695747\n",
      "\n",
      "K-Means (k=3) | Fold = 9\n",
      "Loading Data...\n",
      "Data Loaded...\n",
      "Clustering Starts\n",
      "Clustering Finished\n",
      "Predicting and Evaluating Starts\n"
     ]
    }
   ],
   "source": [
    "run_test_kmeans(3)"
   ]
  },
  {
   "cell_type": "code",
   "execution_count": null,
   "metadata": {},
   "outputs": [
    {
     "name": "stdout",
     "output_type": "stream",
     "text": [
      "K = 4 | Fold = 1 | MAE = 0.823297970058803 | Time Elapsed = 0.019340303683241404\n",
      "K = 4 | Fold = 2 | MAE = 0.8093988009774681 | Time Elapsed = 0.021639585832628348\n",
      "K = 4 | Fold = 3 | MAE = 0.8184366008064919 | Time Elapsed = 0.022063913008134314\n",
      "K = 4 | Fold = 4 | MAE = 0.8334204110822212 | Time Elapsed = 0.019063533812764336\n",
      "K = 4 | Fold = 5 | MAE = 0.8215187211974624 | Time Elapsed = 0.019459745714621755\n",
      "K = 4 | Fold = 6 | MAE = 0.8303084106565898 | Time Elapsed = 0.017916509826709358\n",
      "K = 4 | Fold = 7 | MAE = 0.8396559253299799 | Time Elapsed = 0.019029659635577664\n",
      "K = 4 | Fold = 8 | MAE = 0.8172280868140661 | Time Elapsed = 0.018156359536801517\n",
      "K = 4 | Fold = 9 | MAE = 0.8309108887212928 | Time Elapsed = 0.019350711832331034\n",
      "K = 4 | Fold = 10 | MAE = 0.8246125539488668 | Time Elapsed = 0.01822873530255203\n",
      "K = 4 | Average MAE = 0.8248788369593243 | Average Time = 0.019424905818536172\n"
     ]
    }
   ],
   "source": [
    "run_test_kmeans(4)"
   ]
  },
  {
   "cell_type": "code",
   "execution_count": null,
   "metadata": {},
   "outputs": [
    {
     "name": "stdout",
     "output_type": "stream",
     "text": [
      "K = 5 | Fold = 1 | MAE = 0.8414169534200419 | Time Elapsed = 0.021236866884817258\n",
      "K = 5 | Fold = 2 | MAE = 0.8042785854950348 | Time Elapsed = 0.017512315351884272\n",
      "K = 5 | Fold = 3 | MAE = 0.8189190218927588 | Time Elapsed = 0.02219085215869005\n",
      "K = 5 | Fold = 4 | MAE = 0.8214139326296148 | Time Elapsed = 0.01684976340327781\n",
      "K = 5 | Fold = 5 | MAE = 0.8385410982688425 | Time Elapsed = 0.022837792469005785\n",
      "K = 5 | Fold = 6 | MAE = 0.8463844957315336 | Time Elapsed = 0.016091135905872002\n",
      "K = 5 | Fold = 7 | MAE = 0.8363668388201805 | Time Elapsed = 0.023560066929887814\n",
      "K = 5 | Fold = 8 | MAE = 0.8349505366241675 | Time Elapsed = 0.017148529468618962\n",
      "K = 5 | Fold = 9 | MAE = 0.8268051082715454 | Time Elapsed = 0.021550569727593144\n",
      "K = 5 | Fold = 10 | MAE = 0.8168627602617655 | Time Elapsed = 0.016415479939047562\n",
      "K = 5 | Average MAE = 0.8285939331415484 | Average Time = 0.01953933722386947\n"
     ]
    }
   ],
   "source": [
    "run_test_kmeans(5)"
   ]
  },
  {
   "cell_type": "code",
   "execution_count": null,
   "metadata": {},
   "outputs": [
    {
     "name": "stdout",
     "output_type": "stream",
     "text": [
      "K = 6 | Fold = 1 | MAE = 0.8465458717629725 | Time Elapsed = 0.019325960833807002\n",
      "K = 6 | Fold = 2 | MAE = 0.8337471154337451 | Time Elapsed = 0.01616879568079798\n",
      "K = 6 | Fold = 3 | MAE = 0.8232665998897961 | Time Elapsed = 0.01992927824212158\n",
      "K = 6 | Fold = 4 | MAE = 0.8513396026061948 | Time Elapsed = 0.015922565637265414\n",
      "K = 6 | Fold = 5 | MAE = 0.8290423398812781 | Time Elapsed = 0.01920180525633221\n",
      "K = 6 | Fold = 6 | MAE = 0.84945761846637 | Time Elapsed = 0.016305940097503496\n",
      "K = 6 | Fold = 7 | MAE = 0.8483386670575225 | Time Elapsed = 0.019600836196159124\n",
      "K = 6 | Fold = 8 | MAE = 0.8369669730720118 | Time Elapsed = 0.016745750081479036\n",
      "K = 6 | Fold = 9 | MAE = 0.8336561650367463 | Time Elapsed = 0.02356016128623647\n",
      "K = 6 | Fold = 10 | MAE = 0.822230374231452 | Time Elapsed = 0.016290418470298634\n",
      "K = 6 | Average MAE = 0.8374591327438088 | Average Time = 0.018305151178200096\n"
     ]
    }
   ],
   "source": [
    "run_test_kmeans(6)"
   ]
  },
  {
   "cell_type": "code",
   "execution_count": null,
   "metadata": {},
   "outputs": [
    {
     "name": "stdout",
     "output_type": "stream",
     "text": [
      "K = 7 | Fold = 1 | MAE = 0.8574199116589504 | Time Elapsed = 0.01938100824379527\n",
      "K = 7 | Fold = 2 | MAE = 0.8162766568264961 | Time Elapsed = 0.016217542222757956\n",
      "K = 7 | Fold = 3 | MAE = 0.834724496538745 | Time Elapsed = 0.018281891641005913\n",
      "K = 7 | Fold = 4 | MAE = 0.8428295616974075 | Time Elapsed = 0.016780341464088116\n",
      "K = 7 | Fold = 5 | MAE = 0.8481653080682823 | Time Elapsed = 0.018654979751023003\n",
      "K = 7 | Fold = 6 | MAE = 0.8708842779942324 | Time Elapsed = 0.01714372218065569\n",
      "K = 7 | Fold = 7 | MAE = 0.8622717730812678 | Time Elapsed = 0.017865576434277112\n",
      "K = 7 | Fold = 8 | MAE = 0.8654397074424051 | Time Elapsed = 0.01753395830167924\n",
      "K = 7 | Fold = 9 | MAE = 0.8513321017776876 | Time Elapsed = 0.021076893150868647\n",
      "K = 7 | Fold = 10 | MAE = 0.8398309523708994 | Time Elapsed = 0.01760510264345395\n",
      "K = 7 | Average MAE = 0.8489174747456374 | Average Time = 0.01805410160336049\n"
     ]
    }
   ],
   "source": [
    "run_test_kmeans(7)"
   ]
  },
  {
   "cell_type": "code",
   "execution_count": null,
   "metadata": {},
   "outputs": [
    {
     "name": "stdout",
     "output_type": "stream",
     "text": [
      "K = 8 | Fold = 1 | MAE = 0.8591016470951336 | Time Elapsed = 0.0183206074456335\n",
      "K = 8 | Fold = 2 | MAE = 0.8441608053689532 | Time Elapsed = 0.016849172275054197\n",
      "K = 8 | Fold = 3 | MAE = 0.8244284811612445 | Time Elapsed = 0.017817346034722646\n",
      "K = 8 | Fold = 4 | MAE = 0.8512556724093421 | Time Elapsed = 0.017441007502330283\n",
      "K = 8 | Fold = 5 | MAE = 0.8503321344283804 | Time Elapsed = 0.01762831483406496\n",
      "K = 8 | Fold = 6 | MAE = 0.8749125244461168 | Time Elapsed = 0.01731514817860305\n",
      "K = 8 | Fold = 7 | MAE = 0.8747333496506287 | Time Elapsed = 0.01660591058173757\n",
      "K = 8 | Fold = 8 | MAE = 0.8572526302604042 | Time Elapsed = 0.01800294525220765\n",
      "K = 8 | Fold = 9 | MAE = 0.8519263864401732 | Time Elapsed = 0.01682119968819561\n",
      "K = 8 | Fold = 10 | MAE = 0.8563946067576343 | Time Elapsed = 0.020520755298941908\n",
      "K = 8 | Average MAE = 0.854449823801801 | Average Time = 0.017732240709149142\n"
     ]
    }
   ],
   "source": [
    "run_test_kmeans(8)"
   ]
  },
  {
   "cell_type": "code",
   "execution_count": null,
   "metadata": {},
   "outputs": [
    {
     "name": "stdout",
     "output_type": "stream",
     "text": [
      "K = 9 | Fold = 1 | MAE = 0.8590815988414461 | Time Elapsed = 0.019067910458688424\n",
      "K = 9 | Fold = 2 | MAE = 0.8573639429612262 | Time Elapsed = 0.01927040085265739\n",
      "K = 9 | Fold = 3 | MAE = 0.8711109603681907 | Time Elapsed = 0.01895609758624238\n",
      "K = 9 | Fold = 4 | MAE = 0.8644275597506252 | Time Elapsed = 0.019350168607670564\n",
      "K = 9 | Fold = 5 | MAE = 0.8477017712598229 | Time Elapsed = 0.020527354226390414\n",
      "K = 9 | Fold = 6 | MAE = 0.8692852894553491 | Time Elapsed = 0.01798960049160643\n",
      "K = 9 | Fold = 7 | MAE = 0.8718847323147632 | Time Elapsed = 0.02192354039113923\n",
      "K = 9 | Fold = 8 | MAE = 0.8590196235971133 | Time Elapsed = 0.016225024909181887\n",
      "K = 9 | Fold = 9 | MAE = 0.8695091560326677 | Time Elapsed = 0.022652473755752436\n",
      "K = 9 | Fold = 10 | MAE = 0.8577094211980915 | Time Elapsed = 0.016479568777249126\n",
      "K = 9 | Average MAE = 0.8627094055779295 | Average Time = 0.019244214005657827\n"
     ]
    }
   ],
   "source": [
    "run_test_kmeans(9)"
   ]
  },
  {
   "cell_type": "code",
   "execution_count": null,
   "metadata": {},
   "outputs": [
    {
     "name": "stdout",
     "output_type": "stream",
     "text": [
      "K = 10 | Fold = 1 | MAE = 0.8715671385037433 | Time Elapsed = 0.018574362138962883\n",
      "K = 10 | Fold = 2 | MAE = 0.8623410553834518 | Time Elapsed = 0.01653003763840999\n",
      "K = 10 | Fold = 3 | MAE = 0.8569454138843077 | Time Elapsed = 0.01875786697688597\n",
      "K = 10 | Fold = 4 | MAE = 0.8606857845481247 | Time Elapsed = 0.01610072791311033\n",
      "K = 10 | Fold = 5 | MAE = 0.8741213914268104 | Time Elapsed = 0.01895882784802133\n",
      "K = 10 | Fold = 6 | MAE = 0.8754801031227541 | Time Elapsed = 0.016304509486466702\n",
      "K = 10 | Fold = 7 | MAE = 0.8853460871041796 | Time Elapsed = 0.01842211553500752\n",
      "K = 10 | Fold = 8 | MAE = 0.8485742537466546 | Time Elapsed = 0.016783954531754526\n",
      "K = 10 | Fold = 9 | MAE = 0.8689133710255786 | Time Elapsed = 0.01974659371018325\n",
      "K = 10 | Fold = 10 | MAE = 0.8822729268428533 | Time Elapsed = 0.01680973358482668\n",
      "K = 10 | Average MAE = 0.8686247525588457 | Average Time = 0.01769887293636292\n"
     ]
    }
   ],
   "source": [
    "run_test_kmeans(10)"
   ]
  },
  {
   "cell_type": "code",
   "execution_count": null,
   "metadata": {},
   "outputs": [
    {
     "name": "stdout",
     "output_type": "stream",
     "text": [
      "K = 11 | Fold = 1 | MAE = 0.8594360409210642 | Time Elapsed = 0.018177626904821127\n",
      "K = 11 | Fold = 2 | MAE = 0.8760939685715966 | Time Elapsed = 0.016929973767899294\n",
      "K = 11 | Fold = 3 | MAE = 0.8497513047107002 | Time Elapsed = 0.017269941993832198\n",
      "K = 11 | Fold = 4 | MAE = 0.8692686639674212 | Time Elapsed = 0.017500551426532042\n",
      "K = 11 | Fold = 5 | MAE = 0.8629753109215236 | Time Elapsed = 0.02016335244941265\n",
      "K = 11 | Fold = 6 | MAE = 0.8795542683501499 | Time Elapsed = 0.01797502378343411\n",
      "K = 11 | Fold = 7 | MAE = 0.8932590885194052 | Time Elapsed = 0.02151825469781411\n",
      "K = 11 | Fold = 8 | MAE = 0.8723233538240988 | Time Elapsed = 0.01674574679675788\n",
      "K = 11 | Fold = 9 | MAE = 0.880630434255941 | Time Elapsed = 0.0227624852361367\n",
      "K = 11 | Fold = 10 | MAE = 0.8846163826189223 | Time Elapsed = 0.01567363216296531\n",
      "K = 11 | Average MAE = 0.8727908816660823 | Average Time = 0.018471658921960538\n"
     ]
    }
   ],
   "source": [
    "run_test_kmeans(11)"
   ]
  },
  {
   "cell_type": "code",
   "execution_count": null,
   "metadata": {},
   "outputs": [
    {
     "name": "stdout",
     "output_type": "stream",
     "text": [
      "K = 12 | Fold = 1 | MAE = 0.8851424825256743 | Time Elapsed = 0.019413098282403226\n",
      "K = 12 | Fold = 2 | MAE = 0.8744908390906349 | Time Elapsed = 0.01587844847532758\n",
      "K = 12 | Fold = 3 | MAE = 0.8459165485261115 | Time Elapsed = 0.01848540506827989\n",
      "K = 12 | Fold = 4 | MAE = 0.9034677584582516 | Time Elapsed = 0.015979820596212373\n",
      "K = 12 | Fold = 5 | MAE = 0.8691510875803062 | Time Elapsed = 0.017679944560287434\n",
      "K = 12 | Fold = 6 | MAE = 0.9048185132097389 | Time Elapsed = 0.017022714195909165\n",
      "K = 12 | Fold = 7 | MAE = 0.8987414505180215 | Time Elapsed = 0.018744635231786662\n",
      "K = 12 | Fold = 8 | MAE = 0.8786053205858743 | Time Elapsed = 0.016713133272848273\n",
      "K = 12 | Fold = 9 | MAE = 0.8721000133074551 | Time Elapsed = 0.017956239558002615\n",
      "K = 12 | Fold = 10 | MAE = 0.8959659599588916 | Time Elapsed = 0.017165726483215224\n",
      "K = 12 | Average MAE = 0.8828399973760961 | Average Time = 0.017503916572427242\n"
     ]
    }
   ],
   "source": [
    "run_test_kmeans(12)"
   ]
  },
  {
   "cell_type": "code",
   "execution_count": null,
   "metadata": {},
   "outputs": [
    {
     "name": "stdout",
     "output_type": "stream",
     "text": [
      "K = 13 | Fold = 1 | MAE = 0.8743017747480278 | Time Elapsed = 0.01722407833948043\n",
      "K = 13 | Fold = 2 | MAE = 0.8665875934236371 | Time Elapsed = 0.017422122062511286\n",
      "K = 13 | Fold = 3 | MAE = 0.8773913637424486 | Time Elapsed = 0.017406754211158143\n",
      "K = 13 | Fold = 4 | MAE = 0.8653284284571346 | Time Elapsed = 0.01735442020623168\n",
      "K = 13 | Fold = 5 | MAE = 0.8763363024934618 | Time Elapsed = 0.017225174263691023\n",
      "K = 13 | Fold = 6 | MAE = 0.8859327100246036 | Time Elapsed = 0.018090499476758948\n",
      "K = 13 | Fold = 7 | MAE = 0.9125810756666415 | Time Elapsed = 0.01699849980861448\n",
      "K = 13 | Fold = 8 | MAE = 0.8696373984623338 | Time Elapsed = 0.01852992990962054\n",
      "K = 13 | Fold = 9 | MAE = 0.8952571546326126 | Time Elapsed = 0.017926094352746915\n",
      "K = 13 | Fold = 10 | MAE = 0.8741115812727352 | Time Elapsed = 0.01750633321854443\n",
      "K = 13 | Average MAE = 0.8797465382923637 | Average Time = 0.01756839058493579\n"
     ]
    }
   ],
   "source": [
    "run_test_kmeans(13)"
   ]
  },
  {
   "cell_type": "code",
   "execution_count": null,
   "metadata": {},
   "outputs": [
    {
     "name": "stdout",
     "output_type": "stream",
     "text": [
      "K = 14 | Fold = 1 | MAE = 0.8687002380360008 | Time Elapsed = 0.017115397873077438\n",
      "K = 14 | Fold = 2 | MAE = 0.8964982704351688 | Time Elapsed = 0.018258388714350756\n",
      "K = 14 | Fold = 3 | MAE = 0.8718616202962634 | Time Elapsed = 0.016365150736983046\n",
      "K = 14 | Fold = 4 | MAE = 0.8978637491426396 | Time Elapsed = 0.017862453863257025\n",
      "K = 14 | Fold = 5 | MAE = 0.892897640670927 | Time Elapsed = 0.017299095013576078\n",
      "K = 14 | Fold = 6 | MAE = 0.8958761897952116 | Time Elapsed = 0.01823247778370218\n",
      "K = 14 | Fold = 7 | MAE = 0.8894939053771327 | Time Elapsed = 0.016129086444729452\n",
      "K = 14 | Fold = 8 | MAE = 0.8967459171677872 | Time Elapsed = 0.019044648561861385\n",
      "K = 14 | Fold = 9 | MAE = 0.8777634517491073 | Time Elapsed = 0.016952466683293994\n",
      "K = 14 | Fold = 10 | MAE = 0.8741750650981968 | Time Elapsed = 0.018581364950547546\n",
      "K = 14 | Average MAE = 0.8861876047768437 | Average Time = 0.01758405306253789\n"
     ]
    }
   ],
   "source": [
    "run_test_kmeans(14)"
   ]
  },
  {
   "cell_type": "code",
   "execution_count": null,
   "metadata": {},
   "outputs": [
    {
     "name": "stdout",
     "output_type": "stream",
     "text": [
      "K = 15 | Fold = 1 | MAE = 0.9098493393928295 | Time Elapsed = 0.015847913332004093\n",
      "K = 15 | Fold = 2 | MAE = 0.9178025384970425 | Time Elapsed = 0.019323084165712073\n",
      "K = 15 | Fold = 3 | MAE = 0.892776630541434 | Time Elapsed = 0.015747119236853596\n",
      "K = 15 | Fold = 4 | MAE = 0.8666520147132838 | Time Elapsed = 0.019251677943196956\n",
      "K = 15 | Fold = 5 | MAE = 0.8592188238029648 | Time Elapsed = 0.01598417632787031\n",
      "K = 15 | Fold = 6 | MAE = 0.9062209860321385 | Time Elapsed = 0.019356814314573874\n",
      "K = 15 | Fold = 7 | MAE = 0.9073313353276131 | Time Elapsed = 0.015663968744824376\n",
      "K = 15 | Fold = 8 | MAE = 0.8774375561726484 | Time Elapsed = 0.019482516343341916\n",
      "K = 15 | Fold = 9 | MAE = 0.8903623347510734 | Time Elapsed = 0.015678357658873373\n",
      "K = 15 | Fold = 10 | MAE = 0.9016182168948274 | Time Elapsed = 0.0192880797961261\n",
      "K = 15 | Average MAE = 0.8929269776125854 | Average Time = 0.017562370786337666\n"
     ]
    }
   ],
   "source": [
    "run_test_kmeans(15)"
   ]
  },
  {
   "cell_type": "code",
   "execution_count": null,
   "metadata": {},
   "outputs": [
    {
     "name": "stdout",
     "output_type": "stream",
     "text": [
      "K = 16 | Fold = 1 | MAE = 0.9099209147966514 | Time Elapsed = 0.015837163104577463\n",
      "K = 16 | Fold = 2 | MAE = 0.8788859406406674 | Time Elapsed = 0.018727055470434576\n",
      "K = 16 | Fold = 3 | MAE = 0.9062855388185264 | Time Elapsed = 0.016341894546865545\n",
      "K = 16 | Fold = 4 | MAE = 0.8966017732617433 | Time Elapsed = 0.018789575027094375\n",
      "K = 16 | Fold = 5 | MAE = 0.8831201394252349 | Time Elapsed = 0.016256892986333683\n",
      "K = 16 | Fold = 6 | MAE = 0.9135637198925081 | Time Elapsed = 0.018727680420829246\n",
      "K = 16 | Fold = 7 | MAE = 0.9296298472418609 | Time Elapsed = 0.01614651052532206\n",
      "K = 16 | Fold = 8 | MAE = 0.8918669930320534 | Time Elapsed = 0.01886320066490857\n",
      "K = 16 | Fold = 9 | MAE = 0.8818530552652297 | Time Elapsed = 0.01680306866224062\n",
      "K = 16 | Fold = 10 | MAE = 0.8908658449039684 | Time Elapsed = 0.019646341305011177\n",
      "K = 16 | Average MAE = 0.8982593767278445 | Average Time = 0.017613938271361727\n"
     ]
    }
   ],
   "source": [
    "run_test_kmeans(16)\r\n"
   ]
  },
  {
   "cell_type": "code",
   "execution_count": null,
   "metadata": {},
   "outputs": [
    {
     "name": "stdout",
     "output_type": "stream",
     "text": [
      "K = 17 | Fold = 1 | MAE = 0.8851223126470311 | Time Elapsed = 0.016120162083450303\n",
      "K = 17 | Fold = 2 | MAE = 0.9011151355647737 | Time Elapsed = 0.018931008230721497\n",
      "K = 17 | Fold = 3 | MAE = 0.8834945302311575 | Time Elapsed = 0.015715522968628003\n",
      "K = 17 | Fold = 4 | MAE = 0.8705650408128913 | Time Elapsed = 0.018472997261229064\n",
      "K = 17 | Fold = 5 | MAE = 0.8833074118079858 | Time Elapsed = 0.016688208087572556\n",
      "K = 17 | Fold = 6 | MAE = 0.9041955873156524 | Time Elapsed = 0.018409487379121556\n",
      "K = 17 | Fold = 7 | MAE = 0.9247001927978844 | Time Elapsed = 0.01688920470855017\n",
      "K = 17 | Fold = 8 | MAE = 0.8933756400626698 | Time Elapsed = 0.01923290652649289\n",
      "K = 17 | Fold = 9 | MAE = 0.8887750672467032 | Time Elapsed = 0.01613511012153399\n",
      "K = 17 | Fold = 10 | MAE = 0.8919096282013911 | Time Elapsed = 0.01892302987978655\n",
      "K = 17 | Average MAE = 0.8926560546688143 | Average Time = 0.01755176372470866\n"
     ]
    }
   ],
   "source": [
    "run_test_kmeans(17)\r\n"
   ]
  },
  {
   "cell_type": "code",
   "execution_count": null,
   "metadata": {},
   "outputs": [
    {
     "name": "stdout",
     "output_type": "stream",
     "text": [
      "K = 18 | Fold = 1 | MAE = 0.9078264249125682 | Time Elapsed = 0.01639539764126599\n",
      "K = 18 | Fold = 2 | MAE = 0.889735822955475 | Time Elapsed = 0.023836503411283794\n",
      "K = 18 | Fold = 3 | MAE = 0.8693542111359411 | Time Elapsed = 0.017161689267836646\n",
      "K = 18 | Fold = 4 | MAE = 0.8974260667114917 | Time Elapsed = 0.021301992799838104\n",
      "K = 18 | Fold = 5 | MAE = 0.8546013022791121 | Time Elapsed = 0.01921351110538092\n",
      "K = 18 | Fold = 6 | MAE = 0.9090842291321656 | Time Elapsed = 0.01973044008444975\n",
      "K = 18 | Fold = 7 | MAE = 0.9277845561980804 | Time Elapsed = 0.021309278809151087\n",
      "K = 18 | Fold = 8 | MAE = 0.8914412719839224 | Time Elapsed = 0.017351951217447488\n",
      "K = 18 | Fold = 9 | MAE = 0.9010376974686095 | Time Elapsed = 0.024068393544457785\n",
      "K = 18 | Fold = 10 | MAE = 0.8612460983045244 | Time Elapsed = 0.01695895952943002\n",
      "K = 18 | Average MAE = 0.8909537681081892 | Average Time = 0.01973281174105416\n"
     ]
    }
   ],
   "source": [
    "run_test_kmeans(18)\r\n"
   ]
  },
  {
   "cell_type": "code",
   "execution_count": null,
   "metadata": {},
   "outputs": [
    {
     "name": "stdout",
     "output_type": "stream",
     "text": [
      "K = 19 | Fold = 1 | MAE = 0.9017011733964051 | Time Elapsed = 0.019474166062510515\n",
      "K = 19 | Fold = 2 | MAE = 0.8826807535058528 | Time Elapsed = 0.01643286388764503\n",
      "K = 19 | Fold = 3 | MAE = 0.9061016219170047 | Time Elapsed = 0.020233904646976185\n",
      "K = 19 | Fold = 4 | MAE = 0.9394487323967582 | Time Elapsed = 0.016372905796750513\n",
      "K = 19 | Fold = 5 | MAE = 0.894231154006152 | Time Elapsed = 0.020104011403928736\n",
      "K = 19 | Fold = 6 | MAE = 0.8897280042971938 | Time Elapsed = 0.01649981960860793\n",
      "K = 19 | Fold = 7 | MAE = 0.9437693202101815 | Time Elapsed = 0.019819940483978653\n",
      "K = 19 | Fold = 8 | MAE = 0.9122953858715708 | Time Elapsed = 0.016245264187999934\n",
      "K = 19 | Fold = 9 | MAE = 0.90122948618088 | Time Elapsed = 0.019746295435679916\n",
      "K = 19 | Fold = 10 | MAE = 0.9087868089209302 | Time Elapsed = 0.016414415027635028\n",
      "K = 19 | Average MAE = 0.9079972440702928 | Average Time = 0.01813435865417124\n"
     ]
    }
   ],
   "source": [
    "run_test_kmeans(19)\r\n"
   ]
  },
  {
   "cell_type": "code",
   "execution_count": null,
   "metadata": {},
   "outputs": [
    {
     "name": "stdout",
     "output_type": "stream",
     "text": [
      "K = 20 | Fold = 1 | MAE = 0.9188470294407184 | Time Elapsed = 0.019754662028544714\n",
      "K = 20 | Fold = 2 | MAE = 0.9035810789258093 | Time Elapsed = 0.016779894800340703\n",
      "K = 20 | Fold = 3 | MAE = 0.896781617637831 | Time Elapsed = 0.019409793350131967\n",
      "K = 20 | Fold = 4 | MAE = 0.8884294341490174 | Time Elapsed = 0.016135569180335565\n",
      "K = 20 | Fold = 5 | MAE = 0.9005791119791818 | Time Elapsed = 0.018863388519764705\n",
      "K = 20 | Fold = 6 | MAE = 0.9250019431897187 | Time Elapsed = 0.01671746880115298\n",
      "K = 20 | Fold = 7 | MAE = 0.9236931926738506 | Time Elapsed = 0.020080566826086096\n",
      "K = 20 | Fold = 8 | MAE = 0.8877998720825009 | Time Elapsed = 0.016193813255757628\n",
      "K = 20 | Fold = 9 | MAE = 0.911296990005358 | Time Elapsed = 0.019125810521934093\n",
      "K = 20 | Fold = 10 | MAE = 0.8986974819067487 | Time Elapsed = 0.016208325961147314\n",
      "K = 20 | Average MAE = 0.9054707751990735 | Average Time = 0.01792692932451958\n"
     ]
    }
   ],
   "source": [
    "run_test_kmeans(20)\r\n"
   ]
  },
  {
   "cell_type": "code",
   "execution_count": null,
   "metadata": {},
   "outputs": [],
   "source": []
  }
 ],
 "metadata": {
  "instance_type": "ml.t3.medium",
  "interpreter": {
   "hash": "6093fa3b248174b374b709111c412862ed9d642d68334f11c425669a3f6da8b1"
  },
  "kernelspec": {
   "display_name": "conda_python3",
   "language": "python",
   "name": "conda_python3"
  },
  "language_info": {
   "codemirror_mode": {
    "name": "ipython",
    "version": 3
   },
   "file_extension": ".py",
   "mimetype": "text/x-python",
   "name": "python",
   "nbconvert_exporter": "python",
   "pygments_lexer": "ipython3",
   "version": "3.6.13"
  }
 },
 "nbformat": 4,
 "nbformat_minor": 4
}
