{
 "cells": [
  {
   "cell_type": "markdown",
   "metadata": {},
   "source": [
    "# Main Function"
   ]
  },
  {
   "cell_type": "code",
   "execution_count": 1,
   "metadata": {},
   "outputs": [],
   "source": [
    "from data_prep import load_rating_data\r\n",
    "from cluster import kmeans_clustering\r\n",
    "from evaluate import time_evaluate\r\n",
    "from IPython.display import clear_output"
   ]
  },
  {
   "cell_type": "code",
   "execution_count": 2,
   "metadata": {},
   "outputs": [],
   "source": [
    "def run_test_kmeans(n_clusters, rating_path = 'dataset_5_min_75/', item_path = 'comic_genre.csv'):\r\n",
    "\r\n",
    "    total_mae = []\r\n",
    "    total_time = []\r\n",
    "\r\n",
    "    # 10-Fold Cross-Validation\r\n",
    "    for i in range(1, 11):\r\n",
    "        # load dataset\r\n",
    "        print('K-Means (k={}) | Fold = {}'.format(n_clusters, i))\r\n",
    "        print('Loading Data...')\r\n",
    "        train_data, cluster_data = load_rating_data('train', number=i, rating_path=rating_path, item_path=item_path)\r\n",
    "        test_data = load_rating_data('test', number=i, rating_path=rating_path, item_path=item_path)\r\n",
    "        print('Data Loaded...')\r\n",
    "\r\n",
    "        # perform clustering\r\n",
    "        print('Clustering Starts')\r\n",
    "        ratings_cluster, cluster_centroids = kmeans_clustering(n_clusters, cluster_data, train_data)\r\n",
    "        print('Clustering Finished')\r\n",
    "\r\n",
    "        # predict and evaluate\r\n",
    "        print('Predicting and Evaluating Starts')\r\n",
    "        mae, time = time_evaluate(test_data, ratings_cluster, cluster_centroids)\r\n",
    "        total_mae.append(mae)\r\n",
    "        total_time.append(time)\r\n",
    "        print('Predicting and Evaluating Finished')\r\n",
    "\r\n",
    "        clear_output(wait=True)\r\n",
    "        print('K = {} | Fold = {} | MAE = {} | Time Elapsed = {}\\n'.format(n_clusters, i, mae, time))\r\n",
    "\r\n",
    "\r\n",
    "    clear_output(wait=True)\r\n",
    "    for i in range(len(total_mae)):\r\n",
    "        print('K = {} | Fold = {} | MAE = {} | Time Elapsed = {}'.format(n_clusters, i+1, total_mae[i], total_time[i]))\r\n",
    "    avg_mae = sum(total_mae)/10\r\n",
    "    avg_time = sum(total_time)/10\r\n",
    "    print('K = {} | Average MAE = {} | Average Time = {}'.format(n_clusters, avg_mae, avg_time))\r\n",
    "\r\n",
    "    # return avg_mae, total_mae"
   ]
  },
  {
   "cell_type": "markdown",
   "metadata": {},
   "source": [
    "# No Clustering"
   ]
  },
  {
   "cell_type": "code",
   "execution_count": 3,
   "metadata": {},
   "outputs": [
    {
     "name": "stdout",
     "output_type": "stream",
     "text": [
      "K = 1 | Fold = 1 | MAE = 0.8148730613791498 | Time Elapsed = 0.05989280749031565\n",
      "K = 1 | Fold = 2 | MAE = 0.8114433017903402 | Time Elapsed = 0.05124692488424027\n",
      "K = 1 | Fold = 3 | MAE = 0.8205062644714537 | Time Elapsed = 0.0592468726440256\n",
      "K = 1 | Fold = 4 | MAE = 0.8164264410905295 | Time Elapsed = 0.07276250382678626\n",
      "K = 1 | Fold = 5 | MAE = 0.8234654574661855 | Time Elapsed = 0.07258743371972225\n",
      "K = 1 | Fold = 6 | MAE = 0.8321202585939066 | Time Elapsed = 0.05943568919106904\n",
      "K = 1 | Fold = 7 | MAE = 0.8171025837555983 | Time Elapsed = 0.05788431773975283\n",
      "K = 1 | Fold = 8 | MAE = 0.8101566255413716 | Time Elapsed = 0.056146008107857026\n",
      "K = 1 | Fold = 9 | MAE = 0.8217688658204603 | Time Elapsed = 0.06005717811253998\n",
      "K = 1 | Fold = 10 | MAE = 0.8170008679354739 | Time Elapsed = 0.06007169657371717\n",
      "K = 1 | Average MAE = 0.8184863727844469 | Average Time = 0.060933143229002604\n"
     ]
    }
   ],
   "source": [
    "run_test_kmeans(1, rating_path='dataset_5_min_75/')"
   ]
  },
  {
   "cell_type": "markdown",
   "metadata": {},
   "source": [
    "# K-Means K=2 - K=20 DATASET_MIN_75 (RATING 1-5)"
   ]
  },
  {
   "cell_type": "code",
   "execution_count": 4,
   "metadata": {},
   "outputs": [
    {
     "name": "stdout",
     "output_type": "stream",
     "text": [
      "K = 2 | Fold = 1 | MAE = 0.8879477569148914 | Time Elapsed = 0.05330612835077765\n",
      "K = 2 | Fold = 2 | MAE = 0.8857139525603617 | Time Elapsed = 0.043368089626106436\n",
      "K = 2 | Fold = 3 | MAE = 0.889357493393063 | Time Elapsed = 0.04347732537805056\n",
      "K = 2 | Fold = 4 | MAE = 0.897138948693297 | Time Elapsed = 0.043679409181508956\n",
      "K = 2 | Fold = 5 | MAE = 0.8808844891521195 | Time Elapsed = 0.0461361569032029\n",
      "K = 2 | Fold = 6 | MAE = 0.8957222101224602 | Time Elapsed = 0.04353744166543138\n",
      "K = 2 | Fold = 7 | MAE = 0.8867527738838981 | Time Elapsed = 0.04261391839477551\n",
      "K = 2 | Fold = 8 | MAE = 0.8823376237303717 | Time Elapsed = 0.04200558002146646\n",
      "K = 2 | Fold = 9 | MAE = 0.889340743655417 | Time Elapsed = 0.03988277231590702\n",
      "K = 2 | Fold = 10 | MAE = 0.8804280339309679 | Time Elapsed = 0.039354317237578006\n",
      "K = 2 | Average MAE = 0.8875624026036848 | Average Time = 0.04373611390748049\n"
     ]
    }
   ],
   "source": [
    "run_test_kmeans(2)"
   ]
  },
  {
   "cell_type": "code",
   "execution_count": 5,
   "metadata": {},
   "outputs": [
    {
     "name": "stdout",
     "output_type": "stream",
     "text": [
      "K = 3 | Fold = 1 | MAE = 0.8948013091290226 | Time Elapsed = 0.031566787692771\n",
      "K = 3 | Fold = 2 | MAE = 0.8921548882254622 | Time Elapsed = 0.03431556953042254\n",
      "K = 3 | Fold = 3 | MAE = 0.894632107325555 | Time Elapsed = 0.03465643975030527\n",
      "K = 3 | Fold = 4 | MAE = 0.9010288135377978 | Time Elapsed = 0.03182607281030356\n",
      "K = 3 | Fold = 5 | MAE = 0.8986230965188567 | Time Elapsed = 0.032163747042166506\n",
      "K = 3 | Fold = 6 | MAE = 0.9051658664893675 | Time Elapsed = 0.03189424726057326\n",
      "K = 3 | Fold = 7 | MAE = 0.8997229404494949 | Time Elapsed = 0.03137847945961114\n",
      "K = 3 | Fold = 8 | MAE = 0.8786232701528168 | Time Elapsed = 0.032431986829893886\n",
      "K = 3 | Fold = 9 | MAE = 0.8875430273059088 | Time Elapsed = 0.031422130135192496\n",
      "K = 3 | Fold = 10 | MAE = 0.887390886811068 | Time Elapsed = 0.031936463258299026\n",
      "K = 3 | Average MAE = 0.893968620594535 | Average Time = 0.03235919237695387\n"
     ]
    }
   ],
   "source": [
    "run_test_kmeans(3)"
   ]
  },
  {
   "cell_type": "code",
   "execution_count": 6,
   "metadata": {},
   "outputs": [
    {
     "name": "stdout",
     "output_type": "stream",
     "text": [
      "K = 4 | Fold = 1 | MAE = 0.8907418108964733 | Time Elapsed = 0.03148879165356721\n",
      "K = 4 | Fold = 2 | MAE = 0.8977863349493702 | Time Elapsed = 0.029589156551079975\n",
      "K = 4 | Fold = 3 | MAE = 0.8936119219389722 | Time Elapsed = 0.032005809226783775\n",
      "K = 4 | Fold = 4 | MAE = 0.8987079241780944 | Time Elapsed = 0.03085833239844743\n",
      "K = 4 | Fold = 5 | MAE = 0.8936905466421234 | Time Elapsed = 0.030929315865999972\n",
      "K = 4 | Fold = 6 | MAE = 0.9073898375385874 | Time Elapsed = 0.03192021180904204\n",
      "K = 4 | Fold = 7 | MAE = 0.8973540320583869 | Time Elapsed = 0.030158793175846035\n",
      "K = 4 | Fold = 8 | MAE = 0.8825776862423016 | Time Elapsed = 0.0314029051675883\n",
      "K = 4 | Fold = 9 | MAE = 0.8893466801384498 | Time Elapsed = 0.030867522508373695\n",
      "K = 4 | Fold = 10 | MAE = 0.8963972898667864 | Time Elapsed = 0.030937469260180865\n",
      "K = 4 | Average MAE = 0.8947604064449546 | Average Time = 0.031015830761690934\n"
     ]
    }
   ],
   "source": [
    "run_test_kmeans(4)"
   ]
  },
  {
   "cell_type": "code",
   "execution_count": 7,
   "metadata": {},
   "outputs": [
    {
     "name": "stdout",
     "output_type": "stream",
     "text": [
      "K = 5 | Fold = 1 | MAE = 0.9023851132020319 | Time Elapsed = 0.02767983044051662\n",
      "K = 5 | Fold = 2 | MAE = 0.9046063415551717 | Time Elapsed = 0.029363447670319072\n",
      "K = 5 | Fold = 3 | MAE = 0.8966080892864943 | Time Elapsed = 0.03266439770185671\n",
      "K = 5 | Fold = 4 | MAE = 0.9265552653919603 | Time Elapsed = 0.031033429513712525\n",
      "K = 5 | Fold = 5 | MAE = 0.9101626943402902 | Time Elapsed = 0.03361894416490049\n",
      "K = 5 | Fold = 6 | MAE = 0.9221466387530932 | Time Elapsed = 0.030396314385679763\n",
      "K = 5 | Fold = 7 | MAE = 0.9189660656008546 | Time Elapsed = 0.02753499178460477\n",
      "K = 5 | Fold = 8 | MAE = 0.9079133945034541 | Time Elapsed = 0.02913335311567376\n",
      "K = 5 | Fold = 9 | MAE = 0.8919544574314661 | Time Elapsed = 0.027701114534299662\n",
      "K = 5 | Fold = 10 | MAE = 0.899690445162278 | Time Elapsed = 0.031409984496046865\n",
      "K = 5 | Average MAE = 0.9080988505227093 | Average Time = 0.030053580780761025\n"
     ]
    }
   ],
   "source": [
    "run_test_kmeans(5)"
   ]
  },
  {
   "cell_type": "code",
   "execution_count": 8,
   "metadata": {},
   "outputs": [
    {
     "name": "stdout",
     "output_type": "stream",
     "text": [
      "K = 6 | Fold = 1 | MAE = 0.9140819050214781 | Time Elapsed = 0.026073753724271138\n",
      "K = 6 | Fold = 2 | MAE = 0.9057373237416083 | Time Elapsed = 0.026901864272461815\n",
      "K = 6 | Fold = 3 | MAE = 0.9163533953618476 | Time Elapsed = 0.02839923440131411\n",
      "K = 6 | Fold = 4 | MAE = 0.9211694346971299 | Time Elapsed = 0.026862844447224938\n",
      "K = 6 | Fold = 5 | MAE = 0.9281082297233731 | Time Elapsed = 0.027878864864108593\n",
      "K = 6 | Fold = 6 | MAE = 0.9309191144856749 | Time Elapsed = 0.02603170958636695\n",
      "K = 6 | Fold = 7 | MAE = 0.9286302862839961 | Time Elapsed = 0.027288455943467762\n",
      "K = 6 | Fold = 8 | MAE = 0.9170805745415906 | Time Elapsed = 0.02774727309697209\n",
      "K = 6 | Fold = 9 | MAE = 0.926091073019099 | Time Elapsed = 0.02815639638942743\n",
      "K = 6 | Fold = 10 | MAE = 0.9143589463485556 | Time Elapsed = 0.027903630067863432\n",
      "K = 6 | Average MAE = 0.9202530283224352 | Average Time = 0.027324402679347826\n"
     ]
    }
   ],
   "source": [
    "run_test_kmeans(6)"
   ]
  },
  {
   "cell_type": "code",
   "execution_count": null,
   "metadata": {},
   "outputs": [
    {
     "name": "stdout",
     "output_type": "stream",
     "text": [
      "K = 7 | Fold = 3 | MAE = 0.9289260293191737 | Time Elapsed = 0.030283766753006418\n",
      "\n",
      "K-Means (k=7) | Fold = 4\n",
      "Loading Data...\n",
      "Data Loaded...\n",
      "Clustering Starts\n",
      "Clustering Finished\n",
      "Predicting and Evaluating Starts\n"
     ]
    }
   ],
   "source": [
    "run_test_kmeans(7)"
   ]
  },
  {
   "cell_type": "code",
   "execution_count": null,
   "metadata": {},
   "outputs": [],
   "source": [
    "run_test_kmeans(8)"
   ]
  },
  {
   "cell_type": "code",
   "execution_count": null,
   "metadata": {},
   "outputs": [],
   "source": [
    "run_test_kmeans(9)"
   ]
  },
  {
   "cell_type": "code",
   "execution_count": null,
   "metadata": {},
   "outputs": [],
   "source": [
    "run_test_kmeans(10)"
   ]
  },
  {
   "cell_type": "code",
   "execution_count": null,
   "metadata": {},
   "outputs": [],
   "source": [
    "run_test_kmeans(11)"
   ]
  },
  {
   "cell_type": "code",
   "execution_count": null,
   "metadata": {},
   "outputs": [],
   "source": [
    "run_test_kmeans(12)"
   ]
  },
  {
   "cell_type": "code",
   "execution_count": null,
   "metadata": {},
   "outputs": [],
   "source": [
    "run_test_kmeans(13)"
   ]
  },
  {
   "cell_type": "code",
   "execution_count": null,
   "metadata": {},
   "outputs": [],
   "source": [
    "run_test_kmeans(14)"
   ]
  },
  {
   "cell_type": "code",
   "execution_count": null,
   "metadata": {},
   "outputs": [],
   "source": [
    "run_test_kmeans(15)"
   ]
  },
  {
   "cell_type": "code",
   "execution_count": null,
   "metadata": {},
   "outputs": [],
   "source": [
    "run_test_kmeans(16)\r\n"
   ]
  },
  {
   "cell_type": "code",
   "execution_count": null,
   "metadata": {},
   "outputs": [],
   "source": [
    "run_test_kmeans(17)\r\n"
   ]
  },
  {
   "cell_type": "code",
   "execution_count": null,
   "metadata": {},
   "outputs": [],
   "source": [
    "run_test_kmeans(18)\r\n"
   ]
  },
  {
   "cell_type": "code",
   "execution_count": null,
   "metadata": {},
   "outputs": [],
   "source": [
    "run_test_kmeans(19)\r\n"
   ]
  },
  {
   "cell_type": "code",
   "execution_count": null,
   "metadata": {},
   "outputs": [],
   "source": [
    "run_test_kmeans(20)\r\n"
   ]
  }
 ],
 "metadata": {
  "instance_type": "ml.t3.medium",
  "interpreter": {
   "hash": "6093fa3b248174b374b709111c412862ed9d642d68334f11c425669a3f6da8b1"
  },
  "kernelspec": {
   "display_name": "conda_python3",
   "language": "python",
   "name": "conda_python3"
  },
  "language_info": {
   "codemirror_mode": {
    "name": "ipython",
    "version": 3
   },
   "file_extension": ".py",
   "mimetype": "text/x-python",
   "name": "python",
   "nbconvert_exporter": "python",
   "pygments_lexer": "ipython3",
   "version": "3.6.13"
  }
 },
 "nbformat": 4,
 "nbformat_minor": 4
}
