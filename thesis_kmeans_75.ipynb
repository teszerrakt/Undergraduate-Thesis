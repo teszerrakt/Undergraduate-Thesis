{
 "cells": [
  {
   "cell_type": "markdown",
   "metadata": {},
   "source": [
    "# Main Function"
   ]
  },
  {
   "cell_type": "code",
   "execution_count": 1,
   "metadata": {},
   "outputs": [],
   "source": [
    "from data_prep import load_rating_data\n",
    "from cluster import kmeans_clustering\n",
    "from evaluate import time_evaluate\n",
    "from IPython.display import clear_output"
   ]
  },
  {
   "cell_type": "code",
   "execution_count": 2,
   "metadata": {},
   "outputs": [],
   "source": [
    "def run_test_kmeans(n_clusters, rating_path = 'dataset_5_min_75/', item_path = 'comic_genre.csv'):\n",
    "\n",
    "    total_mae = []\n",
    "    total_time = []\n",
    "\n",
    "    # 10-Fold Cross-Validation\n",
    "    for i in range(1, 11):\n",
    "        # load dataset\n",
    "        print('K-Means (k={}) | Fold = {}'.format(n_clusters, i))\n",
    "        print('Loading Data...')\n",
    "        train_data, cluster_data = load_rating_data('train', number=i, rating_path=rating_path, item_path=item_path)\n",
    "        test_data = load_rating_data('test', number=i, rating_path=rating_path, item_path=item_path)\n",
    "        print('Data Loaded...')\n",
    "\n",
    "        # perform clustering\n",
    "        print('Clustering Starts')\n",
    "        ratings_cluster, cluster_centroids = kmeans_clustering(n_clusters, cluster_data, train_data)\n",
    "        print('Clustering Finished')\n",
    "\n",
    "        # predict and evaluate\n",
    "        print('Predicting and Evaluating Starts')\n",
    "        mae, time = time_evaluate(test_data, ratings_cluster, cluster_centroids)\n",
    "        total_mae.append(mae)\n",
    "        total_time.append(time)\n",
    "        print('Predicting and Evaluating Finished')\n",
    "\n",
    "        clear_output(wait=True)\n",
    "        print('K = {} | Fold = {} | MAE = {} | Time Elapsed = {}\\n'.format(n_clusters, i, mae, time))\n",
    "\n",
    "\n",
    "    clear_output(wait=True)\n",
    "    for i in range(len(total_mae)):\n",
    "        print('K = {} | Fold = {} | MAE = {} | Time Elapsed = {}'.format(n_clusters, i+1, total_mae[i], total_time[i]))\n",
    "    avg_mae = sum(total_mae)/10\n",
    "    avg_time = sum(total_time)/10\n",
    "    print('K = {} | Average MAE = {} | Average Time = {}'.format(n_clusters, avg_mae, avg_time))\n",
    "\n",
    "    # return avg_mae, total_mae"
   ]
  },
  {
   "cell_type": "markdown",
   "metadata": {},
   "source": [
    "# No Clustering"
   ]
  },
  {
   "cell_type": "code",
   "execution_count": 3,
   "metadata": {},
   "outputs": [
    {
     "name": "stdout",
     "output_type": "stream",
     "text": [
      "K = 1 | Fold = 1 | MAE = 0.8148730613791498 | Time Elapsed = 0.05989280749031565\n",
      "K = 1 | Fold = 2 | MAE = 0.8114433017903402 | Time Elapsed = 0.05124692488424027\n",
      "K = 1 | Fold = 3 | MAE = 0.8205062644714537 | Time Elapsed = 0.0592468726440256\n",
      "K = 1 | Fold = 4 | MAE = 0.8164264410905295 | Time Elapsed = 0.07276250382678626\n",
      "K = 1 | Fold = 5 | MAE = 0.8234654574661855 | Time Elapsed = 0.07258743371972225\n",
      "K = 1 | Fold = 6 | MAE = 0.8321202585939066 | Time Elapsed = 0.05943568919106904\n",
      "K = 1 | Fold = 7 | MAE = 0.8171025837555983 | Time Elapsed = 0.05788431773975283\n",
      "K = 1 | Fold = 8 | MAE = 0.8101566255413716 | Time Elapsed = 0.056146008107857026\n",
      "K = 1 | Fold = 9 | MAE = 0.8217688658204603 | Time Elapsed = 0.06005717811253998\n",
      "K = 1 | Fold = 10 | MAE = 0.8170008679354739 | Time Elapsed = 0.06007169657371717\n",
      "K = 1 | Average MAE = 0.8184863727844469 | Average Time = 0.060933143229002604\n"
     ]
    }
   ],
   "source": [
    "run_test_kmeans(1, rating_path='dataset_5_min_75/')"
   ]
  },
  {
   "cell_type": "markdown",
   "metadata": {},
   "source": [
    "# K-Means K=2 - K=20 DATASET_MIN_75 (RATING 1-5)"
   ]
  },
  {
   "cell_type": "code",
   "execution_count": 4,
   "metadata": {},
   "outputs": [
    {
     "name": "stdout",
     "output_type": "stream",
     "text": [
      "K = 2 | Fold = 1 | MAE = 0.8879477569148914 | Time Elapsed = 0.05330612835077765\n",
      "K = 2 | Fold = 2 | MAE = 0.8857139525603617 | Time Elapsed = 0.043368089626106436\n",
      "K = 2 | Fold = 3 | MAE = 0.889357493393063 | Time Elapsed = 0.04347732537805056\n",
      "K = 2 | Fold = 4 | MAE = 0.897138948693297 | Time Elapsed = 0.043679409181508956\n",
      "K = 2 | Fold = 5 | MAE = 0.8808844891521195 | Time Elapsed = 0.0461361569032029\n",
      "K = 2 | Fold = 6 | MAE = 0.8957222101224602 | Time Elapsed = 0.04353744166543138\n",
      "K = 2 | Fold = 7 | MAE = 0.8867527738838981 | Time Elapsed = 0.04261391839477551\n",
      "K = 2 | Fold = 8 | MAE = 0.8823376237303717 | Time Elapsed = 0.04200558002146646\n",
      "K = 2 | Fold = 9 | MAE = 0.889340743655417 | Time Elapsed = 0.03988277231590702\n",
      "K = 2 | Fold = 10 | MAE = 0.8804280339309679 | Time Elapsed = 0.039354317237578006\n",
      "K = 2 | Average MAE = 0.8875624026036848 | Average Time = 0.04373611390748049\n"
     ]
    }
   ],
   "source": [
    "run_test_kmeans(2)"
   ]
  },
  {
   "cell_type": "code",
   "execution_count": 5,
   "metadata": {},
   "outputs": [
    {
     "name": "stdout",
     "output_type": "stream",
     "text": [
      "K = 3 | Fold = 1 | MAE = 0.8948013091290226 | Time Elapsed = 0.031566787692771\n",
      "K = 3 | Fold = 2 | MAE = 0.8921548882254622 | Time Elapsed = 0.03431556953042254\n",
      "K = 3 | Fold = 3 | MAE = 0.894632107325555 | Time Elapsed = 0.03465643975030527\n",
      "K = 3 | Fold = 4 | MAE = 0.9010288135377978 | Time Elapsed = 0.03182607281030356\n",
      "K = 3 | Fold = 5 | MAE = 0.8986230965188567 | Time Elapsed = 0.032163747042166506\n",
      "K = 3 | Fold = 6 | MAE = 0.9051658664893675 | Time Elapsed = 0.03189424726057326\n",
      "K = 3 | Fold = 7 | MAE = 0.8997229404494949 | Time Elapsed = 0.03137847945961114\n",
      "K = 3 | Fold = 8 | MAE = 0.8786232701528168 | Time Elapsed = 0.032431986829893886\n",
      "K = 3 | Fold = 9 | MAE = 0.8875430273059088 | Time Elapsed = 0.031422130135192496\n",
      "K = 3 | Fold = 10 | MAE = 0.887390886811068 | Time Elapsed = 0.031936463258299026\n",
      "K = 3 | Average MAE = 0.893968620594535 | Average Time = 0.03235919237695387\n"
     ]
    }
   ],
   "source": [
    "run_test_kmeans(3)"
   ]
  },
  {
   "cell_type": "code",
   "execution_count": 6,
   "metadata": {},
   "outputs": [
    {
     "name": "stdout",
     "output_type": "stream",
     "text": [
      "K = 4 | Fold = 1 | MAE = 0.8907418108964733 | Time Elapsed = 0.03148879165356721\n",
      "K = 4 | Fold = 2 | MAE = 0.8977863349493702 | Time Elapsed = 0.029589156551079975\n",
      "K = 4 | Fold = 3 | MAE = 0.8936119219389722 | Time Elapsed = 0.032005809226783775\n",
      "K = 4 | Fold = 4 | MAE = 0.8987079241780944 | Time Elapsed = 0.03085833239844743\n",
      "K = 4 | Fold = 5 | MAE = 0.8936905466421234 | Time Elapsed = 0.030929315865999972\n",
      "K = 4 | Fold = 6 | MAE = 0.9073898375385874 | Time Elapsed = 0.03192021180904204\n",
      "K = 4 | Fold = 7 | MAE = 0.8973540320583869 | Time Elapsed = 0.030158793175846035\n",
      "K = 4 | Fold = 8 | MAE = 0.8825776862423016 | Time Elapsed = 0.0314029051675883\n",
      "K = 4 | Fold = 9 | MAE = 0.8893466801384498 | Time Elapsed = 0.030867522508373695\n",
      "K = 4 | Fold = 10 | MAE = 0.8963972898667864 | Time Elapsed = 0.030937469260180865\n",
      "K = 4 | Average MAE = 0.8947604064449546 | Average Time = 0.031015830761690934\n"
     ]
    }
   ],
   "source": [
    "run_test_kmeans(4)"
   ]
  },
  {
   "cell_type": "code",
   "execution_count": 7,
   "metadata": {},
   "outputs": [
    {
     "name": "stdout",
     "output_type": "stream",
     "text": [
      "K = 5 | Fold = 1 | MAE = 0.9023851132020319 | Time Elapsed = 0.02767983044051662\n",
      "K = 5 | Fold = 2 | MAE = 0.9046063415551717 | Time Elapsed = 0.029363447670319072\n",
      "K = 5 | Fold = 3 | MAE = 0.8966080892864943 | Time Elapsed = 0.03266439770185671\n",
      "K = 5 | Fold = 4 | MAE = 0.9265552653919603 | Time Elapsed = 0.031033429513712525\n",
      "K = 5 | Fold = 5 | MAE = 0.9101626943402902 | Time Elapsed = 0.03361894416490049\n",
      "K = 5 | Fold = 6 | MAE = 0.9221466387530932 | Time Elapsed = 0.030396314385679763\n",
      "K = 5 | Fold = 7 | MAE = 0.9189660656008546 | Time Elapsed = 0.02753499178460477\n",
      "K = 5 | Fold = 8 | MAE = 0.9079133945034541 | Time Elapsed = 0.02913335311567376\n",
      "K = 5 | Fold = 9 | MAE = 0.8919544574314661 | Time Elapsed = 0.027701114534299662\n",
      "K = 5 | Fold = 10 | MAE = 0.899690445162278 | Time Elapsed = 0.031409984496046865\n",
      "K = 5 | Average MAE = 0.9080988505227093 | Average Time = 0.030053580780761025\n"
     ]
    }
   ],
   "source": [
    "run_test_kmeans(5)"
   ]
  },
  {
   "cell_type": "code",
   "execution_count": 8,
   "metadata": {},
   "outputs": [
    {
     "name": "stdout",
     "output_type": "stream",
     "text": [
      "K = 6 | Fold = 1 | MAE = 0.9140819050214781 | Time Elapsed = 0.026073753724271138\n",
      "K = 6 | Fold = 2 | MAE = 0.9057373237416083 | Time Elapsed = 0.026901864272461815\n",
      "K = 6 | Fold = 3 | MAE = 0.9163533953618476 | Time Elapsed = 0.02839923440131411\n",
      "K = 6 | Fold = 4 | MAE = 0.9211694346971299 | Time Elapsed = 0.026862844447224938\n",
      "K = 6 | Fold = 5 | MAE = 0.9281082297233731 | Time Elapsed = 0.027878864864108593\n",
      "K = 6 | Fold = 6 | MAE = 0.9309191144856749 | Time Elapsed = 0.02603170958636695\n",
      "K = 6 | Fold = 7 | MAE = 0.9286302862839961 | Time Elapsed = 0.027288455943467762\n",
      "K = 6 | Fold = 8 | MAE = 0.9170805745415906 | Time Elapsed = 0.02774727309697209\n",
      "K = 6 | Fold = 9 | MAE = 0.926091073019099 | Time Elapsed = 0.02815639638942743\n",
      "K = 6 | Fold = 10 | MAE = 0.9143589463485556 | Time Elapsed = 0.027903630067863432\n",
      "K = 6 | Average MAE = 0.9202530283224352 | Average Time = 0.027324402679347826\n"
     ]
    }
   ],
   "source": [
    "run_test_kmeans(6)"
   ]
  },
  {
   "cell_type": "code",
   "execution_count": 3,
   "metadata": {},
   "outputs": [
    {
     "name": "stdout",
     "output_type": "stream",
     "text": [
      "K = 7 | Fold = 1 | MAE = 0.9222970923846454 | Time Elapsed = 0.02770013777006166\n",
      "K = 7 | Fold = 2 | MAE = 0.9141409475993207 | Time Elapsed = 0.02523400568329145\n",
      "K = 7 | Fold = 3 | MAE = 0.9289260293191737 | Time Elapsed = 0.02904790075154827\n",
      "K = 7 | Fold = 4 | MAE = 0.9279326865301092 | Time Elapsed = 0.030735097396230697\n",
      "K = 7 | Fold = 5 | MAE = 0.9423599944398353 | Time Elapsed = 0.030798093560152374\n",
      "K = 7 | Fold = 6 | MAE = 0.9357967666546566 | Time Elapsed = 0.03355888722578766\n",
      "K = 7 | Fold = 7 | MAE = 0.9309235325921384 | Time Elapsed = 0.02944141529733763\n",
      "K = 7 | Fold = 8 | MAE = 0.9240029913454719 | Time Elapsed = 0.029428587260771744\n",
      "K = 7 | Fold = 9 | MAE = 0.93206990115183 | Time Elapsed = 0.03233071293187501\n",
      "K = 7 | Fold = 10 | MAE = 0.9158201798050148 | Time Elapsed = 0.031624055714981635\n",
      "K = 7 | Average MAE = 0.9274270121822198 | Average Time = 0.029989889359203808\n"
     ]
    }
   ],
   "source": [
    "run_test_kmeans(7)"
   ]
  },
  {
   "cell_type": "code",
   "execution_count": 4,
   "metadata": {},
   "outputs": [
    {
     "name": "stdout",
     "output_type": "stream",
     "text": [
      "K = 8 | Fold = 1 | MAE = 0.9367411748602109 | Time Elapsed = 0.03178166278271122\n",
      "K = 8 | Fold = 2 | MAE = 0.9197835982189877 | Time Elapsed = 0.03004320830300354\n",
      "K = 8 | Fold = 3 | MAE = 0.9451044602937274 | Time Elapsed = 0.03142328745980787\n",
      "K = 8 | Fold = 4 | MAE = 0.9512023349931004 | Time Elapsed = 0.030402889516803637\n",
      "K = 8 | Fold = 5 | MAE = 0.9283947656113182 | Time Elapsed = 0.028659407389444655\n",
      "K = 8 | Fold = 6 | MAE = 0.9444301026247869 | Time Elapsed = 0.03252208601884709\n",
      "K = 8 | Fold = 7 | MAE = 0.9326182333262808 | Time Elapsed = 0.029647338336472016\n",
      "K = 8 | Fold = 8 | MAE = 0.9177964412682508 | Time Elapsed = 0.03090562568922594\n",
      "K = 8 | Fold = 9 | MAE = 0.9581749520583773 | Time Elapsed = 0.030176901213984326\n",
      "K = 8 | Fold = 10 | MAE = 0.9191271286835989 | Time Elapsed = 0.029709394993472756\n",
      "K = 8 | Average MAE = 0.9353373191938636 | Average Time = 0.030527180170377304\n"
     ]
    }
   ],
   "source": [
    "run_test_kmeans(8)"
   ]
  },
  {
   "cell_type": "code",
   "execution_count": 5,
   "metadata": {},
   "outputs": [
    {
     "name": "stdout",
     "output_type": "stream",
     "text": [
      "K = 9 | Fold = 1 | MAE = 0.9465130009808106 | Time Elapsed = 0.03318248682342668\n",
      "K = 9 | Fold = 2 | MAE = 0.9325013886208778 | Time Elapsed = 0.030755887906050373\n",
      "K = 9 | Fold = 3 | MAE = 0.9582385270662349 | Time Elapsed = 0.02874707335972864\n",
      "K = 9 | Fold = 4 | MAE = 0.9386358566897238 | Time Elapsed = 0.031664685570899305\n",
      "K = 9 | Fold = 5 | MAE = 0.9549318012492439 | Time Elapsed = 0.029704491585727293\n",
      "K = 9 | Fold = 6 | MAE = 0.9731414180359269 | Time Elapsed = 0.03064288295618217\n",
      "K = 9 | Fold = 7 | MAE = 0.9422032611564793 | Time Elapsed = 0.02951396824351678\n",
      "K = 9 | Fold = 8 | MAE = 0.9389663732387846 | Time Elapsed = 0.02775118937757004\n",
      "K = 9 | Fold = 9 | MAE = 0.9123377511352714 | Time Elapsed = 0.02904816134945261\n",
      "K = 9 | Fold = 10 | MAE = 0.9335103332273393 | Time Elapsed = 0.02847888275575761\n",
      "K = 9 | Average MAE = 0.9430979711400692 | Average Time = 0.029948970992831152\n"
     ]
    }
   ],
   "source": [
    "run_test_kmeans(9)"
   ]
  },
  {
   "cell_type": "code",
   "execution_count": 6,
   "metadata": {},
   "outputs": [
    {
     "name": "stdout",
     "output_type": "stream",
     "text": [
      "K = 10 | Fold = 1 | MAE = 0.9433945520330458 | Time Elapsed = 0.0303548633337705\n",
      "K = 10 | Fold = 2 | MAE = 0.9336498697870272 | Time Elapsed = 0.02681121786789779\n",
      "K = 10 | Fold = 3 | MAE = 0.9639824512883423 | Time Elapsed = 0.029751145837322735\n",
      "K = 10 | Fold = 4 | MAE = 0.9436785248128075 | Time Elapsed = 0.02752974447271754\n",
      "K = 10 | Fold = 5 | MAE = 0.9277981263364575 | Time Elapsed = 0.031356821671622764\n",
      "K = 10 | Fold = 6 | MAE = 0.9663615650032078 | Time Elapsed = 0.02887277410568852\n",
      "K = 10 | Fold = 7 | MAE = 0.9578677803975804 | Time Elapsed = 0.029880295145455982\n",
      "K = 10 | Fold = 8 | MAE = 0.9451232161439466 | Time Elapsed = 0.028335982799242355\n",
      "K = 10 | Fold = 9 | MAE = 0.9471863432468975 | Time Elapsed = 0.03087030544095732\n",
      "K = 10 | Fold = 10 | MAE = 0.9335202670472315 | Time Elapsed = 0.03130184558730566\n",
      "K = 10 | Average MAE = 0.9462562696096546 | Average Time = 0.029506499626198113\n"
     ]
    }
   ],
   "source": [
    "run_test_kmeans(10)"
   ]
  },
  {
   "cell_type": "code",
   "execution_count": 7,
   "metadata": {},
   "outputs": [
    {
     "name": "stdout",
     "output_type": "stream",
     "text": [
      "K = 11 | Fold = 1 | MAE = 0.955398609623878 | Time Elapsed = 0.027071417892172565\n",
      "K = 11 | Fold = 2 | MAE = 0.9338690678418607 | Time Elapsed = 0.03155281614388563\n",
      "K = 11 | Fold = 3 | MAE = 0.9589493048319948 | Time Elapsed = 0.02886798092799959\n",
      "K = 11 | Fold = 4 | MAE = 0.9674776711507134 | Time Elapsed = 0.029730769475201743\n",
      "K = 11 | Fold = 5 | MAE = 0.963052422419271 | Time Elapsed = 0.027071502776985862\n",
      "K = 11 | Fold = 6 | MAE = 0.9698266631988388 | Time Elapsed = 0.027881348723952683\n",
      "K = 11 | Fold = 7 | MAE = 0.9601261838222016 | Time Elapsed = 0.026195252155170486\n",
      "K = 11 | Fold = 8 | MAE = 0.9503804165792815 | Time Elapsed = 0.030710900119451066\n",
      "K = 11 | Fold = 9 | MAE = 0.9506797746027225 | Time Elapsed = 0.02577840655054561\n",
      "K = 11 | Fold = 10 | MAE = 0.9513915331394793 | Time Elapsed = 0.027962798168861904\n",
      "K = 11 | Average MAE = 0.9561151647210242 | Average Time = 0.02828231929342271\n"
     ]
    }
   ],
   "source": [
    "run_test_kmeans(11)"
   ]
  },
  {
   "cell_type": "code",
   "execution_count": 8,
   "metadata": {},
   "outputs": [
    {
     "name": "stdout",
     "output_type": "stream",
     "text": [
      "K = 12 | Fold = 1 | MAE = 0.9424033950739771 | Time Elapsed = 0.025384482361031697\n",
      "K = 12 | Fold = 2 | MAE = 0.9640472035980572 | Time Elapsed = 0.027253021075438574\n",
      "K = 12 | Fold = 3 | MAE = 0.9595643282336178 | Time Elapsed = 0.025363797942996605\n",
      "K = 12 | Fold = 4 | MAE = 0.9717151004592395 | Time Elapsed = 0.025580411076021072\n",
      "K = 12 | Fold = 5 | MAE = 0.9649721736003891 | Time Elapsed = 0.025879045585461252\n",
      "K = 12 | Fold = 6 | MAE = 0.9769546500729923 | Time Elapsed = 0.02742878468956661\n",
      "K = 12 | Fold = 7 | MAE = 0.9760207412277693 | Time Elapsed = 0.030907090918505756\n",
      "K = 12 | Fold = 8 | MAE = 0.9508943554538225 | Time Elapsed = 0.02719572915767791\n",
      "K = 12 | Fold = 9 | MAE = 0.9497013517735591 | Time Elapsed = 0.03043717672333775\n",
      "K = 12 | Fold = 10 | MAE = 0.9593465039550747 | Time Elapsed = 0.028292260199820733\n",
      "K = 12 | Average MAE = 0.9615619803448497 | Average Time = 0.027372179972985793\n"
     ]
    }
   ],
   "source": [
    "run_test_kmeans(12)"
   ]
  },
  {
   "cell_type": "code",
   "execution_count": 9,
   "metadata": {},
   "outputs": [
    {
     "name": "stdout",
     "output_type": "stream",
     "text": [
      "K = 13 | Fold = 1 | MAE = 0.9454717243399913 | Time Elapsed = 0.031030159570754855\n",
      "K = 13 | Fold = 2 | MAE = 0.9431962732851069 | Time Elapsed = 0.027988189047964736\n",
      "K = 13 | Fold = 3 | MAE = 0.9732789563844846 | Time Elapsed = 0.02785585185596426\n",
      "K = 13 | Fold = 4 | MAE = 0.9635165624259614 | Time Elapsed = 0.02874297840566398\n",
      "K = 13 | Fold = 5 | MAE = 0.9638699803736408 | Time Elapsed = 0.027800481855055906\n",
      "K = 13 | Fold = 6 | MAE = 0.9986435050939482 | Time Elapsed = 0.02939744221504611\n",
      "K = 13 | Fold = 7 | MAE = 0.9542498175589941 | Time Elapsed = 0.026105546501104783\n",
      "K = 13 | Fold = 8 | MAE = 0.977051180283461 | Time Elapsed = 0.0278651576761223\n",
      "K = 13 | Fold = 9 | MAE = 0.94424028312396 | Time Elapsed = 0.027745458634474217\n",
      "K = 13 | Fold = 10 | MAE = 0.9468843797851055 | Time Elapsed = 0.02682855777838681\n",
      "K = 13 | Average MAE = 0.9610402662654653 | Average Time = 0.028135982354053797\n"
     ]
    }
   ],
   "source": [
    "run_test_kmeans(13)"
   ]
  },
  {
   "cell_type": "code",
   "execution_count": 10,
   "metadata": {},
   "outputs": [
    {
     "name": "stdout",
     "output_type": "stream",
     "text": [
      "K = 14 | Fold = 1 | MAE = 0.967440453785058 | Time Elapsed = 0.027654947247829798\n",
      "K = 14 | Fold = 2 | MAE = 0.9617647455683404 | Time Elapsed = 0.027880486196785226\n",
      "K = 14 | Fold = 3 | MAE = 0.9829388520530149 | Time Elapsed = 0.027040220179001487\n",
      "K = 14 | Fold = 4 | MAE = 0.9620257291691326 | Time Elapsed = 0.02520876044721656\n",
      "K = 14 | Fold = 5 | MAE = 0.9801335645906021 | Time Elapsed = 0.02589985363286232\n",
      "K = 14 | Fold = 6 | MAE = 0.9769400733816199 | Time Elapsed = 0.025215710017055505\n",
      "K = 14 | Fold = 7 | MAE = 0.9644918384225554 | Time Elapsed = 0.02514310921594608\n",
      "K = 14 | Fold = 8 | MAE = 0.9862542427697016 | Time Elapsed = 0.02571010465297606\n",
      "K = 14 | Fold = 9 | MAE = 0.9639359767264147 | Time Elapsed = 0.025152432856217433\n",
      "K = 14 | Fold = 10 | MAE = 0.9811368949585411 | Time Elapsed = 0.024722803012681635\n",
      "K = 14 | Average MAE = 0.9727062371424979 | Average Time = 0.025962842745857213\n"
     ]
    }
   ],
   "source": [
    "run_test_kmeans(14)"
   ]
  },
  {
   "cell_type": "code",
   "execution_count": 11,
   "metadata": {},
   "outputs": [
    {
     "name": "stdout",
     "output_type": "stream",
     "text": [
      "K = 15 | Fold = 1 | MAE = 0.9483275572268662 | Time Elapsed = 0.02690927809720869\n",
      "K = 15 | Fold = 2 | MAE = 0.9783798741811258 | Time Elapsed = 0.02448460601493651\n",
      "K = 15 | Fold = 3 | MAE = 0.9770337315488538 | Time Elapsed = 0.02542204229948659\n",
      "K = 15 | Fold = 4 | MAE = 0.9708760523397664 | Time Elapsed = 0.025692816971794194\n",
      "K = 15 | Fold = 5 | MAE = 0.9728382214046097 | Time Elapsed = 0.024814035071819895\n",
      "K = 15 | Fold = 6 | MAE = 0.988834388860802 | Time Elapsed = 0.024268461216090307\n",
      "K = 15 | Fold = 7 | MAE = 0.969762115661998 | Time Elapsed = 0.02611728498644471\n",
      "K = 15 | Fold = 8 | MAE = 0.958228419627966 | Time Elapsed = 0.025671837463618848\n",
      "K = 15 | Fold = 9 | MAE = 0.9609520689331179 | Time Elapsed = 0.025102414054900827\n",
      "K = 15 | Fold = 10 | MAE = 0.9523980501979961 | Time Elapsed = 0.026350650625547322\n",
      "K = 15 | Average MAE = 0.9677630479983101 | Average Time = 0.02548334268018479\n"
     ]
    }
   ],
   "source": [
    "run_test_kmeans(15)"
   ]
  },
  {
   "cell_type": "code",
   "execution_count": null,
   "metadata": {},
   "outputs": [
    {
     "name": "stdout",
     "output_type": "stream",
     "text": [
      "K = 16 | Fold = 1 | MAE = 0.9652340174495196 | Time Elapsed = 0.026149573232689932\n",
      "K = 16 | Fold = 2 | MAE = 0.963718125717446 | Time Elapsed = 0.02606090796098892\n",
      "K = 16 | Fold = 3 | MAE = 0.9778540124704864 | Time Elapsed = 0.02448786828061535\n",
      "K = 16 | Fold = 4 | MAE = 0.961132710722876 | Time Elapsed = 0.025977345130910233\n",
      "K = 16 | Fold = 5 | MAE = 0.9739563238153809 | Time Elapsed = 0.025315863494797777\n",
      "K = 16 | Fold = 6 | MAE = 0.9844993471559875 | Time Elapsed = 0.02509310752729109\n",
      "K = 16 | Fold = 7 | MAE = 0.9773051488989503 | Time Elapsed = 0.024652540467389666\n",
      "K = 16 | Fold = 8 | MAE = 0.959030776632421 | Time Elapsed = 0.02597532960187704\n",
      "K = 16 | Fold = 9 | MAE = 0.9766088261761311 | Time Elapsed = 0.024731114520950073\n",
      "K = 16 | Fold = 10 | MAE = 0.9547364350478986 | Time Elapsed = 0.025057095243272976\n",
      "K = 16 | Average MAE = 0.9694075724087098 | Average Time = 0.025350074546078304\n"
     ]
    }
   ],
   "source": [
    "run_test_kmeans(16)\n"
   ]
  },
  {
   "cell_type": "code",
   "execution_count": null,
   "metadata": {},
   "outputs": [
    {
     "name": "stdout",
     "output_type": "stream",
     "text": [
      "K = 17 | Fold = 1 | MAE = 0.969291755839291 | Time Elapsed = 0.02550720168882217\n",
      "K = 17 | Fold = 2 | MAE = 0.9661165488957876 | Time Elapsed = 0.025382635145466195\n",
      "K = 17 | Fold = 3 | MAE = 0.9803106745423011 | Time Elapsed = 0.024422328305222018\n",
      "K = 17 | Fold = 4 | MAE = 0.9885316670690633 | Time Elapsed = 0.0257023392153817\n",
      "K = 17 | Fold = 5 | MAE = 0.9710515914396911 | Time Elapsed = 0.025592744021156\n",
      "K = 17 | Fold = 6 | MAE = 0.9887856469734172 | Time Elapsed = 0.024690992458558946\n",
      "K = 17 | Fold = 7 | MAE = 0.9911975650618677 | Time Elapsed = 0.025394817848856673\n",
      "K = 17 | Fold = 8 | MAE = 0.976486065131409 | Time Elapsed = 0.02651940102738822\n",
      "K = 17 | Fold = 9 | MAE = 0.9838173009295914 | Time Elapsed = 0.02464473628639553\n",
      "K = 17 | Fold = 10 | MAE = 0.9614145372814799 | Time Elapsed = 0.025598823335156035\n",
      "K = 17 | Average MAE = 0.9777003353163899 | Average Time = 0.02534560193324035\n"
     ]
    }
   ],
   "source": [
    "run_test_kmeans(17)\n"
   ]
  },
  {
   "cell_type": "code",
   "execution_count": null,
   "metadata": {},
   "outputs": [
    {
     "name": "stdout",
     "output_type": "stream",
     "text": [
      "K = 18 | Fold = 1 | MAE = 0.9748401458155586 | Time Elapsed = 0.025534458142894748\n",
      "K = 18 | Fold = 2 | MAE = 0.9816108984582209 | Time Elapsed = 0.025244002700157767\n",
      "K = 18 | Fold = 3 | MAE = 0.9942663447352466 | Time Elapsed = 0.02618139918808133\n",
      "K = 18 | Fold = 4 | MAE = 0.972064216214936 | Time Elapsed = 0.025338439310908196\n",
      "K = 18 | Fold = 5 | MAE = 0.9866424574392293 | Time Elapsed = 0.024605617138823924\n",
      "K = 18 | Fold = 6 | MAE = 0.9861339818116547 | Time Elapsed = 0.02559366191126087\n",
      "K = 18 | Fold = 7 | MAE = 0.9871584964458266 | Time Elapsed = 0.024846971769855248\n",
      "K = 18 | Fold = 8 | MAE = 0.978800124106774 | Time Elapsed = 0.02520068501784545\n",
      "K = 18 | Fold = 9 | MAE = 0.978762615797731 | Time Elapsed = 0.024812990387671097\n",
      "K = 18 | Fold = 10 | MAE = 0.9732768210355501 | Time Elapsed = 0.025926531358153346\n",
      "K = 18 | Average MAE = 0.981355610186073 | Average Time = 0.0253284756925652\n"
     ]
    }
   ],
   "source": [
    "run_test_kmeans(18)\n"
   ]
  },
  {
   "cell_type": "code",
   "execution_count": null,
   "metadata": {},
   "outputs": [
    {
     "name": "stdout",
     "output_type": "stream",
     "text": [
      "K = 19 | Fold = 1 | MAE = 0.9617974345907723 | Time Elapsed = 0.02538380529218408\n",
      "K = 19 | Fold = 2 | MAE = 0.9646022451758456 | Time Elapsed = 0.025161289825795866\n",
      "K = 19 | Fold = 3 | MAE = 0.9912299645714875 | Time Elapsed = 0.02553687167226976\n",
      "K = 19 | Fold = 4 | MAE = 0.9793061510360093 | Time Elapsed = 0.025304296855430765\n",
      "K = 19 | Fold = 5 | MAE = 0.9762299056399286 | Time Elapsed = 0.02435430616505358\n",
      "K = 19 | Fold = 6 | MAE = 1.006910335207895 | Time Elapsed = 0.02467246120900303\n",
      "K = 19 | Fold = 7 | MAE = 0.9867324079581175 | Time Elapsed = 0.024523192666006385\n",
      "K = 19 | Fold = 8 | MAE = 0.9939422917472818 | Time Elapsed = 0.024937158930485596\n",
      "K = 19 | Fold = 9 | MAE = 0.9775413345536995 | Time Elapsed = 0.02532110351128657\n",
      "K = 19 | Fold = 10 | MAE = 0.9683620168135189 | Time Elapsed = 0.025138117081234684\n",
      "K = 19 | Average MAE = 0.9806654087294555 | Average Time = 0.025033260320875033\n"
     ]
    }
   ],
   "source": [
    "run_test_kmeans(19)\n"
   ]
  },
  {
   "cell_type": "code",
   "execution_count": null,
   "metadata": {},
   "outputs": [
    {
     "name": "stdout",
     "output_type": "stream",
     "text": [
      "K = 20 | Fold = 1 | MAE = 0.9660408941619378 | Time Elapsed = 0.02474154930220297\n",
      "K = 20 | Fold = 2 | MAE = 0.9754017843871621 | Time Elapsed = 0.02532150024237718\n",
      "K = 20 | Fold = 3 | MAE = 1.0067528674266744 | Time Elapsed = 0.026140792052414753\n",
      "K = 20 | Fold = 4 | MAE = 0.9930103172052126 | Time Elapsed = 0.024091913024723834\n",
      "K = 20 | Fold = 5 | MAE = 0.9829995619027805 | Time Elapsed = 0.0254259707132206\n",
      "K = 20 | Fold = 6 | MAE = 1.0063305036364492 | Time Elapsed = 0.026033152468796405\n",
      "K = 20 | Fold = 7 | MAE = 0.9742417631277513 | Time Elapsed = 0.024826149556597104\n",
      "K = 20 | Fold = 8 | MAE = 0.9786359866186094 | Time Elapsed = 0.025489948505490294\n",
      "K = 20 | Fold = 9 | MAE = 0.9854153134042068 | Time Elapsed = 0.02595260291251982\n",
      "K = 20 | Fold = 10 | MAE = 0.9833838811143605 | Time Elapsed = 0.024801665476874162\n",
      "K = 20 | Average MAE = 0.9852212872985143 | Average Time = 0.025282524425521712\n"
     ]
    }
   ],
   "source": [
    "run_test_kmeans(20)\n"
   ]
  }
 ],
 "metadata": {
  "instance_type": "ml.t3.medium",
  "interpreter": {
   "hash": "6093fa3b248174b374b709111c412862ed9d642d68334f11c425669a3f6da8b1"
  },
  "kernelspec": {
   "display_name": "conda_python3",
   "language": "python",
   "name": "conda_python3"
  },
  "language_info": {
   "codemirror_mode": {
    "name": "ipython",
    "version": 3
   },
   "file_extension": ".py",
   "mimetype": "text/x-python",
   "name": "python",
   "nbconvert_exporter": "python",
   "pygments_lexer": "ipython3",
   "version": "3.6.13"
  }
 },
 "nbformat": 4,
 "nbformat_minor": 4
}
