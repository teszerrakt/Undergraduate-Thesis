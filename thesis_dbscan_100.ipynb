{
 "cells": [
  {
   "cell_type": "code",
   "execution_count": 1,
   "metadata": {},
   "outputs": [],
   "source": [
    "from data_prep import load_rating_data\r\n",
    "from cluster import dbscan_clustering\r\n",
    "from evaluate import time_evaluate\r\n",
    "from IPython.display import clear_output"
   ]
  },
  {
   "cell_type": "code",
   "execution_count": 2,
   "metadata": {},
   "outputs": [],
   "source": [
    "def run_test_dbscan(epsilon, rating_path = 'dataset_5_min_100/', item_path = 'comic_genre.csv'):\r\n",
    "\r\n",
    "    total_mae = []\r\n",
    "    total_time = []\r\n",
    "\r\n",
    "    # 10-Fold Cross-Validation\r\n",
    "    for i in range(1, 11):\r\n",
    "        # load dataset\r\n",
    "        print('DBSCAN (eps={}) | Fold = {}'.format(epsilon, i))\r\n",
    "        print('Loading Data...')\r\n",
    "        train_data, cluster_data = load_rating_data('train', number=i, rating_path=rating_path, item_path=item_path)\r\n",
    "        test_data = load_rating_data('test', number=i, rating_path=rating_path, item_path=item_path)\r\n",
    "        print('Data Loaded...')\r\n",
    "\r\n",
    "        # perform clustering\r\n",
    "        print('Clustering Starts')\r\n",
    "        ratings_cluster = dbscan_clustering(epsilon, cluster_data, train_data)\r\n",
    "        print('Clustering Finished')\r\n",
    "\r\n",
    "        # predict and evaluate\r\n",
    "        print('Predicting and Evaluating Starts')\r\n",
    "        mae, time = time_evaluate(test_data, ratings_cluster, centroids=None)\r\n",
    "        total_mae.append(mae)\r\n",
    "        total_time.append(time)\r\n",
    "        print('Predicting and Evaluating Finished')\r\n",
    "\r\n",
    "        clear_output(wait=True)\r\n",
    "        print('Eps = {} | Fold = {} | MAE = {} | Time Elapsed = {}\\n'.format(epsilon, i, mae, time))\r\n",
    "\r\n",
    "\r\n",
    "    clear_output(wait=True)\r\n",
    "    for i in range(len(total_mae)):\r\n",
    "        print('Eps = {} | Fold = {} | MAE = {} | Time Elapsed = {}'.format(epsilon, i+1, total_mae[i], total_time[i]))\r\n",
    "    avg_mae = sum(total_mae)/10\r\n",
    "    avg_time = sum(total_time)/10\r\n",
    "    print('Eps = {} | Average MAE = {} | Average Time = {}'.format(epsilon, avg_mae, avg_time))\r\n",
    "\r\n",
    "    # return avg_mae, total_mae"
   ]
  },
  {
   "cell_type": "markdown",
   "metadata": {},
   "source": [
    "# DBSCAN Eps = 9.6 - Eps = 16.8 DATASET_MIN_100 (RATING 1-5)"
   ]
  },
  {
   "cell_type": "code",
   "execution_count": null,
   "metadata": {},
   "outputs": [
    {
     "name": "stdout",
     "output_type": "stream",
     "text": [
      "Eps = 9.6 | Fold = 1 | MAE = 0.7675135219958336 | Time Elapsed = 0.02042511981908574\n",
      "Eps = 9.6 | Fold = 2 | MAE = 0.7539053910433107 | Time Elapsed = 0.020028928554623217\n",
      "Eps = 9.6 | Fold = 3 | MAE = 0.7640230630637506 | Time Elapsed = 0.02019414321900771\n",
      "Eps = 9.6 | Fold = 4 | MAE = 0.7721751457880569 | Time Elapsed = 0.020258719979726343\n",
      "Eps = 9.6 | Fold = 5 | MAE = 0.7514019361131026 | Time Elapsed = 0.02294452197314164\n",
      "Eps = 9.6 | Fold = 6 | MAE = 0.7883100001207105 | Time Elapsed = 0.020811059764076212\n",
      "Eps = 9.6 | Fold = 7 | MAE = 0.7850148716913031 | Time Elapsed = 0.023996828241476604\n",
      "Eps = 9.6 | Fold = 8 | MAE = 0.7542000143446822 | Time Elapsed = 0.027081085315599926\n",
      "Eps = 9.6 | Fold = 9 | MAE = 0.7686350179338511 | Time Elapsed = 0.021729305252519416\n",
      "Eps = 9.6 | Fold = 10 | MAE = 0.7574004774123672 | Time Elapsed = 0.025222587056041537\n",
      "Eps = 9.6 | Average MAE = 0.7662579439506969 | Average Time = 0.02226922991752984\n"
     ]
    }
   ],
   "source": [
    "run_test_dbscan(9.6)"
   ]
  },
  {
   "cell_type": "code",
   "execution_count": null,
   "metadata": {},
   "outputs": [
    {
     "name": "stdout",
     "output_type": "stream",
     "text": [
      "Eps = 9.7 | Fold = 1 | MAE = 0.7694449988479252 | Time Elapsed = 0.023837644255553275\n",
      "Eps = 9.7 | Fold = 2 | MAE = 0.7601383862738641 | Time Elapsed = 0.020658449263299884\n",
      "Eps = 9.7 | Fold = 3 | MAE = 0.7626331022185154 | Time Elapsed = 0.023543429325154692\n",
      "Eps = 9.7 | Fold = 4 | MAE = 0.7698099600555207 | Time Elapsed = 0.01994630147262499\n",
      "Eps = 9.7 | Fold = 5 | MAE = 0.7544536348120934 | Time Elapsed = 0.022406099119705723\n",
      "Eps = 9.7 | Fold = 6 | MAE = 0.7899925847047556 | Time Elapsed = 0.021867996362600794\n",
      "Eps = 9.7 | Fold = 7 | MAE = 0.788308497711683 | Time Elapsed = 0.022860567614932215\n",
      "Eps = 9.7 | Fold = 8 | MAE = 0.766640090399658 | Time Elapsed = 0.02641137891218959\n",
      "Eps = 9.7 | Fold = 9 | MAE = 0.7667776167161445 | Time Elapsed = 0.020394545481914748\n",
      "Eps = 9.7 | Fold = 10 | MAE = 0.7665932812909373 | Time Elapsed = 0.022868475342326586\n",
      "Eps = 9.7 | Average MAE = 0.7694792153031098 | Average Time = 0.02247948871503025\n"
     ]
    }
   ],
   "source": [
    "run_test_dbscan(9.7)"
   ]
  },
  {
   "cell_type": "code",
   "execution_count": null,
   "metadata": {},
   "outputs": [
    {
     "name": "stdout",
     "output_type": "stream",
     "text": [
      "Eps = 9.8 | Fold = 1 | MAE = 0.7687683937264554 | Time Elapsed = 0.022926525866476685\n",
      "Eps = 9.8 | Fold = 2 | MAE = 0.7620511527956391 | Time Elapsed = 0.02743330613752566\n",
      "Eps = 9.8 | Fold = 3 | MAE = 0.7757875134989843 | Time Elapsed = 0.026103221553073756\n",
      "Eps = 9.8 | Fold = 4 | MAE = 0.76316646853593 | Time Elapsed = 0.026781949811983393\n",
      "Eps = 9.8 | Fold = 5 | MAE = 0.7527572254729293 | Time Elapsed = 0.024693619332520015\n",
      "Eps = 9.8 | Fold = 6 | MAE = 0.7851309947834795 | Time Elapsed = 0.025451396951185718\n",
      "Eps = 9.8 | Fold = 7 | MAE = 0.7851401683229235 | Time Elapsed = 0.021298928860542694\n",
      "Eps = 9.8 | Fold = 8 | MAE = 0.7644699116294968 | Time Elapsed = 0.02245141609723386\n",
      "Eps = 9.8 | Fold = 9 | MAE = 0.7758451780456136 | Time Elapsed = 0.021525776188578497\n",
      "Eps = 9.8 | Fold = 10 | MAE = 0.770308946198448 | Time Elapsed = 0.020385654854343887\n",
      "Eps = 9.8 | Average MAE = 0.7703425953009899 | Average Time = 0.023905179565346414\n"
     ]
    }
   ],
   "source": [
    "run_test_dbscan(9.8)"
   ]
  },
  {
   "cell_type": "code",
   "execution_count": null,
   "metadata": {},
   "outputs": [
    {
     "name": "stdout",
     "output_type": "stream",
     "text": [
      "Eps = 10 | Fold = 1 | MAE = 0.7728223181137658 | Time Elapsed = 0.023599811115186057\n",
      "Eps = 10 | Fold = 2 | MAE = 0.7669647442975978 | Time Elapsed = 0.023302260446923753\n",
      "Eps = 10 | Fold = 3 | MAE = 0.7706255413318988 | Time Elapsed = 0.024136373675097356\n",
      "Eps = 10 | Fold = 4 | MAE = 0.7790006413419995 | Time Elapsed = 0.0240875002104841\n",
      "Eps = 10 | Fold = 5 | MAE = 0.7608867632376839 | Time Elapsed = 0.02547983429261139\n",
      "Eps = 10 | Fold = 6 | MAE = 0.7885988628091414 | Time Elapsed = 0.02456825777286186\n",
      "Eps = 10 | Fold = 7 | MAE = 0.7919251738140481 | Time Elapsed = 0.02406649275103375\n",
      "Eps = 10 | Fold = 8 | MAE = 0.7727326686067796 | Time Elapsed = 0.021526313021048498\n",
      "Eps = 10 | Fold = 9 | MAE = 0.7770378696210444 | Time Elapsed = 0.025779933909335417\n",
      "Eps = 10 | Fold = 10 | MAE = 0.7743982770939716 | Time Elapsed = 0.021091067290936533\n",
      "Eps = 10 | Average MAE = 0.7754992860267931 | Average Time = 0.023763784448551872\n"
     ]
    }
   ],
   "source": [
    "run_test_dbscan(10)"
   ]
  },
  {
   "cell_type": "code",
   "execution_count": null,
   "metadata": {},
   "outputs": [
    {
     "name": "stdout",
     "output_type": "stream",
     "text": [
      "Eps = 10.5 | Fold = 1 | MAE = 0.7852889791826414 | Time Elapsed = 0.022502188366089845\n",
      "Eps = 10.5 | Fold = 2 | MAE = 0.7853014806662081 | Time Elapsed = 0.022013154417865832\n",
      "Eps = 10.5 | Fold = 3 | MAE = 0.7872634935380495 | Time Elapsed = 0.020754634256593928\n",
      "Eps = 10.5 | Fold = 4 | MAE = 0.7974405703863837 | Time Elapsed = 0.024664331853050413\n",
      "Eps = 10.5 | Fold = 5 | MAE = 0.7806486938451952 | Time Elapsed = 0.018299138670330225\n",
      "Eps = 10.5 | Fold = 6 | MAE = 0.795609934590739 | Time Elapsed = 0.024502732524911013\n",
      "Eps = 10.5 | Fold = 7 | MAE = 0.7958434079212374 | Time Elapsed = 0.020717388428571647\n",
      "Eps = 10.5 | Fold = 8 | MAE = 0.7839452639561632 | Time Elapsed = 0.022333766988239627\n",
      "Eps = 10.5 | Fold = 9 | MAE = 0.7953690337338669 | Time Elapsed = 0.022652696806514275\n",
      "Eps = 10.5 | Fold = 10 | MAE = 0.7941907510969461 | Time Elapsed = 0.01958481230474991\n",
      "Eps = 10.5 | Average MAE = 0.790090160891743 | Average Time = 0.02180248446169167\n"
     ]
    }
   ],
   "source": [
    "run_test_dbscan(10.5)"
   ]
  },
  {
   "cell_type": "code",
   "execution_count": null,
   "metadata": {},
   "outputs": [
    {
     "name": "stdout",
     "output_type": "stream",
     "text": [
      "Eps = 11 | Fold = 1 | MAE = 0.7975796703833176 | Time Elapsed = 0.020585937201439048\n",
      "Eps = 11 | Fold = 2 | MAE = 0.7890415522373483 | Time Elapsed = 0.018336941492640525\n",
      "Eps = 11 | Fold = 3 | MAE = 0.7860550429677509 | Time Elapsed = 0.02016508294498406\n",
      "Eps = 11 | Fold = 4 | MAE = 0.8086162168011309 | Time Elapsed = 0.018337566066108833\n",
      "Eps = 11 | Fold = 5 | MAE = 0.7823873732217359 | Time Elapsed = 0.020299933240436264\n",
      "Eps = 11 | Fold = 6 | MAE = 0.8187960596502443 | Time Elapsed = 0.01854000895698842\n",
      "Eps = 11 | Fold = 7 | MAE = 0.8125725190624417 | Time Elapsed = 0.023961244593107642\n",
      "Eps = 11 | Fold = 8 | MAE = 0.7965604583101594 | Time Elapsed = 0.018655385131065367\n",
      "Eps = 11 | Fold = 9 | MAE = 0.7988147749127376 | Time Elapsed = 0.0236069078161834\n",
      "Eps = 11 | Fold = 10 | MAE = 0.8142495258724909 | Time Elapsed = 0.0206570242175856\n",
      "Eps = 11 | Average MAE = 0.8004673193419357 | Average Time = 0.020314603166053918\n"
     ]
    }
   ],
   "source": [
    "run_test_dbscan(11)"
   ]
  },
  {
   "cell_type": "code",
   "execution_count": null,
   "metadata": {},
   "outputs": [
    {
     "name": "stdout",
     "output_type": "stream",
     "text": [
      "Eps = 11.5 | Fold = 1 | MAE = 0.7890721748875307 | Time Elapsed = 0.020713184935557308\n",
      "Eps = 11.5 | Fold = 2 | MAE = 0.8038767313279392 | Time Elapsed = 0.022226284046101084\n",
      "Eps = 11.5 | Fold = 3 | MAE = 0.8013254926680257 | Time Elapsed = 0.02011224648022826\n",
      "Eps = 11.5 | Fold = 4 | MAE = 0.8068510028503213 | Time Elapsed = 0.02366526360473592\n",
      "Eps = 11.5 | Fold = 5 | MAE = 0.7919603748711457 | Time Elapsed = 0.017674301644505275\n",
      "Eps = 11.5 | Fold = 6 | MAE = 0.8295479137654992 | Time Elapsed = 0.020299813916707758\n",
      "Eps = 11.5 | Fold = 7 | MAE = 0.8306812990281524 | Time Elapsed = 0.0177522922887467\n",
      "Eps = 11.5 | Fold = 8 | MAE = 0.7947319355720088 | Time Elapsed = 0.020745480590260625\n",
      "Eps = 11.5 | Fold = 9 | MAE = 0.8122287664059517 | Time Elapsed = 0.017616381117541102\n",
      "Eps = 11.5 | Fold = 10 | MAE = 0.8223713375760834 | Time Elapsed = 0.020560698134296434\n",
      "Eps = 11.5 | Average MAE = 0.8082647028952659 | Average Time = 0.020136594675868043\n"
     ]
    }
   ],
   "source": [
    "run_test_dbscan(11.5)"
   ]
  },
  {
   "cell_type": "code",
   "execution_count": null,
   "metadata": {},
   "outputs": [
    {
     "name": "stdout",
     "output_type": "stream",
     "text": [
      "Eps = 12 | Fold = 1 | MAE = 0.804898493918117 | Time Elapsed = 0.01788219025477712\n",
      "Eps = 12 | Fold = 2 | MAE = 0.8127877293109668 | Time Elapsed = 0.021014680783309814\n",
      "Eps = 12 | Fold = 3 | MAE = 0.8027887057373979 | Time Elapsed = 0.018625534673821612\n",
      "Eps = 12 | Fold = 4 | MAE = 0.8157793880166342 | Time Elapsed = 0.023879233237192828\n",
      "Eps = 12 | Fold = 5 | MAE = 0.8002335624182249 | Time Elapsed = 0.018640607157282673\n",
      "Eps = 12 | Fold = 6 | MAE = 0.8150944895909913 | Time Elapsed = 0.020337391705967395\n",
      "Eps = 12 | Fold = 7 | MAE = 0.8301577958967082 | Time Elapsed = 0.018597794239660518\n",
      "Eps = 12 | Fold = 8 | MAE = 0.8096262252962173 | Time Elapsed = 0.020089325947704174\n",
      "Eps = 12 | Fold = 9 | MAE = 0.8091065555100954 | Time Elapsed = 0.018856128399501\n",
      "Eps = 12 | Fold = 10 | MAE = 0.8320386686168821 | Time Elapsed = 0.019721618863905194\n",
      "Eps = 12 | Average MAE = 0.8132511614312234 | Average Time = 0.019764450526312236\n"
     ]
    }
   ],
   "source": [
    "run_test_dbscan(12)"
   ]
  },
  {
   "cell_type": "code",
   "execution_count": null,
   "metadata": {},
   "outputs": [
    {
     "name": "stdout",
     "output_type": "stream",
     "text": [
      "Eps = 12.5 | Fold = 1 | MAE = 0.7992155450794544 | Time Elapsed = 0.01893045873566476\n",
      "Eps = 12.5 | Fold = 2 | MAE = 0.7965055328500125 | Time Elapsed = 0.020421696749473556\n",
      "Eps = 12.5 | Fold = 3 | MAE = 0.7994125886793779 | Time Elapsed = 0.021928744893581643\n",
      "Eps = 12.5 | Fold = 4 | MAE = 0.8222075756295762 | Time Elapsed = 0.020056026755944194\n",
      "Eps = 12.5 | Fold = 5 | MAE = 0.7987594104425287 | Time Elapsed = 0.02332608106030397\n",
      "Eps = 12.5 | Fold = 6 | MAE = 0.8198598027293369 | Time Elapsed = 0.01856000153875244\n",
      "Eps = 12.5 | Fold = 7 | MAE = 0.8238605999864195 | Time Elapsed = 0.024953071601647604\n",
      "Eps = 12.5 | Fold = 8 | MAE = 0.8077801162460734 | Time Elapsed = 0.019670644491730095\n",
      "Eps = 12.5 | Fold = 9 | MAE = 0.8014448707045163 | Time Elapsed = 0.02274727144189001\n",
      "Eps = 12.5 | Fold = 10 | MAE = 0.8208664226855893 | Time Elapsed = 0.021919672604852634\n",
      "Eps = 12.5 | Average MAE = 0.8089912465032885 | Average Time = 0.021251366987384092\n"
     ]
    }
   ],
   "source": [
    "run_test_dbscan(12.5)"
   ]
  },
  {
   "cell_type": "code",
   "execution_count": null,
   "metadata": {},
   "outputs": [
    {
     "name": "stdout",
     "output_type": "stream",
     "text": [
      "Eps = 13 | Fold = 1 | MAE = 0.8066822273755906 | Time Elapsed = 0.021376945030611095\n",
      "Eps = 13 | Fold = 2 | MAE = 0.7937210738069784 | Time Elapsed = 0.02473153189966702\n",
      "Eps = 13 | Fold = 3 | MAE = 0.8034506706551748 | Time Elapsed = 0.019111589251161642\n",
      "Eps = 13 | Fold = 4 | MAE = 0.814374562586796 | Time Elapsed = 0.024668078524028903\n",
      "Eps = 13 | Fold = 5 | MAE = 0.7954634990532331 | Time Elapsed = 0.021684989314709194\n",
      "Eps = 13 | Fold = 6 | MAE = 0.8130683802619895 | Time Elapsed = 0.022046363057188594\n",
      "Eps = 13 | Fold = 7 | MAE = 0.8271282475229826 | Time Elapsed = 0.02404278988804253\n",
      "Eps = 13 | Fold = 8 | MAE = 0.810966503959796 | Time Elapsed = 0.019569595903408392\n",
      "Eps = 13 | Fold = 9 | MAE = 0.8025402776989162 | Time Elapsed = 0.02541587467656813\n",
      "Eps = 13 | Fold = 10 | MAE = 0.807878165569986 | Time Elapsed = 0.020670859458027453\n",
      "Eps = 13 | Average MAE = 0.8075273608491443 | Average Time = 0.0223318617003413\n"
     ]
    }
   ],
   "source": [
    "run_test_dbscan(13)"
   ]
  },
  {
   "cell_type": "code",
   "execution_count": null,
   "metadata": {},
   "outputs": [
    {
     "name": "stdout",
     "output_type": "stream",
     "text": [
      "Eps = 13.5 | Fold = 1 | MAE = 0.8117585355007847 | Time Elapsed = 0.02232934284710344\n",
      "Eps = 13.5 | Fold = 2 | MAE = 0.7973701118161877 | Time Elapsed = 0.02415745807067279\n",
      "Eps = 13.5 | Fold = 3 | MAE = 0.7950818314240401 | Time Elapsed = 0.019656224854076833\n",
      "Eps = 13.5 | Fold = 4 | MAE = 0.8020165122045917 | Time Elapsed = 0.021392361664764804\n",
      "Eps = 13.5 | Fold = 5 | MAE = 0.7845212576067591 | Time Elapsed = 0.01908433520579613\n",
      "Eps = 13.5 | Fold = 6 | MAE = 0.7986373329081414 | Time Elapsed = 0.023222913587787393\n",
      "Eps = 13.5 | Fold = 7 | MAE = 0.8245874347285531 | Time Elapsed = 0.01874510588519925\n",
      "Eps = 13.5 | Fold = 8 | MAE = 0.7989719913113235 | Time Elapsed = 0.021686793954304992\n",
      "Eps = 13.5 | Fold = 9 | MAE = 0.8014128714325991 | Time Elapsed = 0.02388761968171592\n",
      "Eps = 13.5 | Fold = 10 | MAE = 0.8049456013214372 | Time Elapsed = 0.020317310644769774\n",
      "Eps = 13.5 | Average MAE = 0.8019303480254418 | Average Time = 0.021447946639619138\n"
     ]
    }
   ],
   "source": [
    "run_test_dbscan(13.5)"
   ]
  },
  {
   "cell_type": "code",
   "execution_count": null,
   "metadata": {},
   "outputs": [
    {
     "name": "stdout",
     "output_type": "stream",
     "text": [
      "Eps = 14 | Fold = 1 | MAE = 0.8015642192586587 | Time Elapsed = 0.02099165311903312\n",
      "Eps = 14 | Fold = 2 | MAE = 0.7913418814431973 | Time Elapsed = 0.0241488538020561\n",
      "Eps = 14 | Fold = 3 | MAE = 0.7945434278587825 | Time Elapsed = 0.02202736623114899\n",
      "Eps = 14 | Fold = 4 | MAE = 0.7946829674085395 | Time Elapsed = 0.02068934927049617\n",
      "Eps = 14 | Fold = 5 | MAE = 0.786341574354026 | Time Elapsed = 0.028416148224138384\n",
      "Eps = 14 | Fold = 6 | MAE = 0.8013261442940188 | Time Elapsed = 0.0258421724395901\n",
      "Eps = 14 | Fold = 7 | MAE = 0.814047614020147 | Time Elapsed = 0.019870382434526407\n",
      "Eps = 14 | Fold = 8 | MAE = 0.782669057846333 | Time Elapsed = 0.025352856319860312\n",
      "Eps = 14 | Fold = 9 | MAE = 0.8005350277157602 | Time Elapsed = 0.024458773297097457\n",
      "Eps = 14 | Fold = 10 | MAE = 0.8006967889331954 | Time Elapsed = 0.020364019100196768\n",
      "Eps = 14 | Average MAE = 0.7967748703132659 | Average Time = 0.02321615742381438\n"
     ]
    }
   ],
   "source": [
    "run_test_dbscan(14)"
   ]
  },
  {
   "cell_type": "code",
   "execution_count": null,
   "metadata": {},
   "outputs": [
    {
     "name": "stdout",
     "output_type": "stream",
     "text": [
      "Eps = 14.5 | Fold = 1 | MAE = 0.7989664027945494 | Time Elapsed = 0.0222884201549796\n",
      "Eps = 14.5 | Fold = 2 | MAE = 0.7949502950960311 | Time Elapsed = 0.02358638420590591\n",
      "Eps = 14.5 | Fold = 3 | MAE = 0.8018150702159386 | Time Elapsed = 0.02210920739319248\n",
      "Eps = 14.5 | Fold = 4 | MAE = 0.7900934913296731 | Time Elapsed = 0.019928012205076538\n",
      "Eps = 14.5 | Fold = 5 | MAE = 0.7926036685750197 | Time Elapsed = 0.021901964453645575\n",
      "Eps = 14.5 | Fold = 6 | MAE = 0.8057029201850101 | Time Elapsed = 0.02120000471563329\n",
      "Eps = 14.5 | Fold = 7 | MAE = 0.8093892325861363 | Time Elapsed = 0.02035737044470694\n",
      "Eps = 14.5 | Fold = 8 | MAE = 0.785096908772347 | Time Elapsed = 0.026386050634657335\n",
      "Eps = 14.5 | Fold = 9 | MAE = 0.7957744082692244 | Time Elapsed = 0.024313181463575428\n",
      "Eps = 14.5 | Fold = 10 | MAE = 0.7888918961218869 | Time Elapsed = 0.021680490829422912\n",
      "Eps = 14.5 | Average MAE = 0.7963284293945817 | Average Time = 0.0223751086500796\n"
     ]
    }
   ],
   "source": [
    "run_test_dbscan(14.5)"
   ]
  },
  {
   "cell_type": "code",
   "execution_count": null,
   "metadata": {},
   "outputs": [
    {
     "name": "stdout",
     "output_type": "stream",
     "text": [
      "Eps = 15 | Fold = 1 | MAE = 0.8060804575622207 | Time Elapsed = 0.02133118200466913\n",
      "Eps = 15 | Fold = 2 | MAE = 0.7953488407720549 | Time Elapsed = 0.02513002954650912\n",
      "Eps = 15 | Fold = 3 | MAE = 0.7951536610424744 | Time Elapsed = 0.022775966261464463\n",
      "Eps = 15 | Fold = 4 | MAE = 0.7834912318885754 | Time Elapsed = 0.0197474758482523\n",
      "Eps = 15 | Fold = 5 | MAE = 0.7890930823382054 | Time Elapsed = 0.026337646565966794\n",
      "Eps = 15 | Fold = 6 | MAE = 0.8032861497193551 | Time Elapsed = 0.02141213553795563\n",
      "Eps = 15 | Fold = 7 | MAE = 0.8167291810315903 | Time Elapsed = 0.02066893226353014\n",
      "Eps = 15 | Fold = 8 | MAE = 0.7868515722634482 | Time Elapsed = 0.021847872868023418\n",
      "Eps = 15 | Fold = 9 | MAE = 0.7958810031260134 | Time Elapsed = 0.024279315941715805\n",
      "Eps = 15 | Fold = 10 | MAE = 0.7900880623615685 | Time Elapsed = 0.022180150671202166\n",
      "Eps = 15 | Average MAE = 0.7962003242105506 | Average Time = 0.022571070750928898\n"
     ]
    }
   ],
   "source": [
    "run_test_dbscan(15)"
   ]
  },
  {
   "cell_type": "code",
   "execution_count": null,
   "metadata": {},
   "outputs": [
    {
     "name": "stdout",
     "output_type": "stream",
     "text": [
      "Eps = 15.5 | Fold = 1 | MAE = 0.8082061788982985 | Time Elapsed = 0.0208309028537028\n",
      "Eps = 15.5 | Fold = 2 | MAE = 0.802041804549781 | Time Elapsed = 0.025809057768090175\n",
      "Eps = 15.5 | Fold = 3 | MAE = 0.7944753487177918 | Time Elapsed = 0.02233459546268115\n",
      "Eps = 15.5 | Fold = 4 | MAE = 0.7864477439506519 | Time Elapsed = 0.020052589917613266\n",
      "Eps = 15.5 | Fold = 5 | MAE = 0.788767726210005 | Time Elapsed = 0.026816007082797008\n",
      "Eps = 15.5 | Fold = 6 | MAE = 0.8103455814255142 | Time Elapsed = 0.020963753200667477\n",
      "Eps = 15.5 | Fold = 7 | MAE = 0.8161028467386429 | Time Elapsed = 0.02146171163376127\n",
      "Eps = 15.5 | Fold = 8 | MAE = 0.7892334871546499 | Time Elapsed = 0.021448401105382146\n",
      "Eps = 15.5 | Fold = 9 | MAE = 0.7977630182424529 | Time Elapsed = 0.02546760756172303\n",
      "Eps = 15.5 | Fold = 10 | MAE = 0.795162882259504 | Time Elapsed = 0.022446184002690696\n",
      "Eps = 15.5 | Average MAE = 0.7988546618147292 | Average Time = 0.0227630810589109\n"
     ]
    }
   ],
   "source": [
    "run_test_dbscan(15.5)"
   ]
  },
  {
   "cell_type": "code",
   "execution_count": null,
   "metadata": {},
   "outputs": [
    {
     "name": "stdout",
     "output_type": "stream",
     "text": [
      "Eps = 16 | Fold = 1 | MAE = 0.8079409264106979 | Time Elapsed = 0.020483358904800845\n",
      "Eps = 16 | Fold = 2 | MAE = 0.8098707590982314 | Time Elapsed = 0.026864785927666467\n",
      "Eps = 16 | Fold = 3 | MAE = 0.802706004281948 | Time Elapsed = 0.02233536037734452\n",
      "Eps = 16 | Fold = 4 | MAE = 0.784281550371793 | Time Elapsed = 0.02056832058470363\n",
      "Eps = 16 | Fold = 5 | MAE = 0.7909838906591949 | Time Elapsed = 0.022970195931302274\n",
      "Eps = 16 | Fold = 6 | MAE = 0.8188252221693614 | Time Elapsed = 0.020508432180389162\n",
      "Eps = 16 | Fold = 7 | MAE = 0.8191364449727305 | Time Elapsed = 0.022751107272207048\n",
      "Eps = 16 | Fold = 8 | MAE = 0.7931954613460452 | Time Elapsed = 0.02755911654235967\n",
      "Eps = 16 | Fold = 9 | MAE = 0.8110823982917872 | Time Elapsed = 0.02036631366001752\n",
      "Eps = 16 | Fold = 10 | MAE = 0.7943037012613215 | Time Elapsed = 0.027702939256460106\n",
      "Eps = 16 | Average MAE = 0.8032326358863109 | Average Time = 0.023210993063725125\n"
     ]
    }
   ],
   "source": [
    "run_test_dbscan(16)"
   ]
  },
  {
   "cell_type": "code",
   "execution_count": null,
   "metadata": {},
   "outputs": [
    {
     "name": "stdout",
     "output_type": "stream",
     "text": [
      "Eps = 16.5 | Fold = 1 | MAE = 0.8063232943379554 | Time Elapsed = 0.02210379509116111\n",
      "Eps = 16.5 | Fold = 2 | MAE = 0.7909839465865813 | Time Elapsed = 0.02629482651084514\n",
      "Eps = 16.5 | Fold = 3 | MAE = 0.7967837681599386 | Time Elapsed = 0.02322571707928595\n",
      "Eps = 16.5 | Fold = 4 | MAE = 0.7926190958672386 | Time Elapsed = 0.020671493797902143\n",
      "Eps = 16.5 | Fold = 5 | MAE = 0.786566050556125 | Time Elapsed = 0.022535882009273138\n",
      "Eps = 16.5 | Fold = 6 | MAE = 0.8094982600881979 | Time Elapsed = 0.022254290127695323\n",
      "Eps = 16.5 | Fold = 7 | MAE = 0.8076743246285071 | Time Elapsed = 0.021469924065350608\n",
      "Eps = 16.5 | Fold = 8 | MAE = 0.7903122111789659 | Time Elapsed = 0.02290328559156328\n",
      "Eps = 16.5 | Fold = 9 | MAE = 0.8040648498849241 | Time Elapsed = 0.028151681545996756\n",
      "Eps = 16.5 | Fold = 10 | MAE = 0.7844941934667511 | Time Elapsed = 0.024296077278665586\n",
      "Eps = 16.5 | Average MAE = 0.7969319994755184 | Average Time = 0.023390697309773906\n"
     ]
    }
   ],
   "source": [
    "run_test_dbscan(16.5)"
   ]
  },
  {
   "cell_type": "code",
   "execution_count": null,
   "metadata": {},
   "outputs": [
    {
     "name": "stdout",
     "output_type": "stream",
     "text": [
      "Eps = 16.8 | Fold = 1 | MAE = 0.8063232943379554 | Time Elapsed = 0.027572362631597888\n",
      "Eps = 16.8 | Fold = 2 | MAE = 0.7832958009880755 | Time Elapsed = 0.029297966133880388\n",
      "Eps = 16.8 | Fold = 3 | MAE = 0.7850518964928381 | Time Elapsed = 0.023160396622048277\n",
      "Eps = 16.8 | Fold = 4 | MAE = 0.7798323489099024 | Time Elapsed = 0.026893875262263098\n",
      "Eps = 16.8 | Fold = 5 | MAE = 0.786566050556125 | Time Elapsed = 0.02367090454646312\n",
      "Eps = 16.8 | Fold = 6 | MAE = 0.8094982600881979 | Time Elapsed = 0.02328977986352892\n",
      "Eps = 16.8 | Fold = 7 | MAE = 0.8059918874674511 | Time Elapsed = 0.023605063647212394\n",
      "Eps = 16.8 | Fold = 8 | MAE = 0.7956288458712298 | Time Elapsed = 0.025893675214625784\n",
      "Eps = 16.8 | Fold = 9 | MAE = 0.7960713557405087 | Time Elapsed = 0.022101624127756903\n",
      "Eps = 16.8 | Fold = 10 | MAE = 0.77544799273102 | Time Elapsed = 0.021796293983768915\n",
      "Eps = 16.8 | Average MAE = 0.7923707733183304 | Average Time = 0.024728194203314572\n"
     ]
    }
   ],
   "source": [
    "run_test_dbscan(16.8)"
   ]
  }
 ],
 "metadata": {
  "interpreter": {
   "hash": "6093fa3b248174b374b709111c412862ed9d642d68334f11c425669a3f6da8b1"
  },
  "kernelspec": {
   "display_name": "conda_python3",
   "language": "python",
   "name": "conda_python3"
  },
  "language_info": {
   "codemirror_mode": {
    "name": "ipython",
    "version": 3
   },
   "file_extension": ".py",
   "mimetype": "text/x-python",
   "name": "python",
   "nbconvert_exporter": "python",
   "pygments_lexer": "ipython3",
   "version": "3.6.13"
  }
 },
 "nbformat": 4,
 "nbformat_minor": 4
}
