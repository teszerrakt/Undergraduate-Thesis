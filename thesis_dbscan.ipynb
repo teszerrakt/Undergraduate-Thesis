{
 "cells": [
  {
   "cell_type": "code",
   "execution_count": 2,
   "metadata": {},
   "outputs": [],
   "source": [
    "from data_prep import load_rating_data\r\n",
    "from cluster import dbscan_clustering\r\n",
    "from evaluate import time_evaluate\r\n",
    "from IPython.display import clear_output"
   ]
  },
  {
   "cell_type": "code",
   "execution_count": 3,
   "metadata": {},
   "outputs": [],
   "source": [
    "def run_test_dbscan(epsilon, rating_path = 'dataset_5_min_100/', item_path = 'comic_genre.csv'):\r\n",
    "\r\n",
    "    total_mae = []\r\n",
    "    total_time = []\r\n",
    "\r\n",
    "    # 10-Fold Cross-Validation\r\n",
    "    for i in range(1, 11):\r\n",
    "        # load dataset\r\n",
    "        print('DBSCAN (eps={}) | Fold = {}'.format(epsilon, i))\r\n",
    "        print('Loading Data...')\r\n",
    "        train_data, cluster_data = load_rating_data('train', number=i, rating_path=rating_path, item_path=item_path)\r\n",
    "        test_data = load_rating_data('test', number=i, rating_path=rating_path, item_path=item_path)\r\n",
    "        print('Data Loaded...')\r\n",
    "\r\n",
    "        # perform clustering\r\n",
    "        print('Clustering Starts')\r\n",
    "        ratings_cluster = dbscan_clustering(epsilon, cluster_data, train_data)\r\n",
    "        print('Clustering Finished')\r\n",
    "\r\n",
    "        # predict and evaluate\r\n",
    "        print('Predicting and Evaluating Starts')\r\n",
    "        mae, time = time_evaluate(test_data, ratings_cluster, centroids=None)\r\n",
    "        total_mae.append(mae)\r\n",
    "        total_time.append(time)\r\n",
    "        print('Predicting and Evaluating Finished')\r\n",
    "\r\n",
    "        clear_output(wait=True)\r\n",
    "        print('Eps = {} | Fold = {} | MAE = {} | Time Elapsed = {}\\n'.format(epsilon, i, mae, time))\r\n",
    "\r\n",
    "\r\n",
    "    clear_output(wait=True)\r\n",
    "    for i in range(len(total_mae)):\r\n",
    "        print('Eps = {} | Fold = {} | MAE = {} | Time Elapsed = {}'.format(epsilon, i+1, total_mae[i], total_time[i]))\r\n",
    "    avg_mae = sum(total_mae)/10\r\n",
    "    avg_time = sum(total_time)/10\r\n",
    "    print('Eps = {} | Average MAE = {} | Average Time = {}'.format(epsilon, avg_mae, avg_time))\r\n",
    "\r\n",
    "    # return avg_mae, total_mae"
   ]
  },
  {
   "cell_type": "markdown",
   "metadata": {},
   "source": [
    "# DBSCAN Eps = 9.6 - Eps = 16.8 DATASET_MIN_100 (RATING 1-5)"
   ]
  },
  {
   "cell_type": "code",
   "execution_count": 3,
   "metadata": {},
   "outputs": [
    {
     "name": "stdout",
     "output_type": "stream",
     "text": [
      "Eps = 9.6 | Fold = 1 | MAE = 0.27215420143830615 | Time Elapsed = 0.01998934114545433\n",
      "Eps = 9.6 | Fold = 2 | MAE = 0.24864892923060922 | Time Elapsed = 0.019495485223618863\n",
      "Eps = 9.6 | Fold = 3 | MAE = 0.2519374090616489 | Time Elapsed = 0.01960745456904642\n",
      "Eps = 9.6 | Fold = 4 | MAE = 0.2785969345571091 | Time Elapsed = 0.01947805438713425\n",
      "Eps = 9.6 | Fold = 5 | MAE = 0.22478221680850008 | Time Elapsed = 0.019563353311500692\n",
      "Eps = 9.6 | Fold = 6 | MAE = 0.27593298798077087 | Time Elapsed = 0.019046571542952553\n",
      "Eps = 9.6 | Fold = 7 | MAE = 0.27661018830918255 | Time Elapsed = 0.019502099463006593\n",
      "Eps = 9.6 | Fold = 8 | MAE = 0.250072731735818 | Time Elapsed = 0.01955734809126993\n",
      "Eps = 9.6 | Fold = 9 | MAE = 0.23863486562190284 | Time Elapsed = 0.019669832578146786\n",
      "Eps = 9.6 | Fold = 10 | MAE = 0.23875570307810667 | Time Elapsed = 0.01942170317615894\n",
      "Eps = 9.6 | Average MAE = 0.25561261678219543 | Average Time = 0.019533124348828933\n"
     ]
    }
   ],
   "source": [
    "run_test_dbscan(9.6)"
   ]
  },
  {
   "cell_type": "code",
   "execution_count": 4,
   "metadata": {},
   "outputs": [
    {
     "name": "stdout",
     "output_type": "stream",
     "text": [
      "Eps = 10 | Fold = 1 | MAE = 0.2874283860722335 | Time Elapsed = 0.018222282031466187\n",
      "Eps = 10 | Fold = 2 | MAE = 0.2652624241043504 | Time Elapsed = 0.01829615903003768\n",
      "Eps = 10 | Fold = 3 | MAE = 0.26807212620163534 | Time Elapsed = 0.018279978530256265\n",
      "Eps = 10 | Fold = 4 | MAE = 0.29051154890340253 | Time Elapsed = 0.018087961126939788\n",
      "Eps = 10 | Fold = 5 | MAE = 0.23646080379946333 | Time Elapsed = 0.018307926570997543\n",
      "Eps = 10 | Fold = 6 | MAE = 0.2824173658371465 | Time Elapsed = 0.01829258469745184\n",
      "Eps = 10 | Fold = 7 | MAE = 0.2914069426776986 | Time Elapsed = 0.018421682262819823\n",
      "Eps = 10 | Fold = 8 | MAE = 0.27596090019960523 | Time Elapsed = 0.018354844781877863\n",
      "Eps = 10 | Fold = 9 | MAE = 0.26680583230670574 | Time Elapsed = 0.018255845011408072\n",
      "Eps = 10 | Fold = 10 | MAE = 0.2728813639762765 | Time Elapsed = 0.018252585197816255\n",
      "Eps = 10 | Average MAE = 0.2737207694078518 | Average Time = 0.01827718492410713\n"
     ]
    }
   ],
   "source": [
    "run_test_dbscan(10)"
   ]
  },
  {
   "cell_type": "code",
   "execution_count": 5,
   "metadata": {},
   "outputs": [
    {
     "name": "stdout",
     "output_type": "stream",
     "text": [
      "Eps = 10.5 | Fold = 1 | MAE = 0.3134150956594957 | Time Elapsed = 0.017236816743507532\n",
      "Eps = 10.5 | Fold = 2 | MAE = 0.2995327683369602 | Time Elapsed = 0.017279232985931817\n",
      "Eps = 10.5 | Fold = 3 | MAE = 0.2895503639930526 | Time Elapsed = 0.017233898938613025\n",
      "Eps = 10.5 | Fold = 4 | MAE = 0.31830194690197516 | Time Elapsed = 0.017123380140042888\n",
      "Eps = 10.5 | Fold = 5 | MAE = 0.2602404621743194 | Time Elapsed = 0.017161510150931123\n",
      "Eps = 10.5 | Fold = 6 | MAE = 0.3024181636914002 | Time Elapsed = 0.01718145973048623\n",
      "Eps = 10.5 | Fold = 7 | MAE = 0.3024774813320706 | Time Elapsed = 0.017452728152240207\n",
      "Eps = 10.5 | Fold = 8 | MAE = 0.30044686909562707 | Time Elapsed = 0.017304924476655076\n",
      "Eps = 10.5 | Fold = 9 | MAE = 0.2971819954888465 | Time Elapsed = 0.01715502060390702\n",
      "Eps = 10.5 | Fold = 10 | MAE = 0.3029197817822168 | Time Elapsed = 0.017151761048045187\n",
      "Eps = 10.5 | Average MAE = 0.29864849284559647 | Average Time = 0.01722807329703601\n"
     ]
    }
   ],
   "source": [
    "run_test_dbscan(10.5)"
   ]
  },
  {
   "cell_type": "code",
   "execution_count": 6,
   "metadata": {},
   "outputs": [
    {
     "name": "stdout",
     "output_type": "stream",
     "text": [
      "Eps = 11 | Fold = 1 | MAE = 0.32867654400004515 | Time Elapsed = 0.01687382495447685\n",
      "Eps = 11 | Fold = 2 | MAE = 0.3119975633279603 | Time Elapsed = 0.016953930697811363\n",
      "Eps = 11 | Fold = 3 | MAE = 0.3038467818282168 | Time Elapsed = 0.016875073177878914\n",
      "Eps = 11 | Fold = 4 | MAE = 0.32977257506423574 | Time Elapsed = 0.017013039421719202\n",
      "Eps = 11 | Fold = 5 | MAE = 0.27491655587910857 | Time Elapsed = 0.016899567342338856\n",
      "Eps = 11 | Fold = 6 | MAE = 0.3385813463361128 | Time Elapsed = 0.016909752644630113\n",
      "Eps = 11 | Fold = 7 | MAE = 0.3252385597254866 | Time Elapsed = 0.016958522211165818\n",
      "Eps = 11 | Fold = 8 | MAE = 0.3264465798250899 | Time Elapsed = 0.016931338336456794\n",
      "Eps = 11 | Fold = 9 | MAE = 0.30750369203282424 | Time Elapsed = 0.016857235597942357\n",
      "Eps = 11 | Fold = 10 | MAE = 0.32865468762057953 | Time Elapsed = 0.01688213636627311\n",
      "Eps = 11 | Average MAE = 0.3175634885639659 | Average Time = 0.01691544207506934\n"
     ]
    }
   ],
   "source": [
    "run_test_dbscan(11)"
   ]
  },
  {
   "cell_type": "code",
   "execution_count": 7,
   "metadata": {},
   "outputs": [
    {
     "name": "stdout",
     "output_type": "stream",
     "text": [
      "Eps = 11.5 | Fold = 1 | MAE = 0.31669176030240825 | Time Elapsed = 0.01683133326030446\n",
      "Eps = 11.5 | Fold = 2 | MAE = 0.32550953026226764 | Time Elapsed = 0.016913198834602607\n",
      "Eps = 11.5 | Fold = 3 | MAE = 0.3207847056003049 | Time Elapsed = 0.017419146793915485\n",
      "Eps = 11.5 | Fold = 4 | MAE = 0.3288575875002497 | Time Elapsed = 0.016814196550129522\n",
      "Eps = 11.5 | Fold = 5 | MAE = 0.28244829754737083 | Time Elapsed = 0.01676045321164941\n",
      "Eps = 11.5 | Fold = 6 | MAE = 0.343413637951877 | Time Elapsed = 0.016804475525321865\n",
      "Eps = 11.5 | Fold = 7 | MAE = 0.34679333322213995 | Time Elapsed = 0.016825794297455864\n",
      "Eps = 11.5 | Fold = 8 | MAE = 0.3270000788261366 | Time Elapsed = 0.01679466435488326\n",
      "Eps = 11.5 | Fold = 9 | MAE = 0.3213466038901459 | Time Elapsed = 0.016790880494082436\n",
      "Eps = 11.5 | Fold = 10 | MAE = 0.33636132092022825 | Time Elapsed = 0.016835711852034682\n",
      "Eps = 11.5 | Average MAE = 0.3249206856023129 | Average Time = 0.01687898551743796\n"
     ]
    }
   ],
   "source": [
    "run_test_dbscan(11.5)"
   ]
  },
  {
   "cell_type": "code",
   "execution_count": 8,
   "metadata": {},
   "outputs": [
    {
     "name": "stdout",
     "output_type": "stream",
     "text": [
      "Eps = 12 | Fold = 1 | MAE = 0.3373307855626638 | Time Elapsed = 0.016934583676877744\n",
      "Eps = 12 | Fold = 2 | MAE = 0.338951179443842 | Time Elapsed = 0.016970490389832612\n",
      "Eps = 12 | Fold = 3 | MAE = 0.3233752512368422 | Time Elapsed = 0.016888679829685126\n",
      "Eps = 12 | Fold = 4 | MAE = 0.34227431629427135 | Time Elapsed = 0.017130882691038674\n",
      "Eps = 12 | Fold = 5 | MAE = 0.30503309713631227 | Time Elapsed = 0.017087499753968075\n",
      "Eps = 12 | Fold = 6 | MAE = 0.3335183244297949 | Time Elapsed = 0.017049756723232605\n",
      "Eps = 12 | Fold = 7 | MAE = 0.3494512333748306 | Time Elapsed = 0.01703893127619981\n",
      "Eps = 12 | Fold = 8 | MAE = 0.35170631823153337 | Time Elapsed = 0.016970474236398685\n",
      "Eps = 12 | Fold = 9 | MAE = 0.32516391310165654 | Time Elapsed = 0.016998222965738066\n",
      "Eps = 12 | Fold = 10 | MAE = 0.35021289620765533 | Time Elapsed = 0.017043711906676775\n",
      "Eps = 12 | Average MAE = 0.3357017315019402 | Average Time = 0.017011323344964815\n"
     ]
    }
   ],
   "source": [
    "run_test_dbscan(12)"
   ]
  },
  {
   "cell_type": "code",
   "execution_count": 10,
   "metadata": {},
   "outputs": [
    {
     "name": "stdout",
     "output_type": "stream",
     "text": [
      "Eps = 12.5 | Fold = 1 | MAE = 0.3348220830337899 | Time Elapsed = 0.017168979851575845\n",
      "Eps = 12.5 | Fold = 2 | MAE = 0.32474708966717075 | Time Elapsed = 0.01713475054139955\n",
      "Eps = 12.5 | Fold = 3 | MAE = 0.32269034048311357 | Time Elapsed = 0.01714891920043879\n",
      "Eps = 12.5 | Fold = 4 | MAE = 0.35297101901505 | Time Elapsed = 0.01715002082179231\n",
      "Eps = 12.5 | Fold = 5 | MAE = 0.305260711526742 | Time Elapsed = 0.017112505497513388\n",
      "Eps = 12.5 | Fold = 6 | MAE = 0.34275135204129614 | Time Elapsed = 0.017053914040031884\n",
      "Eps = 12.5 | Fold = 7 | MAE = 0.34322857282510016 | Time Elapsed = 0.017084898579134672\n",
      "Eps = 12.5 | Fold = 8 | MAE = 0.34885695030904873 | Time Elapsed = 0.01720500561512471\n",
      "Eps = 12.5 | Fold = 9 | MAE = 0.3141355803847625 | Time Elapsed = 0.01709346903401473\n",
      "Eps = 12.5 | Fold = 10 | MAE = 0.33715552095435486 | Time Elapsed = 0.017172218645856063\n",
      "Eps = 12.5 | Average MAE = 0.3326619220240429 | Average Time = 0.017132468182688192\n"
     ]
    }
   ],
   "source": [
    "run_test_dbscan(12.5)"
   ]
  },
  {
   "cell_type": "code",
   "execution_count": 11,
   "metadata": {},
   "outputs": [
    {
     "name": "stdout",
     "output_type": "stream",
     "text": [
      "Eps = 13 | Fold = 1 | MAE = 0.33535034297222527 | Time Elapsed = 0.017636625719299723\n",
      "Eps = 13 | Fold = 2 | MAE = 0.314055924156441 | Time Elapsed = 0.01761261097722916\n",
      "Eps = 13 | Fold = 3 | MAE = 0.32612331631714764 | Time Elapsed = 0.017633775950238757\n",
      "Eps = 13 | Fold = 4 | MAE = 0.3463658491098692 | Time Elapsed = 0.01776992749068807\n",
      "Eps = 13 | Fold = 5 | MAE = 0.29837834869773605 | Time Elapsed = 0.017603256680540053\n",
      "Eps = 13 | Fold = 6 | MAE = 0.3208016058731056 | Time Elapsed = 0.017627242958444322\n",
      "Eps = 13 | Fold = 7 | MAE = 0.3471185486514347 | Time Elapsed = 0.017498354207305996\n",
      "Eps = 13 | Fold = 8 | MAE = 0.34446958804990996 | Time Elapsed = 0.017502156064723794\n",
      "Eps = 13 | Fold = 9 | MAE = 0.32286987511790816 | Time Elapsed = 0.01750798537347175\n",
      "Eps = 13 | Fold = 10 | MAE = 0.3292876389563004 | Time Elapsed = 0.0176687059195178\n",
      "Eps = 13 | Average MAE = 0.3284821037902078 | Average Time = 0.017606064134145942\n"
     ]
    }
   ],
   "source": [
    "run_test_dbscan(13)"
   ]
  },
  {
   "cell_type": "code",
   "execution_count": 12,
   "metadata": {},
   "outputs": [
    {
     "name": "stdout",
     "output_type": "stream",
     "text": [
      "Eps = 13.5 | Fold = 1 | MAE = 0.34272686641618066 | Time Elapsed = 0.017870675617089073\n",
      "Eps = 13.5 | Fold = 2 | MAE = 0.30848792741259545 | Time Elapsed = 0.017986642543051438\n",
      "Eps = 13.5 | Fold = 3 | MAE = 0.3070615018795454 | Time Elapsed = 0.017889922084844682\n",
      "Eps = 13.5 | Fold = 4 | MAE = 0.3246373898195633 | Time Elapsed = 0.018132084138358564\n",
      "Eps = 13.5 | Fold = 5 | MAE = 0.2826691553615154 | Time Elapsed = 0.017955037620174325\n",
      "Eps = 13.5 | Fold = 6 | MAE = 0.30649764566046056 | Time Elapsed = 0.01800516020322286\n",
      "Eps = 13.5 | Fold = 7 | MAE = 0.352287064155204 | Time Elapsed = 0.017872235772185288\n",
      "Eps = 13.5 | Fold = 8 | MAE = 0.32709194245876766 | Time Elapsed = 0.017976448551846172\n",
      "Eps = 13.5 | Fold = 9 | MAE = 0.31300057651850727 | Time Elapsed = 0.017858946682525967\n",
      "Eps = 13.5 | Fold = 10 | MAE = 0.3121673504065766 | Time Elapsed = 0.017904209418161333\n",
      "Eps = 13.5 | Average MAE = 0.31766274200889166 | Average Time = 0.01794513626314597\n"
     ]
    }
   ],
   "source": [
    "run_test_dbscan(13.5)"
   ]
  },
  {
   "cell_type": "code",
   "execution_count": 13,
   "metadata": {},
   "outputs": [
    {
     "name": "stdout",
     "output_type": "stream",
     "text": [
      "Eps = 14 | Fold = 1 | MAE = 0.32795279344082334 | Time Elapsed = 0.01819134378804524\n",
      "Eps = 14 | Fold = 2 | MAE = 0.3026367763111383 | Time Elapsed = 0.018209307635222726\n",
      "Eps = 14 | Fold = 3 | MAE = 0.31304746334039096 | Time Elapsed = 0.01824727901576574\n",
      "Eps = 14 | Fold = 4 | MAE = 0.3155425565159556 | Time Elapsed = 0.01829909657913763\n",
      "Eps = 14 | Fold = 5 | MAE = 0.27671927201070073 | Time Elapsed = 0.0182621848813961\n",
      "Eps = 14 | Fold = 6 | MAE = 0.3086931673128427 | Time Elapsed = 0.018067403537620257\n",
      "Eps = 14 | Fold = 7 | MAE = 0.33983115859126284 | Time Elapsed = 0.018169265958236373\n",
      "Eps = 14 | Fold = 8 | MAE = 0.31196955146012495 | Time Elapsed = 0.018243638740495803\n",
      "Eps = 14 | Fold = 9 | MAE = 0.3112260341738581 | Time Elapsed = 0.018170827091011407\n",
      "Eps = 14 | Fold = 10 | MAE = 0.3084484665269714 | Time Elapsed = 0.018079892396994077\n",
      "Eps = 14 | Average MAE = 0.31160672396840694 | Average Time = 0.018194023962392537\n"
     ]
    }
   ],
   "source": [
    "run_test_dbscan(14)"
   ]
  },
  {
   "cell_type": "code",
   "execution_count": 14,
   "metadata": {},
   "outputs": [
    {
     "name": "stdout",
     "output_type": "stream",
     "text": [
      "Eps = 14.5 | Fold = 1 | MAE = 0.3236925413117994 | Time Elapsed = 0.018604571430173075\n",
      "Eps = 14.5 | Fold = 2 | MAE = 0.3060697585483605 | Time Elapsed = 0.01850208148833881\n",
      "Eps = 14.5 | Fold = 3 | MAE = 0.3146880678869802 | Time Elapsed = 0.018546373327534046\n",
      "Eps = 14.5 | Fold = 4 | MAE = 0.30974580387362766 | Time Elapsed = 0.018451444118488498\n",
      "Eps = 14.5 | Fold = 5 | MAE = 0.2739320879855653 | Time Elapsed = 0.018512137137184418\n",
      "Eps = 14.5 | Fold = 6 | MAE = 0.3151186192664514 | Time Elapsed = 0.018421190528972734\n",
      "Eps = 14.5 | Fold = 7 | MAE = 0.3308657997393259 | Time Elapsed = 0.01856539402909348\n",
      "Eps = 14.5 | Fold = 8 | MAE = 0.31460962683865346 | Time Elapsed = 0.01839033089696341\n",
      "Eps = 14.5 | Fold = 9 | MAE = 0.3030667388394237 | Time Elapsed = 0.01844855298222786\n",
      "Eps = 14.5 | Fold = 10 | MAE = 0.2942936383806824 | Time Elapsed = 0.01862370953714831\n",
      "Eps = 14.5 | Average MAE = 0.308608268267087 | Average Time = 0.01850657854761246\n"
     ]
    }
   ],
   "source": [
    "run_test_dbscan(14.5)"
   ]
  },
  {
   "cell_type": "code",
   "execution_count": 15,
   "metadata": {},
   "outputs": [
    {
     "name": "stdout",
     "output_type": "stream",
     "text": [
      "Eps = 15 | Fold = 1 | MAE = 0.33246740041892875 | Time Elapsed = 0.018978968158873524\n",
      "Eps = 15 | Fold = 2 | MAE = 0.3038219108342823 | Time Elapsed = 0.018797950668260063\n",
      "Eps = 15 | Fold = 3 | MAE = 0.30234533191079543 | Time Elapsed = 0.018780951497477466\n",
      "Eps = 15 | Fold = 4 | MAE = 0.29421384096353353 | Time Elapsed = 0.018681000649826463\n",
      "Eps = 15 | Fold = 5 | MAE = 0.27471268849495695 | Time Elapsed = 0.01878502498652215\n",
      "Eps = 15 | Fold = 6 | MAE = 0.30744279465875496 | Time Elapsed = 0.018775062996151854\n",
      "Eps = 15 | Fold = 7 | MAE = 0.32951872155970297 | Time Elapsed = 0.018841789751070995\n",
      "Eps = 15 | Fold = 8 | MAE = 0.30305893074070106 | Time Elapsed = 0.01877208178937448\n",
      "Eps = 15 | Fold = 9 | MAE = 0.29251443916176945 | Time Elapsed = 0.018781803030899095\n",
      "Eps = 15 | Fold = 10 | MAE = 0.291770579536298 | Time Elapsed = 0.01882996281180139\n",
      "Eps = 15 | Average MAE = 0.3031866638279723 | Average Time = 0.01880245963402575\n"
     ]
    }
   ],
   "source": [
    "run_test_dbscan(15)"
   ]
  },
  {
   "cell_type": "code",
   "execution_count": 16,
   "metadata": {},
   "outputs": [
    {
     "name": "stdout",
     "output_type": "stream",
     "text": [
      "Eps = 15.5 | Fold = 1 | MAE = 0.3365992596024283 | Time Elapsed = 0.019062726803703533\n",
      "Eps = 15.5 | Fold = 2 | MAE = 0.314296943818873 | Time Elapsed = 0.018973340319672755\n",
      "Eps = 15.5 | Fold = 3 | MAE = 0.30166629197999817 | Time Elapsed = 0.019109261517750692\n",
      "Eps = 15.5 | Fold = 4 | MAE = 0.3002764714462288 | Time Elapsed = 0.019111214247771364\n",
      "Eps = 15.5 | Fold = 5 | MAE = 0.28009346908486055 | Time Elapsed = 0.019255124005280212\n",
      "Eps = 15.5 | Fold = 6 | MAE = 0.30872523255759976 | Time Elapsed = 0.01920576914538791\n",
      "Eps = 15.5 | Fold = 7 | MAE = 0.3300251797731639 | Time Elapsed = 0.019131102727513748\n",
      "Eps = 15.5 | Fold = 8 | MAE = 0.30306730524098324 | Time Elapsed = 0.0190921598904582\n",
      "Eps = 15.5 | Fold = 9 | MAE = 0.29316817083361213 | Time Elapsed = 0.019181921044871465\n",
      "Eps = 15.5 | Fold = 10 | MAE = 0.2995105304865009 | Time Elapsed = 0.0191489856400017\n",
      "Eps = 15.5 | Average MAE = 0.3067428854824249 | Average Time = 0.01912716053424116\n"
     ]
    }
   ],
   "source": [
    "run_test_dbscan(15.5)"
   ]
  },
  {
   "cell_type": "code",
   "execution_count": 17,
   "metadata": {},
   "outputs": [
    {
     "name": "stdout",
     "output_type": "stream",
     "text": [
      "Eps = 16 | Fold = 1 | MAE = 0.33467887108191674 | Time Elapsed = 0.0192185126081636\n",
      "Eps = 16 | Fold = 2 | MAE = 0.3221618196097401 | Time Elapsed = 0.019134361292600252\n",
      "Eps = 16 | Fold = 3 | MAE = 0.31085334376255036 | Time Elapsed = 0.019024177778131965\n",
      "Eps = 16 | Fold = 4 | MAE = 0.2938045201226231 | Time Elapsed = 0.019062040968642842\n",
      "Eps = 16 | Fold = 5 | MAE = 0.28022045012913976 | Time Elapsed = 0.01919565831038815\n",
      "Eps = 16 | Fold = 6 | MAE = 0.3210905772887143 | Time Elapsed = 0.019111020835157998\n",
      "Eps = 16 | Fold = 7 | MAE = 0.33599406591257996 | Time Elapsed = 0.01910104356570139\n",
      "Eps = 16 | Fold = 8 | MAE = 0.3044540474426187 | Time Elapsed = 0.01917571126116757\n",
      "Eps = 16 | Fold = 9 | MAE = 0.30575541768143927 | Time Elapsed = 0.01912512564263941\n",
      "Eps = 16 | Fold = 10 | MAE = 0.2975958356141565 | Time Elapsed = 0.019031349951156015\n",
      "Eps = 16 | Average MAE = 0.31066089486454784 | Average Time = 0.01911790022137492\n"
     ]
    }
   ],
   "source": [
    "run_test_dbscan(16)"
   ]
  },
  {
   "cell_type": "code",
   "execution_count": 18,
   "metadata": {},
   "outputs": [
    {
     "name": "stdout",
     "output_type": "stream",
     "text": [
      "Eps = 16.5 | Fold = 1 | MAE = 0.32567869533966237 | Time Elapsed = 0.019332285514251413\n",
      "Eps = 16.5 | Fold = 2 | MAE = 0.2990492357859588 | Time Elapsed = 0.01916275376833413\n",
      "Eps = 16.5 | Fold = 3 | MAE = 0.29973700928184405 | Time Elapsed = 0.01925055748075871\n",
      "Eps = 16.5 | Fold = 4 | MAE = 0.30098295998100555 | Time Elapsed = 0.01940274582337089\n",
      "Eps = 16.5 | Fold = 5 | MAE = 0.26986417480268476 | Time Elapsed = 0.019115615592706362\n",
      "Eps = 16.5 | Fold = 6 | MAE = 0.3030040787883146 | Time Elapsed = 0.019227072927309158\n",
      "Eps = 16.5 | Fold = 7 | MAE = 0.3164281913582004 | Time Elapsed = 0.01922484359057901\n",
      "Eps = 16.5 | Fold = 8 | MAE = 0.299835059508259 | Time Elapsed = 0.019112650289856946\n",
      "Eps = 16.5 | Fold = 9 | MAE = 0.29154503276220944 | Time Elapsed = 0.019174685780874348\n",
      "Eps = 16.5 | Fold = 10 | MAE = 0.2779743881738045 | Time Elapsed = 0.019051878362062766\n",
      "Eps = 16.5 | Average MAE = 0.2984098825781944 | Average Time = 0.019205508913010375\n"
     ]
    }
   ],
   "source": [
    "run_test_dbscan(16.5)"
   ]
  },
  {
   "cell_type": "code",
   "execution_count": 19,
   "metadata": {},
   "outputs": [
    {
     "name": "stdout",
     "output_type": "stream",
     "text": [
      "Eps = 16.8 | Fold = 1 | MAE = 0.32567869533966237 | Time Elapsed = 0.019373656757294112\n",
      "Eps = 16.8 | Fold = 2 | MAE = 0.28679024053457297 | Time Elapsed = 0.019287823728263\n",
      "Eps = 16.8 | Fold = 3 | MAE = 0.2886963207022364 | Time Elapsed = 0.019226094173221603\n",
      "Eps = 16.8 | Fold = 4 | MAE = 0.2891342088513494 | Time Elapsed = 0.019584186778716265\n",
      "Eps = 16.8 | Fold = 5 | MAE = 0.26986417480268476 | Time Elapsed = 0.01921351627891657\n",
      "Eps = 16.8 | Fold = 6 | MAE = 0.3030040787883146 | Time Elapsed = 0.019164048419651792\n",
      "Eps = 16.8 | Fold = 7 | MAE = 0.3135041987806774 | Time Elapsed = 0.019506175504258774\n",
      "Eps = 16.8 | Fold = 8 | MAE = 0.3072871689463265 | Time Elapsed = 0.019384759307440092\n",
      "Eps = 16.8 | Fold = 9 | MAE = 0.27967851549499484 | Time Elapsed = 0.019468731603626714\n",
      "Eps = 16.8 | Fold = 10 | MAE = 0.2697184375931695 | Time Elapsed = 0.019449547361425873\n",
      "Eps = 16.8 | Average MAE = 0.29333560398339886 | Average Time = 0.019365853991281483\n"
     ]
    }
   ],
   "source": [
    "run_test_dbscan(16.8)"
   ]
  },
  {
   "cell_type": "markdown",
   "metadata": {},
   "source": [
    "# DBSCAN Eps = 7.8 - Eps = 20 DATASET_MIN_75 (RATING 1-5)"
   ]
  },
  {
   "cell_type": "code",
   "execution_count": 3,
   "metadata": {},
   "outputs": [
    {
     "name": "stdout",
     "output_type": "stream",
     "text": [
      "Eps = 7.8 | Fold = 1 | MAE = 0.31655475252040727 | Time Elapsed = 0.04200487345016581\n",
      "Eps = 7.8 | Fold = 2 | MAE = 0.3102621556642738 | Time Elapsed = 0.042064421058518674\n",
      "Eps = 7.8 | Fold = 3 | MAE = 0.33513248371773924 | Time Elapsed = 0.04206624688356407\n",
      "Eps = 7.8 | Fold = 4 | MAE = 0.3198465685110397 | Time Elapsed = 0.05025356259069836\n",
      "Eps = 7.8 | Fold = 5 | MAE = 0.309132914618688 | Time Elapsed = 0.050260885446341524\n",
      "Eps = 7.8 | Fold = 6 | MAE = 0.33466236211275785 | Time Elapsed = 0.049560224680251085\n",
      "Eps = 7.8 | Fold = 7 | MAE = 0.31063919469083845 | Time Elapsed = 0.04100378774219129\n",
      "Eps = 7.8 | Fold = 8 | MAE = 0.30264630545161275 | Time Elapsed = 0.051053492149446905\n",
      "Eps = 7.8 | Fold = 9 | MAE = 0.3324482412862414 | Time Elapsed = 0.04124744092126312\n",
      "Eps = 7.8 | Fold = 10 | MAE = 0.3152338548404202 | Time Elapsed = 0.040793710513450265\n",
      "Eps = 7.8 | Average MAE = 0.3186558833414018 | Average Time = 0.0450308645435891\n"
     ]
    }
   ],
   "source": [
    "run_test_dbscan(7.8, rating_path='dataset_5_min_75/')"
   ]
  },
  {
   "cell_type": "code",
   "execution_count": 4,
   "metadata": {},
   "outputs": [
    {
     "name": "stdout",
     "output_type": "stream",
     "text": [
      "Eps = 8 | Fold = 1 | MAE = 0.3167457405781341 | Time Elapsed = 0.041335544032436417\n",
      "Eps = 8 | Fold = 2 | MAE = 0.30961898441482394 | Time Elapsed = 0.0464268242001479\n",
      "Eps = 8 | Fold = 3 | MAE = 0.33501806975135373 | Time Elapsed = 0.0409941680080434\n",
      "Eps = 8 | Fold = 4 | MAE = 0.3179877105827955 | Time Elapsed = 0.04997864052103481\n",
      "Eps = 8 | Fold = 5 | MAE = 0.30884220802255624 | Time Elapsed = 0.041614108546916495\n",
      "Eps = 8 | Fold = 6 | MAE = 0.3340179213705462 | Time Elapsed = 0.041135779682253154\n",
      "Eps = 8 | Fold = 7 | MAE = 0.3077859740684742 | Time Elapsed = 0.04607188111233376\n",
      "Eps = 8 | Fold = 8 | MAE = 0.30906780109917376 | Time Elapsed = 0.04900566778179371\n",
      "Eps = 8 | Fold = 9 | MAE = 0.3339827485478653 | Time Elapsed = 0.04088478364022132\n",
      "Eps = 8 | Fold = 10 | MAE = 0.31529028631078815 | Time Elapsed = 0.040975679531723215\n",
      "Eps = 8 | Average MAE = 0.31883574447465113 | Average Time = 0.04384230770569042\n"
     ]
    }
   ],
   "source": [
    "run_test_dbscan(8, rating_path='dataset_5_min_75/')"
   ]
  },
  {
   "cell_type": "code",
   "execution_count": 5,
   "metadata": {},
   "outputs": [
    {
     "name": "stdout",
     "output_type": "stream",
     "text": [
      "Eps = 8.1 | Fold = 1 | MAE = 0.32406059277253385 | Time Elapsed = 0.040581262849969976\n",
      "Eps = 8.1 | Fold = 2 | MAE = 0.31860063086796536 | Time Elapsed = 0.041312122486636446\n",
      "Eps = 8.1 | Fold = 3 | MAE = 0.33417436259722433 | Time Elapsed = 0.041150673880134096\n",
      "Eps = 8.1 | Fold = 4 | MAE = 0.3260865350406267 | Time Elapsed = 0.048013817666041014\n",
      "Eps = 8.1 | Fold = 5 | MAE = 0.31056526857255434 | Time Elapsed = 0.041639538175733196\n",
      "Eps = 8.1 | Fold = 6 | MAE = 0.3403987112282571 | Time Elapsed = 0.03944032430550827\n",
      "Eps = 8.1 | Fold = 7 | MAE = 0.3205740757781281 | Time Elapsed = 0.04078521504970749\n",
      "Eps = 8.1 | Fold = 8 | MAE = 0.30849893472861556 | Time Elapsed = 0.04064229673060626\n",
      "Eps = 8.1 | Fold = 9 | MAE = 0.3359394194768125 | Time Elapsed = 0.04000079558667329\n",
      "Eps = 8.1 | Fold = 10 | MAE = 0.32476345349728764 | Time Elapsed = 0.04044725394382439\n",
      "Eps = 8.1 | Average MAE = 0.32436619845600057 | Average Time = 0.04140133006748344\n"
     ]
    }
   ],
   "source": [
    "run_test_dbscan(8.1, rating_path='dataset_5_min_75/')"
   ]
  },
  {
   "cell_type": "code",
   "execution_count": 6,
   "metadata": {},
   "outputs": [
    {
     "name": "stdout",
     "output_type": "stream",
     "text": [
      "Eps = 8.2 | Fold = 1 | MAE = 0.3242782897702382 | Time Elapsed = 0.04069537203192142\n",
      "Eps = 8.2 | Fold = 2 | MAE = 0.3217951432037118 | Time Elapsed = 0.04028937726035898\n",
      "Eps = 8.2 | Fold = 3 | MAE = 0.34677365422548384 | Time Elapsed = 0.03979147495532709\n",
      "Eps = 8.2 | Fold = 4 | MAE = 0.3250914588601512 | Time Elapsed = 0.04745328664929274\n",
      "Eps = 8.2 | Fold = 5 | MAE = 0.32309484188419085 | Time Elapsed = 0.049323055177141854\n",
      "Eps = 8.2 | Fold = 6 | MAE = 0.3428867943947516 | Time Elapsed = 0.039055614412903596\n",
      "Eps = 8.2 | Fold = 7 | MAE = 0.3233360146255436 | Time Elapsed = 0.04069656368438995\n",
      "Eps = 8.2 | Fold = 8 | MAE = 0.30934335987486783 | Time Elapsed = 0.04858955894390475\n",
      "Eps = 8.2 | Fold = 9 | MAE = 0.3343171403064239 | Time Elapsed = 0.04006552474540749\n",
      "Eps = 8.2 | Fold = 10 | MAE = 0.3254354411534444 | Time Elapsed = 0.04011026368899022\n",
      "Eps = 8.2 | Average MAE = 0.3276352138298807 | Average Time = 0.04260700915496381\n"
     ]
    }
   ],
   "source": [
    "run_test_dbscan(8.2, rating_path='dataset_5_min_75/')"
   ]
  },
  {
   "cell_type": "code",
   "execution_count": null,
   "metadata": {},
   "outputs": [
    {
     "name": "stdout",
     "output_type": "stream",
     "text": [
      "Eps = 8.3 | Fold = 1 | MAE = 0.32537256038243983 | Time Elapsed = 0.038921727473747676\n",
      "Eps = 8.3 | Fold = 2 | MAE = 0.31873200256540973 | Time Elapsed = 0.03910915630433206\n",
      "Eps = 8.3 | Fold = 3 | MAE = 0.34965953430522917 | Time Elapsed = 0.03837775840137189\n",
      "Eps = 8.3 | Fold = 4 | MAE = 0.32381247674890634 | Time Elapsed = 0.038629998239547415\n",
      "Eps = 8.3 | Fold = 5 | MAE = 0.32341988706719055 | Time Elapsed = 0.040000224124506094\n",
      "Eps = 8.3 | Fold = 6 | MAE = 0.34605628787159454 | Time Elapsed = 0.03974948746448223\n",
      "Eps = 8.3 | Fold = 7 | MAE = 0.32609781085930756 | Time Elapsed = 0.038583365953211844\n",
      "Eps = 8.3 | Fold = 8 | MAE = 0.3123156347020114 | Time Elapsed = 0.03837584924102659\n",
      "Eps = 8.3 | Fold = 9 | MAE = 0.3393559339921233 | Time Elapsed = 0.0397948732443938\n",
      "Eps = 8.3 | Fold = 10 | MAE = 0.32922264117822636 | Time Elapsed = 0.03950246813362625\n",
      "Eps = 8.3 | Average MAE = 0.32940447696724384 | Average Time = 0.03910449085802458\n"
     ]
    }
   ],
   "source": [
    "run_test_dbscan(8.3, rating_path='dataset_5_min_75/')"
   ]
  },
  {
   "cell_type": "code",
   "execution_count": null,
   "metadata": {},
   "outputs": [
    {
     "name": "stdout",
     "output_type": "stream",
     "text": [
      "Eps = 9 | Fold = 1 | MAE = 0.3636347064509266 | Time Elapsed = 0.03272549065268685\n",
      "Eps = 9 | Fold = 2 | MAE = 0.3525846239725224 | Time Elapsed = 0.03230484847080562\n",
      "Eps = 9 | Fold = 3 | MAE = 0.3879441528865402 | Time Elapsed = 0.032898744061483055\n",
      "Eps = 9 | Fold = 4 | MAE = 0.35752411633411096 | Time Elapsed = 0.03265549992909363\n",
      "Eps = 9 | Fold = 5 | MAE = 0.355984406930222 | Time Elapsed = 0.03267590201570181\n",
      "Eps = 9 | Fold = 6 | MAE = 0.37883536862478057 | Time Elapsed = 0.032029096363281835\n",
      "Eps = 9 | Fold = 7 | MAE = 0.3585763650632984 | Time Elapsed = 0.03253894706979678\n",
      "Eps = 9 | Fold = 8 | MAE = 0.36202843848756483 | Time Elapsed = 0.03251502052044179\n",
      "Eps = 9 | Fold = 9 | MAE = 0.37401406251531727 | Time Elapsed = 0.03258447293467808\n",
      "Eps = 9 | Fold = 10 | MAE = 0.3688036977191773 | Time Elapsed = 0.03235405480813054\n",
      "Eps = 9 | Average MAE = 0.3659929938984461 | Average Time = 0.03252820768261\n"
     ]
    }
   ],
   "source": [
    "run_test_dbscan(9, rating_path='dataset_5_min_75/')"
   ]
  },
  {
   "cell_type": "code",
   "execution_count": 4,
   "metadata": {},
   "outputs": [
    {
     "name": "stdout",
     "output_type": "stream",
     "text": [
      "Eps = 10 | Fold = 1 | MAE = 0.41317704358355434 | Time Elapsed = 0.029729427530587247\n",
      "Eps = 10 | Fold = 2 | MAE = 0.4010935199636098 | Time Elapsed = 0.0296278891741363\n",
      "Eps = 10 | Fold = 3 | MAE = 0.428454531622033 | Time Elapsed = 0.03189936569950055\n",
      "Eps = 10 | Fold = 4 | MAE = 0.4054652830499827 | Time Elapsed = 0.029405861056271042\n",
      "Eps = 10 | Fold = 5 | MAE = 0.40077265239436316 | Time Elapsed = 0.029076283737596274\n",
      "Eps = 10 | Fold = 6 | MAE = 0.4222186098248318 | Time Elapsed = 0.02926989925434313\n",
      "Eps = 10 | Fold = 7 | MAE = 0.3971469590023525 | Time Elapsed = 0.029447102219666697\n",
      "Eps = 10 | Fold = 8 | MAE = 0.40507182297489863 | Time Elapsed = 0.029486591515110832\n",
      "Eps = 10 | Fold = 9 | MAE = 0.4201798870900741 | Time Elapsed = 0.02918153538180175\n",
      "Eps = 10 | Fold = 10 | MAE = 0.4058112309114643 | Time Elapsed = 0.029568224292496875\n",
      "Eps = 10 | Average MAE = 0.40993915404171644 | Average Time = 0.029669217986151068\n"
     ]
    }
   ],
   "source": [
    "run_test_dbscan(10, rating_path='dataset_5_min_75/')"
   ]
  },
  {
   "cell_type": "code",
   "execution_count": 5,
   "metadata": {},
   "outputs": [
    {
     "name": "stdout",
     "output_type": "stream",
     "text": [
      "Eps = 11 | Fold = 1 | MAE = 0.43559764281230656 | Time Elapsed = 0.02965624275751097\n",
      "Eps = 11 | Fold = 2 | MAE = 0.4167463436847183 | Time Elapsed = 0.02959169432409145\n",
      "Eps = 11 | Fold = 3 | MAE = 0.4414454301020708 | Time Elapsed = 0.029376373447549977\n",
      "Eps = 11 | Fold = 4 | MAE = 0.43319284682636977 | Time Elapsed = 0.029581229838311834\n",
      "Eps = 11 | Fold = 5 | MAE = 0.4102893523653306 | Time Elapsed = 0.02970164476523749\n",
      "Eps = 11 | Fold = 6 | MAE = 0.45077070795896296 | Time Elapsed = 0.029475443802767756\n",
      "Eps = 11 | Fold = 7 | MAE = 0.42584917349519047 | Time Elapsed = 0.029470323846532455\n",
      "Eps = 11 | Fold = 8 | MAE = 0.4238235300682558 | Time Elapsed = 0.02973085169269826\n",
      "Eps = 11 | Fold = 9 | MAE = 0.429819577275284 | Time Elapsed = 0.029447746454786525\n",
      "Eps = 11 | Fold = 10 | MAE = 0.43218036741393395 | Time Elapsed = 0.0297380110650425\n",
      "Eps = 11 | Average MAE = 0.4299714972002423 | Average Time = 0.02957695619945292\n"
     ]
    }
   ],
   "source": [
    "run_test_dbscan(11, rating_path='dataset_5_min_75/')"
   ]
  },
  {
   "cell_type": "code",
   "execution_count": 6,
   "metadata": {},
   "outputs": [
    {
     "name": "stdout",
     "output_type": "stream",
     "text": [
      "Eps = 12 | Fold = 1 | MAE = 0.4524548231726597 | Time Elapsed = 0.03079754265729073\n",
      "Eps = 12 | Fold = 2 | MAE = 0.42257093565963116 | Time Elapsed = 0.030645513518807815\n",
      "Eps = 12 | Fold = 3 | MAE = 0.44515060781691307 | Time Elapsed = 0.031136098458381622\n",
      "Eps = 12 | Fold = 4 | MAE = 0.4515525871679323 | Time Elapsed = 0.03464826354976083\n",
      "Eps = 12 | Fold = 5 | MAE = 0.42938814900931666 | Time Elapsed = 0.030959954642309856\n",
      "Eps = 12 | Fold = 6 | MAE = 0.4548626467735311 | Time Elapsed = 0.031037425508053287\n",
      "Eps = 12 | Fold = 7 | MAE = 0.4305504929706764 | Time Elapsed = 0.030536172972002756\n",
      "Eps = 12 | Fold = 8 | MAE = 0.4204362575147229 | Time Elapsed = 0.03522657675210529\n",
      "Eps = 12 | Fold = 9 | MAE = 0.44017048222354704 | Time Elapsed = 0.03508036060826618\n",
      "Eps = 12 | Fold = 10 | MAE = 0.44038607335689134 | Time Elapsed = 0.03127816779472981\n",
      "Eps = 12 | Average MAE = 0.4387523055665821 | Average Time = 0.03213460764617082\n"
     ]
    }
   ],
   "source": [
    "run_test_dbscan(12, rating_path='dataset_5_min_75/')"
   ]
  },
  {
   "cell_type": "code",
   "execution_count": null,
   "metadata": {},
   "outputs": [
    {
     "name": "stdout",
     "output_type": "stream",
     "text": [
      "Eps = 13 | Fold = 7 | MAE = 0.44651426013793594 | Time Elapsed = 0.037564503456898365\n",
      "\n",
      "DBSCAN (eps=13) | Fold = 8\n",
      "Loading Data...\n",
      "Data Loaded...\n",
      "Clustering Starts\n",
      "Clustering Finished\n",
      "Predicting and Evaluating Starts\n"
     ]
    }
   ],
   "source": [
    "run_test_dbscan(13, rating_path='dataset_5_min_75/')"
   ]
  },
  {
   "cell_type": "code",
   "execution_count": null,
   "metadata": {},
   "outputs": [
    {
     "name": "stdout",
     "output_type": "stream",
     "text": [
      "Eps = 14 | Fold = 1 | MAE = 0.4280027998304082 | Time Elapsed = 0.0334299469389695\n",
      "Eps = 14 | Fold = 2 | MAE = 0.42388624055293506 | Time Elapsed = 0.034060349427652334\n",
      "Eps = 14 | Fold = 3 | MAE = 0.4319498822756147 | Time Elapsed = 0.033896159573199136\n",
      "Eps = 14 | Fold = 4 | MAE = 0.4425940980178815 | Time Elapsed = 0.039306857921185566\n",
      "Eps = 14 | Fold = 5 | MAE = 0.4193087487643555 | Time Elapsed = 0.034168201313621575\n",
      "Eps = 14 | Fold = 6 | MAE = 0.4448291793542967 | Time Elapsed = 0.03357762360230362\n",
      "Eps = 14 | Fold = 7 | MAE = 0.4216031577704901 | Time Elapsed = 0.03919638730859701\n",
      "Eps = 14 | Fold = 8 | MAE = 0.40849301956987255 | Time Elapsed = 0.04000134576661557\n",
      "Eps = 14 | Fold = 9 | MAE = 0.4362606555712399 | Time Elapsed = 0.039765250757719195\n",
      "Eps = 14 | Fold = 10 | MAE = 0.42145353443488087 | Time Elapsed = 0.0335999555673417\n",
      "Eps = 14 | Average MAE = 0.4278381316141974 | Average Time = 0.03610020781772052\n"
     ]
    }
   ],
   "source": [
    "run_test_dbscan(14, rating_path='dataset_5_min_75/')"
   ]
  },
  {
   "cell_type": "code",
   "execution_count": null,
   "metadata": {},
   "outputs": [
    {
     "name": "stdout",
     "output_type": "stream",
     "text": [
      "Eps = 15 | Fold = 1 | MAE = 0.4240944766169143 | Time Elapsed = 0.035543748333998544\n",
      "Eps = 15 | Fold = 2 | MAE = 0.40217082014467653 | Time Elapsed = 0.035581290381084346\n",
      "Eps = 15 | Fold = 3 | MAE = 0.42581712218784995 | Time Elapsed = 0.03575298761597381\n",
      "Eps = 15 | Fold = 4 | MAE = 0.42281068492525536 | Time Elapsed = 0.04182862622811732\n",
      "Eps = 15 | Fold = 5 | MAE = 0.40724994812366644 | Time Elapsed = 0.03472998619196343\n",
      "Eps = 15 | Fold = 6 | MAE = 0.42846303807509667 | Time Elapsed = 0.03549948817193156\n",
      "Eps = 15 | Fold = 7 | MAE = 0.4137562230188644 | Time Elapsed = 0.034582918379776874\n",
      "Eps = 15 | Fold = 8 | MAE = 0.40584172363327464 | Time Elapsed = 0.042103261783622455\n",
      "Eps = 15 | Fold = 9 | MAE = 0.427713864894896 | Time Elapsed = 0.035851439723153876\n",
      "Eps = 15 | Fold = 10 | MAE = 0.4193686783450253 | Time Elapsed = 0.03602590335853\n",
      "Eps = 15 | Average MAE = 0.41772865799655196 | Average Time = 0.036749965016815225\n"
     ]
    }
   ],
   "source": [
    "run_test_dbscan(15, rating_path='dataset_5_min_75/')"
   ]
  },
  {
   "cell_type": "code",
   "execution_count": null,
   "metadata": {},
   "outputs": [
    {
     "name": "stdout",
     "output_type": "stream",
     "text": [
      "Eps = 16 | Fold = 1 | MAE = 0.41159872995701247 | Time Elapsed = 0.036504979581548615\n",
      "Eps = 16 | Fold = 2 | MAE = 0.3900511329140969 | Time Elapsed = 0.03585503957533714\n",
      "Eps = 16 | Fold = 3 | MAE = 0.4104240458245184 | Time Elapsed = 0.03700823234363436\n",
      "Eps = 16 | Fold = 4 | MAE = 0.3985437520285271 | Time Elapsed = 0.04356873434857492\n",
      "Eps = 16 | Fold = 5 | MAE = 0.3941883357089831 | Time Elapsed = 0.036355237865933795\n",
      "Eps = 16 | Fold = 6 | MAE = 0.41807715590333483 | Time Elapsed = 0.03628979094708708\n",
      "Eps = 16 | Fold = 7 | MAE = 0.4002567966135767 | Time Elapsed = 0.04386919050708987\n",
      "Eps = 16 | Fold = 8 | MAE = 0.3901079731340695 | Time Elapsed = 0.035769447232808574\n",
      "Eps = 16 | Fold = 9 | MAE = 0.41152594688802596 | Time Elapsed = 0.037050360241700345\n",
      "Eps = 16 | Fold = 10 | MAE = 0.3983200565195912 | Time Elapsed = 0.03704519628525564\n",
      "Eps = 16 | Average MAE = 0.4023093925491736 | Average Time = 0.03793162089289703\n"
     ]
    }
   ],
   "source": [
    "run_test_dbscan(16, rating_path='dataset_5_min_75/')"
   ]
  },
  {
   "cell_type": "code",
   "execution_count": null,
   "metadata": {},
   "outputs": [
    {
     "name": "stdout",
     "output_type": "stream",
     "text": [
      "Eps = 17 | Fold = 9 | MAE = 0.3950201125880321 | Time Elapsed = 0.03729680112252454\n",
      "\n",
      "DBSCAN (eps=17) | Fold = 10\n",
      "Loading Data...\n",
      "Data Loaded...\n",
      "Clustering Starts\n",
      "Clustering Finished\n",
      "Predicting and Evaluating Starts\n"
     ]
    }
   ],
   "source": [
    "run_test_dbscan(17, rating_path='dataset_5_min_75/')"
   ]
  },
  {
   "cell_type": "code",
   "execution_count": null,
   "metadata": {},
   "outputs": [],
   "source": [
    "run_test_dbscan(18, rating_path='dataset_5_min_75/')"
   ]
  },
  {
   "cell_type": "code",
   "execution_count": null,
   "metadata": {},
   "outputs": [],
   "source": [
    "run_test_dbscan(19, rating_path='dataset_5_min_75/')"
   ]
  },
  {
   "cell_type": "code",
   "execution_count": null,
   "metadata": {},
   "outputs": [],
   "source": [
    "run_test_dbscan(20, rating_path='dataset_5_min_75/')"
   ]
  },
  {
   "cell_type": "code",
   "execution_count": null,
   "metadata": {},
   "outputs": [],
   "source": []
  }
 ],
 "metadata": {
  "instance_type": "ml.t3.medium",
  "interpreter": {
   "hash": "6093fa3b248174b374b709111c412862ed9d642d68334f11c425669a3f6da8b1"
  },
  "kernelspec": {
   "display_name": "Python 3 (Base Python)",
   "language": "python",
   "name": "python3__SAGEMAKER_INTERNAL__arn:aws:sagemaker:ap-southeast-1:492261229750:image/python-3.6"
  },
  "language_info": {
   "codemirror_mode": {
    "name": "ipython",
    "version": 3
   },
   "file_extension": ".py",
   "mimetype": "text/x-python",
   "name": "python",
   "nbconvert_exporter": "python",
   "pygments_lexer": "ipython3",
   "version": "3.6.13"
  }
 },
 "nbformat": 4,
 "nbformat_minor": 4
}
