{
 "cells": [
  {
   "cell_type": "code",
   "execution_count": 1,
   "metadata": {},
   "outputs": [],
   "source": [
    "from data_prep import load_rating_data\r\n",
    "from cluster import dbscan_clustering\r\n",
    "from evaluate import time_evaluate\r\n",
    "from IPython.display import clear_output"
   ]
  },
  {
   "cell_type": "code",
   "execution_count": 2,
   "metadata": {},
   "outputs": [],
   "source": [
    "def run_test_dbscan(epsilon, rating_path = 'dataset_5_min_100/', item_path = 'comic_genre.csv'):\r\n",
    "\r\n",
    "    total_mae = []\r\n",
    "    total_time = []\r\n",
    "\r\n",
    "    # 10-Fold Cross-Validation\r\n",
    "    for i in range(1, 11):\r\n",
    "        # load dataset\r\n",
    "        print('DBSCAN (eps={}) | Fold = {}'.format(epsilon, i))\r\n",
    "        print('Loading Data...')\r\n",
    "        train_data, cluster_data = load_rating_data('train', number=i, rating_path=rating_path, item_path=item_path)\r\n",
    "        test_data = load_rating_data('test', number=i, rating_path=rating_path, item_path=item_path)\r\n",
    "        print('Data Loaded...')\r\n",
    "\r\n",
    "        # perform clustering\r\n",
    "        print('Clustering Starts')\r\n",
    "        ratings_cluster = dbscan_clustering(epsilon, cluster_data, train_data)\r\n",
    "        print('Clustering Finished')\r\n",
    "\r\n",
    "        # predict and evaluate\r\n",
    "        print('Predicting and Evaluating Starts')\r\n",
    "        mae, time = time_evaluate(test_data, ratings_cluster, centroids=None)\r\n",
    "        total_mae.append(mae)\r\n",
    "        total_time.append(time)\r\n",
    "        print('Predicting and Evaluating Finished')\r\n",
    "\r\n",
    "        clear_output(wait=True)\r\n",
    "        print('Eps = {} | Fold = {} | MAE = {} | Time Elapsed = {}\\n'.format(epsilon, i, mae, time))\r\n",
    "\r\n",
    "\r\n",
    "    clear_output(wait=True)\r\n",
    "    for i in range(len(total_mae)):\r\n",
    "        print('Eps = {} | Fold = {} | MAE = {} | Time Elapsed = {}'.format(epsilon, i+1, total_mae[i], total_time[i]))\r\n",
    "    avg_mae = sum(total_mae)/10\r\n",
    "    avg_time = sum(total_time)/10\r\n",
    "    print('Eps = {} | Average MAE = {} | Average Time = {}'.format(epsilon, avg_mae, avg_time))\r\n",
    "\r\n",
    "    # return avg_mae, total_mae"
   ]
  },
  {
   "cell_type": "markdown",
   "metadata": {},
   "source": [
    "# DBSCAN Eps = 9.6 - Eps = 16.8 DATASET_MIN_100 (RATING 1-5)"
   ]
  },
  {
   "cell_type": "code",
   "execution_count": 3,
   "metadata": {},
   "outputs": [
    {
     "name": "stdout",
     "output_type": "stream",
     "text": [
      "Eps = 9.6 | Fold = 1 | MAE = 0.27215420143830615 | Time Elapsed = 0.01998934114545433\n",
      "Eps = 9.6 | Fold = 2 | MAE = 0.24864892923060922 | Time Elapsed = 0.019495485223618863\n",
      "Eps = 9.6 | Fold = 3 | MAE = 0.2519374090616489 | Time Elapsed = 0.01960745456904642\n",
      "Eps = 9.6 | Fold = 4 | MAE = 0.2785969345571091 | Time Elapsed = 0.01947805438713425\n",
      "Eps = 9.6 | Fold = 5 | MAE = 0.22478221680850008 | Time Elapsed = 0.019563353311500692\n",
      "Eps = 9.6 | Fold = 6 | MAE = 0.27593298798077087 | Time Elapsed = 0.019046571542952553\n",
      "Eps = 9.6 | Fold = 7 | MAE = 0.27661018830918255 | Time Elapsed = 0.019502099463006593\n",
      "Eps = 9.6 | Fold = 8 | MAE = 0.250072731735818 | Time Elapsed = 0.01955734809126993\n",
      "Eps = 9.6 | Fold = 9 | MAE = 0.23863486562190284 | Time Elapsed = 0.019669832578146786\n",
      "Eps = 9.6 | Fold = 10 | MAE = 0.23875570307810667 | Time Elapsed = 0.01942170317615894\n",
      "Eps = 9.6 | Average MAE = 0.25561261678219543 | Average Time = 0.019533124348828933\n"
     ]
    }
   ],
   "source": [
    "run_test_dbscan(9.6)"
   ]
  },
  {
   "cell_type": "code",
   "execution_count": 4,
   "metadata": {},
   "outputs": [
    {
     "name": "stdout",
     "output_type": "stream",
     "text": [
      "Eps = 10 | Fold = 1 | MAE = 0.2874283860722335 | Time Elapsed = 0.018222282031466187\n",
      "Eps = 10 | Fold = 2 | MAE = 0.2652624241043504 | Time Elapsed = 0.01829615903003768\n",
      "Eps = 10 | Fold = 3 | MAE = 0.26807212620163534 | Time Elapsed = 0.018279978530256265\n",
      "Eps = 10 | Fold = 4 | MAE = 0.29051154890340253 | Time Elapsed = 0.018087961126939788\n",
      "Eps = 10 | Fold = 5 | MAE = 0.23646080379946333 | Time Elapsed = 0.018307926570997543\n",
      "Eps = 10 | Fold = 6 | MAE = 0.2824173658371465 | Time Elapsed = 0.01829258469745184\n",
      "Eps = 10 | Fold = 7 | MAE = 0.2914069426776986 | Time Elapsed = 0.018421682262819823\n",
      "Eps = 10 | Fold = 8 | MAE = 0.27596090019960523 | Time Elapsed = 0.018354844781877863\n",
      "Eps = 10 | Fold = 9 | MAE = 0.26680583230670574 | Time Elapsed = 0.018255845011408072\n",
      "Eps = 10 | Fold = 10 | MAE = 0.2728813639762765 | Time Elapsed = 0.018252585197816255\n",
      "Eps = 10 | Average MAE = 0.2737207694078518 | Average Time = 0.01827718492410713\n"
     ]
    }
   ],
   "source": [
    "run_test_dbscan(10)"
   ]
  },
  {
   "cell_type": "code",
   "execution_count": null,
   "metadata": {},
   "outputs": [
    {
     "name": "stdout",
     "output_type": "stream",
     "text": [
      "Eps = 10.5 | Fold = 5 | MAE = 0.2602404621743194 | Time Elapsed = 0.017161510150931123\n",
      "\n",
      "DBSCAN (eps=10.5) | Fold = 6\n",
      "Loading Data...\n",
      "Data Loaded...\n",
      "Clustering Starts\n",
      "Clustering Finished\n",
      "Predicting and Evaluating Starts\n"
     ]
    }
   ],
   "source": [
    "run_test_dbscan(10.5)"
   ]
  },
  {
   "cell_type": "code",
   "execution_count": null,
   "metadata": {},
   "outputs": [],
   "source": [
    "run_test_dbscan(11)"
   ]
  },
  {
   "cell_type": "code",
   "execution_count": null,
   "metadata": {},
   "outputs": [],
   "source": [
    "run_test_dbscan(11.5)"
   ]
  },
  {
   "cell_type": "code",
   "execution_count": null,
   "metadata": {},
   "outputs": [],
   "source": [
    "run_test_dbscan(12)"
   ]
  },
  {
   "cell_type": "code",
   "execution_count": null,
   "metadata": {},
   "outputs": [],
   "source": [
    "run_test_dbscan(12.5)"
   ]
  },
  {
   "cell_type": "code",
   "execution_count": null,
   "metadata": {},
   "outputs": [],
   "source": [
    "run_test_dbscan(13)"
   ]
  },
  {
   "cell_type": "code",
   "execution_count": null,
   "metadata": {},
   "outputs": [],
   "source": [
    "run_test_dbscan(13.5)"
   ]
  },
  {
   "cell_type": "code",
   "execution_count": null,
   "metadata": {},
   "outputs": [],
   "source": [
    "run_test_dbscan(14)"
   ]
  },
  {
   "cell_type": "code",
   "execution_count": null,
   "metadata": {},
   "outputs": [],
   "source": [
    "run_test_dbscan(14.5)"
   ]
  },
  {
   "cell_type": "code",
   "execution_count": null,
   "metadata": {},
   "outputs": [],
   "source": [
    "run_test_dbscan(15)"
   ]
  },
  {
   "cell_type": "code",
   "execution_count": null,
   "metadata": {},
   "outputs": [],
   "source": [
    "run_test_dbscan(15.5)"
   ]
  },
  {
   "cell_type": "code",
   "execution_count": null,
   "metadata": {},
   "outputs": [],
   "source": [
    "run_test_dbscan(16)"
   ]
  },
  {
   "cell_type": "code",
   "execution_count": null,
   "metadata": {},
   "outputs": [],
   "source": [
    "run_test_dbscan(16.5)"
   ]
  },
  {
   "cell_type": "code",
   "execution_count": null,
   "metadata": {},
   "outputs": [],
   "source": [
    "run_test_dbscan(16.8)"
   ]
  },
  {
   "cell_type": "markdown",
   "metadata": {},
   "source": [
    "# DBSCAN Eps = 9.6 - Eps = 16.8 DATASET_MIN_75 (RATING 1-5)"
   ]
  },
  {
   "cell_type": "code",
   "execution_count": null,
   "metadata": {},
   "outputs": [],
   "source": [
    "run_test_dbscan(7.8, rating_path='dataset_5_min_100/')"
   ]
  },
  {
   "cell_type": "code",
   "execution_count": null,
   "metadata": {},
   "outputs": [],
   "source": [
    "run_test_dbscan(8, rating_path='dataset_5_min_100/')"
   ]
  },
  {
   "cell_type": "code",
   "execution_count": null,
   "metadata": {},
   "outputs": [],
   "source": [
    "run_test_dbscan(8.1, rating_path='dataset_5_min_100/')"
   ]
  },
  {
   "cell_type": "code",
   "execution_count": null,
   "metadata": {},
   "outputs": [],
   "source": [
    "run_test_dbscan(8.2, rating_path='dataset_5_min_100/')"
   ]
  },
  {
   "cell_type": "code",
   "execution_count": null,
   "metadata": {},
   "outputs": [],
   "source": [
    "run_test_dbscan(8.3, rating_path='dataset_5_min_100/')"
   ]
  },
  {
   "cell_type": "code",
   "execution_count": null,
   "metadata": {},
   "outputs": [],
   "source": [
    "run_test_dbscan(9, rating_path='dataset_5_min_100/')"
   ]
  },
  {
   "cell_type": "code",
   "execution_count": null,
   "metadata": {},
   "outputs": [],
   "source": [
    "run_test_dbscan(10, rating_path='dataset_5_min_100/')"
   ]
  },
  {
   "cell_type": "code",
   "execution_count": null,
   "metadata": {},
   "outputs": [],
   "source": [
    "run_test_dbscan(11, rating_path='dataset_5_min_100/')"
   ]
  },
  {
   "cell_type": "code",
   "execution_count": null,
   "metadata": {},
   "outputs": [],
   "source": [
    "run_test_dbscan(12, rating_path='dataset_5_min_100/')"
   ]
  },
  {
   "cell_type": "code",
   "execution_count": null,
   "metadata": {},
   "outputs": [],
   "source": [
    "run_test_dbscan(13, rating_path='dataset_5_min_100/')"
   ]
  },
  {
   "cell_type": "code",
   "execution_count": null,
   "metadata": {},
   "outputs": [],
   "source": [
    "run_test_dbscan(14, rating_path='dataset_5_min_100/')"
   ]
  },
  {
   "cell_type": "code",
   "execution_count": null,
   "metadata": {},
   "outputs": [],
   "source": [
    "run_test_dbscan(15, rating_path='dataset_5_min_100/')"
   ]
  },
  {
   "cell_type": "code",
   "execution_count": null,
   "metadata": {},
   "outputs": [],
   "source": [
    "run_test_dbscan(16, rating_path='dataset_5_min_100/')"
   ]
  },
  {
   "cell_type": "code",
   "execution_count": null,
   "metadata": {},
   "outputs": [],
   "source": [
    "run_test_dbscan(17, rating_path='dataset_5_min_100/')"
   ]
  },
  {
   "cell_type": "code",
   "execution_count": null,
   "metadata": {},
   "outputs": [],
   "source": [
    "run_test_dbscan(18, rating_path='dataset_5_min_100/')"
   ]
  },
  {
   "cell_type": "code",
   "execution_count": null,
   "metadata": {},
   "outputs": [],
   "source": [
    "run_test_dbscan(19, rating_path='dataset_5_min_100/')"
   ]
  },
  {
   "cell_type": "code",
   "execution_count": null,
   "metadata": {},
   "outputs": [],
   "source": [
    "run_test_dbscan(20, rating_path='dataset_5_min_100/')"
   ]
  }
 ],
 "metadata": {
  "instance_type": "ml.t3.medium",
  "interpreter": {
   "hash": "6093fa3b248174b374b709111c412862ed9d642d68334f11c425669a3f6da8b1"
  },
  "kernelspec": {
   "display_name": "Python 3 (Base Python)",
   "language": "python",
   "name": "python3__SAGEMAKER_INTERNAL__arn:aws:sagemaker:ap-southeast-1:492261229750:image/python-3.6"
  },
  "language_info": {
   "codemirror_mode": {
    "name": "ipython",
    "version": 3
   },
   "file_extension": ".py",
   "mimetype": "text/x-python",
   "name": "python",
   "nbconvert_exporter": "python",
   "pygments_lexer": "ipython3",
   "version": "3.6.13"
  }
 },
 "nbformat": 4,
 "nbformat_minor": 4
}
