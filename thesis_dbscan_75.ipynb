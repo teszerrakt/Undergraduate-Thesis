{
 "cells": [
  {
   "cell_type": "code",
   "execution_count": 1,
   "metadata": {},
   "outputs": [],
   "source": [
    "from data_prep import load_rating_data\r\n",
    "from cluster import dbscan_clustering\r\n",
    "from evaluate import time_evaluate\r\n",
    "from IPython.display import clear_output"
   ]
  },
  {
   "cell_type": "code",
   "execution_count": 2,
   "metadata": {},
   "outputs": [],
   "source": [
    "def run_test_dbscan(epsilon, rating_path = 'dataset_5_min_75/', item_path = 'comic_genre.csv'):\r\n",
    "\r\n",
    "    total_mae = []\r\n",
    "    total_time = []\r\n",
    "\r\n",
    "    # 10-Fold Cross-Validation\r\n",
    "    for i in range(1, 11):\r\n",
    "        # load dataset\r\n",
    "        print('DBSCAN (eps={}) | Fold = {}'.format(epsilon, i))\r\n",
    "        print('Loading Data...')\r\n",
    "        train_data, cluster_data = load_rating_data('train', number=i, rating_path=rating_path, item_path=item_path)\r\n",
    "        test_data = load_rating_data('test', number=i, rating_path=rating_path, item_path=item_path)\r\n",
    "        print('Data Loaded...')\r\n",
    "\r\n",
    "        # perform clustering\r\n",
    "        print('Clustering Starts')\r\n",
    "        ratings_cluster = dbscan_clustering(epsilon, cluster_data, train_data)\r\n",
    "        print('Clustering Finished')\r\n",
    "\r\n",
    "        # predict and evaluate\r\n",
    "        print('Predicting and Evaluating Starts')\r\n",
    "        mae, time = time_evaluate(test_data, ratings_cluster, centroids=None)\r\n",
    "        total_mae.append(mae)\r\n",
    "        total_time.append(time)\r\n",
    "        print('Predicting and Evaluating Finished')\r\n",
    "\r\n",
    "        clear_output(wait=True)\r\n",
    "        print('Eps = {} | Fold = {} | MAE = {} | Time Elapsed = {}\\n'.format(epsilon, i, mae, time))\r\n",
    "\r\n",
    "\r\n",
    "    clear_output(wait=True)\r\n",
    "    for i in range(len(total_mae)):\r\n",
    "        print('Eps = {} | Fold = {} | MAE = {} | Time Elapsed = {}'.format(epsilon, i+1, total_mae[i], total_time[i]))\r\n",
    "    avg_mae = sum(total_mae)/10\r\n",
    "    avg_time = sum(total_time)/10\r\n",
    "    print('Eps = {} | Average MAE = {} | Average Time = {}'.format(epsilon, avg_mae, avg_time))\r\n",
    "\r\n",
    "    # return avg_mae, total_mae"
   ]
  },
  {
   "cell_type": "markdown",
   "metadata": {},
   "source": [
    "# DBSCAN Eps = 7.8 - Eps = 20 DATASET_MIN_75 (RATING 1-5)"
   ]
  },
  {
   "cell_type": "code",
   "execution_count": null,
   "metadata": {},
   "outputs": [
    {
     "name": "stdout",
     "output_type": "stream",
     "text": [
      "Eps = 7.8 | Fold = 1 | MAE = 0.8139559621853646 | Time Elapsed = 0.04247715150876218\n",
      "Eps = 7.8 | Fold = 2 | MAE = 0.8102310844270089 | Time Elapsed = 0.04372012779779956\n",
      "Eps = 7.8 | Fold = 3 | MAE = 0.8194011371869288 | Time Elapsed = 0.050156913575768604\n",
      "Eps = 7.8 | Fold = 4 | MAE = 0.8139997121860705 | Time Elapsed = 0.05306569470997241\n",
      "Eps = 7.8 | Fold = 5 | MAE = 0.8198572740844148 | Time Elapsed = 0.06772324409645447\n",
      "Eps = 7.8 | Fold = 6 | MAE = 0.8311560162678382 | Time Elapsed = 0.06442868511509765\n",
      "Eps = 7.8 | Fold = 7 | MAE = 0.816311507372774 | Time Elapsed = 0.06406300708795405\n",
      "Eps = 7.8 | Fold = 8 | MAE = 0.8081248909508287 | Time Elapsed = 0.04590224254269114\n",
      "Eps = 7.8 | Fold = 9 | MAE = 0.8207978371618732 | Time Elapsed = 0.04845850849677321\n",
      "Eps = 7.8 | Fold = 10 | MAE = 0.8159860240709742 | Time Elapsed = 0.06542329713183705\n",
      "Eps = 7.8 | Average MAE = 0.8169821445894077 | Average Time = 0.054541887206311035\n"
     ]
    }
   ],
   "source": [
    "run_test_dbscan(7.8, rating_path='dataset_5_min_75/')"
   ]
  },
  {
   "cell_type": "code",
   "execution_count": null,
   "metadata": {},
   "outputs": [
    {
     "name": "stdout",
     "output_type": "stream",
     "text": [
      "Eps = 8 | Fold = 1 | MAE = 0.8149365440875256 | Time Elapsed = 0.05126021568066253\n",
      "Eps = 8 | Fold = 2 | MAE = 0.8097555500388964 | Time Elapsed = 0.0687499539017018\n",
      "Eps = 8 | Fold = 3 | MAE = 0.819881833091519 | Time Elapsed = 0.0506759526413144\n",
      "Eps = 8 | Fold = 4 | MAE = 0.8125592704483169 | Time Elapsed = 0.052203425949007065\n",
      "Eps = 8 | Fold = 5 | MAE = 0.819907842790429 | Time Elapsed = 0.0489727466164104\n",
      "Eps = 8 | Fold = 6 | MAE = 0.8309989615010642 | Time Elapsed = 0.06606665350361927\n",
      "Eps = 8 | Fold = 7 | MAE = 0.8145324421256337 | Time Elapsed = 0.05387852755646267\n",
      "Eps = 8 | Fold = 8 | MAE = 0.8107789866378965 | Time Elapsed = 0.044778930988870806\n",
      "Eps = 8 | Fold = 9 | MAE = 0.8222458452855063 | Time Elapsed = 0.044892996235414796\n",
      "Eps = 8 | Fold = 10 | MAE = 0.8160441375739774 | Time Elapsed = 0.04457636587850421\n",
      "Eps = 8 | Average MAE = 0.8171641413580766 | Average Time = 0.05260557689519679\n"
     ]
    }
   ],
   "source": [
    "run_test_dbscan(8, rating_path='dataset_5_min_75/')"
   ]
  },
  {
   "cell_type": "code",
   "execution_count": null,
   "metadata": {},
   "outputs": [
    {
     "name": "stdout",
     "output_type": "stream",
     "text": [
      "Eps = 8.1 | Fold = 1 | MAE = 0.8171518711191332 | Time Elapsed = 0.05116639118059423\n",
      "Eps = 8.1 | Fold = 2 | MAE = 0.8147517591388018 | Time Elapsed = 0.044400724480624064\n",
      "Eps = 8.1 | Fold = 3 | MAE = 0.8192689101291097 | Time Elapsed = 0.04444502736663526\n",
      "Eps = 8.1 | Fold = 4 | MAE = 0.8200240659607302 | Time Elapsed = 0.06044879491842307\n",
      "Eps = 8.1 | Fold = 5 | MAE = 0.8210392262948328 | Time Elapsed = 0.05921779583231573\n",
      "Eps = 8.1 | Fold = 6 | MAE = 0.8362987122935029 | Time Elapsed = 0.05640279176222156\n",
      "Eps = 8.1 | Fold = 7 | MAE = 0.823504857095632 | Time Elapsed = 0.05765857543753414\n",
      "Eps = 8.1 | Fold = 8 | MAE = 0.8108902332733464 | Time Elapsed = 0.0451410814734365\n",
      "Eps = 8.1 | Fold = 9 | MAE = 0.8244451107534808 | Time Elapsed = 0.05653803802258635\n",
      "Eps = 8.1 | Fold = 10 | MAE = 0.8211225961021552 | Time Elapsed = 0.044999908556404566\n",
      "Eps = 8.1 | Average MAE = 0.8208497342160725 | Average Time = 0.052041912903077546\n"
     ]
    }
   ],
   "source": [
    "run_test_dbscan(8.1, rating_path='dataset_5_min_75/')"
   ]
  },
  {
   "cell_type": "code",
   "execution_count": null,
   "metadata": {},
   "outputs": [
    {
     "name": "stdout",
     "output_type": "stream",
     "text": [
      "Eps = 8.2 | Fold = 1 | MAE = 0.8158006483837521 | Time Elapsed = 0.044551934699709334\n",
      "Eps = 8.2 | Fold = 2 | MAE = 0.8168069251229638 | Time Elapsed = 0.0439995799983384\n",
      "Eps = 8.2 | Fold = 3 | MAE = 0.8264074187541917 | Time Elapsed = 0.04657640557470507\n",
      "Eps = 8.2 | Fold = 4 | MAE = 0.8217431844328854 | Time Elapsed = 0.04752800743541791\n",
      "Eps = 8.2 | Fold = 5 | MAE = 0.8265150793712966 | Time Elapsed = 0.06216545610318222\n",
      "Eps = 8.2 | Fold = 6 | MAE = 0.83691520269292 | Time Elapsed = 0.04332880122836214\n",
      "Eps = 8.2 | Fold = 7 | MAE = 0.8252408050556576 | Time Elapsed = 0.04444273990583588\n",
      "Eps = 8.2 | Fold = 8 | MAE = 0.8109389731027744 | Time Elapsed = 0.042958219758073186\n",
      "Eps = 8.2 | Fold = 9 | MAE = 0.8236438130274201 | Time Elapsed = 0.04347680850381061\n",
      "Eps = 8.2 | Fold = 10 | MAE = 0.8215768926424757 | Time Elapsed = 0.05689059011465158\n",
      "Eps = 8.2 | Average MAE = 0.8225588942586338 | Average Time = 0.047591854332208625\n"
     ]
    }
   ],
   "source": [
    "run_test_dbscan(8.2, rating_path='dataset_5_min_75/')"
   ]
  },
  {
   "cell_type": "code",
   "execution_count": null,
   "metadata": {},
   "outputs": [
    {
     "name": "stdout",
     "output_type": "stream",
     "text": [
      "Eps = 8.3 | Fold = 5 | MAE = 0.8266630313618882 | Time Elapsed = 0.048685720909400654\n",
      "\n",
      "DBSCAN (eps=8.3) | Fold = 6\n",
      "Loading Data...\n",
      "Data Loaded...\n",
      "Clustering Starts\n",
      "Clustering Finished\n",
      "Predicting and Evaluating Starts\n"
     ]
    }
   ],
   "source": [
    "run_test_dbscan(8.3, rating_path='dataset_5_min_75/')"
   ]
  },
  {
   "cell_type": "code",
   "execution_count": null,
   "metadata": {},
   "outputs": [],
   "source": [
    "run_test_dbscan(9, rating_path='dataset_5_min_75/')"
   ]
  },
  {
   "cell_type": "code",
   "execution_count": null,
   "metadata": {},
   "outputs": [],
   "source": [
    "run_test_dbscan(10, rating_path='dataset_5_min_75/')"
   ]
  },
  {
   "cell_type": "code",
   "execution_count": null,
   "metadata": {},
   "outputs": [],
   "source": [
    "run_test_dbscan(11, rating_path='dataset_5_min_75/')"
   ]
  },
  {
   "cell_type": "code",
   "execution_count": null,
   "metadata": {},
   "outputs": [],
   "source": [
    "run_test_dbscan(12, rating_path='dataset_5_min_75/')"
   ]
  },
  {
   "cell_type": "code",
   "execution_count": null,
   "metadata": {},
   "outputs": [],
   "source": [
    "run_test_dbscan(13, rating_path='dataset_5_min_75/')"
   ]
  },
  {
   "cell_type": "code",
   "execution_count": null,
   "metadata": {},
   "outputs": [],
   "source": [
    "run_test_dbscan(14, rating_path='dataset_5_min_75/')"
   ]
  },
  {
   "cell_type": "code",
   "execution_count": null,
   "metadata": {},
   "outputs": [],
   "source": [
    "run_test_dbscan(15, rating_path='dataset_5_min_75/')"
   ]
  },
  {
   "cell_type": "code",
   "execution_count": null,
   "metadata": {},
   "outputs": [],
   "source": [
    "run_test_dbscan(16, rating_path='dataset_5_min_75/')"
   ]
  },
  {
   "cell_type": "code",
   "execution_count": null,
   "metadata": {},
   "outputs": [],
   "source": [
    "run_test_dbscan(17, rating_path='dataset_5_min_75/')"
   ]
  },
  {
   "cell_type": "code",
   "execution_count": null,
   "metadata": {},
   "outputs": [],
   "source": [
    "run_test_dbscan(18, rating_path='dataset_5_min_75/')"
   ]
  },
  {
   "cell_type": "code",
   "execution_count": null,
   "metadata": {},
   "outputs": [],
   "source": [
    "run_test_dbscan(19, rating_path='dataset_5_min_75/')"
   ]
  },
  {
   "cell_type": "code",
   "execution_count": null,
   "metadata": {},
   "outputs": [],
   "source": [
    "run_test_dbscan(20, rating_path='dataset_5_min_75/')"
   ]
  },
  {
   "cell_type": "code",
   "execution_count": null,
   "metadata": {},
   "outputs": [],
   "source": []
  }
 ],
 "metadata": {
  "interpreter": {
   "hash": "6093fa3b248174b374b709111c412862ed9d642d68334f11c425669a3f6da8b1"
  },
  "kernelspec": {
   "display_name": "conda_python3",
   "language": "python",
   "name": "conda_python3"
  },
  "language_info": {
   "codemirror_mode": {
    "name": "ipython",
    "version": 3
   },
   "file_extension": ".py",
   "mimetype": "text/x-python",
   "name": "python",
   "nbconvert_exporter": "python",
   "pygments_lexer": "ipython3",
   "version": "3.6.13"
  }
 },
 "nbformat": 4,
 "nbformat_minor": 4
}
