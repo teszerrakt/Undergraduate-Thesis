{
 "cells": [
  {
   "cell_type": "code",
   "execution_count": 1,
   "metadata": {},
   "outputs": [],
   "source": [
    "from data_prep import load_rating_data\n",
    "from cluster import dbscan_clustering\n",
    "from evaluate import time_evaluate\n",
    "from IPython.display import clear_output"
   ]
  },
  {
   "cell_type": "code",
   "execution_count": 2,
   "metadata": {},
   "outputs": [],
   "source": [
    "def run_test_dbscan(epsilon, rating_path = 'dataset_5_min_75/', item_path = 'comic_genre.csv'):\n",
    "\n",
    "    total_mae = []\n",
    "    total_time = []\n",
    "\n",
    "    # 10-Fold Cross-Validation\n",
    "    for i in range(1, 11):\n",
    "        # load dataset\n",
    "        print('DBSCAN (eps={}) | Fold = {}'.format(epsilon, i))\n",
    "        print('Loading Data...')\n",
    "        train_data, cluster_data = load_rating_data('train', number=i, rating_path=rating_path, item_path=item_path)\n",
    "        test_data = load_rating_data('test', number=i, rating_path=rating_path, item_path=item_path)\n",
    "        print('Data Loaded...')\n",
    "\n",
    "        # perform clustering\n",
    "        print('Clustering Starts')\n",
    "        ratings_cluster = dbscan_clustering(epsilon, cluster_data, train_data)\n",
    "        print('Clustering Finished')\n",
    "\n",
    "        # predict and evaluate\n",
    "        print('Predicting and Evaluating Starts')\n",
    "        mae, time = time_evaluate(test_data, ratings_cluster, centroids=None)\n",
    "        total_mae.append(mae)\n",
    "        total_time.append(time)\n",
    "        print('Predicting and Evaluating Finished')\n",
    "\n",
    "        clear_output(wait=True)\n",
    "        print('Eps = {} | Fold = {} | MAE = {} | Time Elapsed = {}\\n'.format(epsilon, i, mae, time))\n",
    "\n",
    "\n",
    "    clear_output(wait=True)\n",
    "    for i in range(len(total_mae)):\n",
    "        print('Eps = {} | Fold = {} | MAE = {} | Time Elapsed = {}'.format(epsilon, i+1, total_mae[i], total_time[i]))\n",
    "    avg_mae = sum(total_mae)/10\n",
    "    avg_time = sum(total_time)/10\n",
    "    print('Eps = {} | Average MAE = {} | Average Time = {}'.format(epsilon, avg_mae, avg_time))\n",
    "\n",
    "    # return avg_mae, total_mae"
   ]
  },
  {
   "cell_type": "markdown",
   "metadata": {},
   "source": [
    "# DBSCAN Eps = 7.8 - Eps = 20 DATASET_MIN_75 (RATING 1-5)"
   ]
  },
  {
   "cell_type": "code",
   "execution_count": null,
   "metadata": {},
   "outputs": [
    {
     "name": "stdout",
     "output_type": "stream",
     "text": [
      "Eps = 7.8 | Fold = 1 | MAE = 0.8139559621853646 | Time Elapsed = 0.04247715150876218\n",
      "Eps = 7.8 | Fold = 2 | MAE = 0.8102310844270089 | Time Elapsed = 0.04372012779779956\n",
      "Eps = 7.8 | Fold = 3 | MAE = 0.8194011371869288 | Time Elapsed = 0.050156913575768604\n",
      "Eps = 7.8 | Fold = 4 | MAE = 0.8139997121860705 | Time Elapsed = 0.05306569470997241\n",
      "Eps = 7.8 | Fold = 5 | MAE = 0.8198572740844148 | Time Elapsed = 0.06772324409645447\n",
      "Eps = 7.8 | Fold = 6 | MAE = 0.8311560162678382 | Time Elapsed = 0.06442868511509765\n",
      "Eps = 7.8 | Fold = 7 | MAE = 0.816311507372774 | Time Elapsed = 0.06406300708795405\n",
      "Eps = 7.8 | Fold = 8 | MAE = 0.8081248909508287 | Time Elapsed = 0.04590224254269114\n",
      "Eps = 7.8 | Fold = 9 | MAE = 0.8207978371618732 | Time Elapsed = 0.04845850849677321\n",
      "Eps = 7.8 | Fold = 10 | MAE = 0.8159860240709742 | Time Elapsed = 0.06542329713183705\n",
      "Eps = 7.8 | Average MAE = 0.8169821445894077 | Average Time = 0.054541887206311035\n"
     ]
    }
   ],
   "source": [
    "run_test_dbscan(7.8, rating_path='dataset_5_min_75/')"
   ]
  },
  {
   "cell_type": "code",
   "execution_count": null,
   "metadata": {},
   "outputs": [
    {
     "name": "stdout",
     "output_type": "stream",
     "text": [
      "Eps = 8 | Fold = 1 | MAE = 0.8149365440875256 | Time Elapsed = 0.05126021568066253\n",
      "Eps = 8 | Fold = 2 | MAE = 0.8097555500388964 | Time Elapsed = 0.0687499539017018\n",
      "Eps = 8 | Fold = 3 | MAE = 0.819881833091519 | Time Elapsed = 0.0506759526413144\n",
      "Eps = 8 | Fold = 4 | MAE = 0.8125592704483169 | Time Elapsed = 0.052203425949007065\n",
      "Eps = 8 | Fold = 5 | MAE = 0.819907842790429 | Time Elapsed = 0.0489727466164104\n",
      "Eps = 8 | Fold = 6 | MAE = 0.8309989615010642 | Time Elapsed = 0.06606665350361927\n",
      "Eps = 8 | Fold = 7 | MAE = 0.8145324421256337 | Time Elapsed = 0.05387852755646267\n",
      "Eps = 8 | Fold = 8 | MAE = 0.8107789866378965 | Time Elapsed = 0.044778930988870806\n",
      "Eps = 8 | Fold = 9 | MAE = 0.8222458452855063 | Time Elapsed = 0.044892996235414796\n",
      "Eps = 8 | Fold = 10 | MAE = 0.8160441375739774 | Time Elapsed = 0.04457636587850421\n",
      "Eps = 8 | Average MAE = 0.8171641413580766 | Average Time = 0.05260557689519679\n"
     ]
    }
   ],
   "source": [
    "run_test_dbscan(8, rating_path='dataset_5_min_75/')"
   ]
  },
  {
   "cell_type": "code",
   "execution_count": null,
   "metadata": {},
   "outputs": [
    {
     "name": "stdout",
     "output_type": "stream",
     "text": [
      "Eps = 8.1 | Fold = 1 | MAE = 0.8171518711191332 | Time Elapsed = 0.05116639118059423\n",
      "Eps = 8.1 | Fold = 2 | MAE = 0.8147517591388018 | Time Elapsed = 0.044400724480624064\n",
      "Eps = 8.1 | Fold = 3 | MAE = 0.8192689101291097 | Time Elapsed = 0.04444502736663526\n",
      "Eps = 8.1 | Fold = 4 | MAE = 0.8200240659607302 | Time Elapsed = 0.06044879491842307\n",
      "Eps = 8.1 | Fold = 5 | MAE = 0.8210392262948328 | Time Elapsed = 0.05921779583231573\n",
      "Eps = 8.1 | Fold = 6 | MAE = 0.8362987122935029 | Time Elapsed = 0.05640279176222156\n",
      "Eps = 8.1 | Fold = 7 | MAE = 0.823504857095632 | Time Elapsed = 0.05765857543753414\n",
      "Eps = 8.1 | Fold = 8 | MAE = 0.8108902332733464 | Time Elapsed = 0.0451410814734365\n",
      "Eps = 8.1 | Fold = 9 | MAE = 0.8244451107534808 | Time Elapsed = 0.05653803802258635\n",
      "Eps = 8.1 | Fold = 10 | MAE = 0.8211225961021552 | Time Elapsed = 0.044999908556404566\n",
      "Eps = 8.1 | Average MAE = 0.8208497342160725 | Average Time = 0.052041912903077546\n"
     ]
    }
   ],
   "source": [
    "run_test_dbscan(8.1, rating_path='dataset_5_min_75/')"
   ]
  },
  {
   "cell_type": "code",
   "execution_count": null,
   "metadata": {},
   "outputs": [
    {
     "name": "stdout",
     "output_type": "stream",
     "text": [
      "Eps = 8.2 | Fold = 1 | MAE = 0.8158006483837521 | Time Elapsed = 0.044551934699709334\n",
      "Eps = 8.2 | Fold = 2 | MAE = 0.8168069251229638 | Time Elapsed = 0.0439995799983384\n",
      "Eps = 8.2 | Fold = 3 | MAE = 0.8264074187541917 | Time Elapsed = 0.04657640557470507\n",
      "Eps = 8.2 | Fold = 4 | MAE = 0.8217431844328854 | Time Elapsed = 0.04752800743541791\n",
      "Eps = 8.2 | Fold = 5 | MAE = 0.8265150793712966 | Time Elapsed = 0.06216545610318222\n",
      "Eps = 8.2 | Fold = 6 | MAE = 0.83691520269292 | Time Elapsed = 0.04332880122836214\n",
      "Eps = 8.2 | Fold = 7 | MAE = 0.8252408050556576 | Time Elapsed = 0.04444273990583588\n",
      "Eps = 8.2 | Fold = 8 | MAE = 0.8109389731027744 | Time Elapsed = 0.042958219758073186\n",
      "Eps = 8.2 | Fold = 9 | MAE = 0.8236438130274201 | Time Elapsed = 0.04347680850381061\n",
      "Eps = 8.2 | Fold = 10 | MAE = 0.8215768926424757 | Time Elapsed = 0.05689059011465158\n",
      "Eps = 8.2 | Average MAE = 0.8225588942586338 | Average Time = 0.047591854332208625\n"
     ]
    }
   ],
   "source": [
    "run_test_dbscan(8.2, rating_path='dataset_5_min_75/')"
   ]
  },
  {
   "cell_type": "code",
   "execution_count": 3,
   "metadata": {},
   "outputs": [
    {
     "name": "stdout",
     "output_type": "stream",
     "text": [
      "Eps = 8.3 | Fold = 1 | MAE = 0.8146477516996692 | Time Elapsed = 0.05057378987744911\n",
      "Eps = 8.3 | Fold = 2 | MAE = 0.8134597808938269 | Time Elapsed = 0.050103241278758856\n",
      "Eps = 8.3 | Fold = 3 | MAE = 0.8279676510861423 | Time Elapsed = 0.054541804141056784\n",
      "Eps = 8.3 | Fold = 4 | MAE = 0.8192263023119121 | Time Elapsed = 0.05490415678303623\n",
      "Eps = 8.3 | Fold = 5 | MAE = 0.8266630313618882 | Time Elapsed = 0.050736947433055575\n",
      "Eps = 8.3 | Fold = 6 | MAE = 0.8376943480009386 | Time Elapsed = 0.06971425114871262\n",
      "Eps = 8.3 | Fold = 7 | MAE = 0.8267494534374378 | Time Elapsed = 0.047474975186858115\n",
      "Eps = 8.3 | Fold = 8 | MAE = 0.8149748459703218 | Time Elapsed = 0.06841483054098137\n",
      "Eps = 8.3 | Fold = 9 | MAE = 0.8282532882166863 | Time Elapsed = 0.04800476051911107\n",
      "Eps = 8.3 | Fold = 10 | MAE = 0.8228622690504653 | Time Elapsed = 0.05038873720635469\n",
      "Eps = 8.3 | Average MAE = 0.8232498722029288 | Average Time = 0.05448574941153744\n"
     ]
    }
   ],
   "source": [
    "run_test_dbscan(8.3, rating_path='dataset_5_min_75/')"
   ]
  },
  {
   "cell_type": "code",
   "execution_count": 4,
   "metadata": {},
   "outputs": [
    {
     "name": "stdout",
     "output_type": "stream",
     "text": [
      "Eps = 9 | Fold = 1 | MAE = 0.835619743513338 | Time Elapsed = 0.03331716595507734\n",
      "Eps = 9 | Fold = 2 | MAE = 0.8377492946749002 | Time Elapsed = 0.03402086182632203\n",
      "Eps = 9 | Fold = 3 | MAE = 0.8551579715703709 | Time Elapsed = 0.03604732130648498\n",
      "Eps = 9 | Fold = 4 | MAE = 0.8385078122155672 | Time Elapsed = 0.03746861371425537\n",
      "Eps = 9 | Fold = 5 | MAE = 0.8429518679942759 | Time Elapsed = 0.037339835059564765\n",
      "Eps = 9 | Fold = 6 | MAE = 0.8596369833879146 | Time Elapsed = 0.036359358670813004\n",
      "Eps = 9 | Fold = 7 | MAE = 0.8414562717217249 | Time Elapsed = 0.034219870067850794\n",
      "Eps = 9 | Fold = 8 | MAE = 0.8383542356154967 | Time Elapsed = 0.03397800293109398\n",
      "Eps = 9 | Fold = 9 | MAE = 0.8467740873156456 | Time Elapsed = 0.034023310673149045\n",
      "Eps = 9 | Fold = 10 | MAE = 0.843561792320645 | Time Elapsed = 0.03538763013774731\n",
      "Eps = 9 | Average MAE = 0.8439770060329879 | Average Time = 0.03521619703423586\n"
     ]
    }
   ],
   "source": [
    "run_test_dbscan(9, rating_path='dataset_5_min_75/')"
   ]
  },
  {
   "cell_type": "code",
   "execution_count": 5,
   "metadata": {},
   "outputs": [
    {
     "name": "stdout",
     "output_type": "stream",
     "text": [
      "Eps = 10 | Fold = 1 | MAE = 0.8647413083929336 | Time Elapsed = 0.03491399063730372\n",
      "Eps = 10 | Fold = 2 | MAE = 0.8659146360477358 | Time Elapsed = 0.02759721136111659\n",
      "Eps = 10 | Fold = 3 | MAE = 0.8834005424457384 | Time Elapsed = 0.03173178290748533\n",
      "Eps = 10 | Fold = 4 | MAE = 0.8696919792016918 | Time Elapsed = 0.030899843417780435\n",
      "Eps = 10 | Fold = 5 | MAE = 0.8723412498205437 | Time Elapsed = 0.03262625211549617\n",
      "Eps = 10 | Fold = 6 | MAE = 0.8853753737396175 | Time Elapsed = 0.0313138389995305\n",
      "Eps = 10 | Fold = 7 | MAE = 0.8643537041192779 | Time Elapsed = 0.03247173540340401\n",
      "Eps = 10 | Fold = 8 | MAE = 0.8707579710615093 | Time Elapsed = 0.027071451079790268\n",
      "Eps = 10 | Fold = 9 | MAE = 0.8763493888645933 | Time Elapsed = 0.034321968012322554\n",
      "Eps = 10 | Fold = 10 | MAE = 0.8670351651022363 | Time Elapsed = 0.028245127216440895\n",
      "Eps = 10 | Average MAE = 0.8719961318795878 | Average Time = 0.031119320115067045\n"
     ]
    }
   ],
   "source": [
    "run_test_dbscan(10, rating_path='dataset_5_min_75/')"
   ]
  },
  {
   "cell_type": "code",
   "execution_count": 6,
   "metadata": {},
   "outputs": [
    {
     "name": "stdout",
     "output_type": "stream",
     "text": [
      "Eps = 11 | Fold = 1 | MAE = 0.8831505257270927 | Time Elapsed = 0.03141682986369315\n",
      "Eps = 11 | Fold = 2 | MAE = 0.873550119276553 | Time Elapsed = 0.03258378090636094\n",
      "Eps = 11 | Fold = 3 | MAE = 0.8895949490527422 | Time Elapsed = 0.027263935657416288\n",
      "Eps = 11 | Fold = 4 | MAE = 0.8842442578651789 | Time Elapsed = 0.03325643152794596\n",
      "Eps = 11 | Fold = 5 | MAE = 0.8787320246080992 | Time Elapsed = 0.030187980904257627\n",
      "Eps = 11 | Fold = 6 | MAE = 0.903544654376313 | Time Elapsed = 0.029764289781747624\n",
      "Eps = 11 | Fold = 7 | MAE = 0.8880391809727383 | Time Elapsed = 0.03463408558515346\n",
      "Eps = 11 | Fold = 8 | MAE = 0.88286577293964 | Time Elapsed = 0.031668016465622915\n",
      "Eps = 11 | Fold = 9 | MAE = 0.8838375617080647 | Time Elapsed = 0.02937972209401241\n",
      "Eps = 11 | Fold = 10 | MAE = 0.8856977757046758 | Time Elapsed = 0.035793683238033766\n",
      "Eps = 11 | Average MAE = 0.8853256822231097 | Average Time = 0.03159487560242441\n"
     ]
    }
   ],
   "source": [
    "run_test_dbscan(11, rating_path='dataset_5_min_75/')"
   ]
  },
  {
   "cell_type": "code",
   "execution_count": 7,
   "metadata": {},
   "outputs": [
    {
     "name": "stdout",
     "output_type": "stream",
     "text": [
      "Eps = 12 | Fold = 1 | MAE = 0.8960296180406752 | Time Elapsed = 0.03283663436475234\n",
      "Eps = 12 | Fold = 2 | MAE = 0.8751178845817205 | Time Elapsed = 0.030849585504481605\n",
      "Eps = 12 | Fold = 3 | MAE = 0.8911786783902028 | Time Elapsed = 0.034341151593409294\n",
      "Eps = 12 | Fold = 4 | MAE = 0.9021150692655845 | Time Elapsed = 0.03624951681632373\n",
      "Eps = 12 | Fold = 5 | MAE = 0.8909843529613233 | Time Elapsed = 0.034180202855844354\n",
      "Eps = 12 | Fold = 6 | MAE = 0.906893475773776 | Time Elapsed = 0.03056101344900787\n",
      "Eps = 12 | Fold = 7 | MAE = 0.889904221762369 | Time Elapsed = 0.03276006384707263\n",
      "Eps = 12 | Fold = 8 | MAE = 0.879685372010405 | Time Elapsed = 0.03617992511244296\n",
      "Eps = 12 | Fold = 9 | MAE = 0.8910035591147195 | Time Elapsed = 0.033310557822029976\n",
      "Eps = 12 | Fold = 10 | MAE = 0.8965225971611758 | Time Elapsed = 0.031683963057297704\n",
      "Eps = 12 | Average MAE = 0.8919434829061952 | Average Time = 0.033295261442266244\n"
     ]
    }
   ],
   "source": [
    "run_test_dbscan(12, rating_path='dataset_5_min_75/')"
   ]
  },
  {
   "cell_type": "code",
   "execution_count": null,
   "metadata": {},
   "outputs": [
    {
     "name": "stdout",
     "output_type": "stream",
     "text": [
      "Eps = 13 | Fold = 1 | MAE = 0.8851392341911999 | Time Elapsed = 0.03480584543768102\n",
      "Eps = 13 | Fold = 2 | MAE = 0.8861460898386962 | Time Elapsed = 0.03829333759103024\n",
      "Eps = 13 | Fold = 3 | MAE = 0.8982588703507195 | Time Elapsed = 0.033874785147969676\n",
      "Eps = 13 | Fold = 4 | MAE = 0.8952346414295232 | Time Elapsed = 0.04757957063537393\n",
      "Eps = 13 | Fold = 5 | MAE = 0.8910212801190099 | Time Elapsed = 0.037372277079633254\n",
      "Eps = 13 | Fold = 6 | MAE = 0.9042217598051057 | Time Elapsed = 0.03562932612923929\n",
      "Eps = 13 | Fold = 7 | MAE = 0.8983596073216727 | Time Elapsed = 0.03396781379271865\n",
      "Eps = 13 | Fold = 8 | MAE = 0.8836680453703677 | Time Elapsed = 0.034710374654382634\n",
      "Eps = 13 | Fold = 9 | MAE = 0.8914413278697789 | Time Elapsed = 0.034286619061064\n",
      "Eps = 13 | Fold = 10 | MAE = 0.8921460819937981 | Time Elapsed = 0.03703441174579388\n",
      "Eps = 13 | Average MAE = 0.8925636938289874 | Average Time = 0.036755436127488654\n"
     ]
    }
   ],
   "source": [
    "run_test_dbscan(13, rating_path='dataset_5_min_75/')"
   ]
  },
  {
   "cell_type": "code",
   "execution_count": null,
   "metadata": {},
   "outputs": [
    {
     "name": "stdout",
     "output_type": "stream",
     "text": [
      "Eps = 14 | Fold = 1 | MAE = 0.877186644202527 | Time Elapsed = 0.05884347244057131\n",
      "Eps = 14 | Fold = 2 | MAE = 0.878425700345089 | Time Elapsed = 0.0539085987969442\n",
      "Eps = 14 | Fold = 3 | MAE = 0.8813335076713236 | Time Elapsed = 0.055129332398667935\n",
      "Eps = 14 | Fold = 4 | MAE = 0.886784970828379 | Time Elapsed = 0.05156142242120749\n",
      "Eps = 14 | Fold = 5 | MAE = 0.8861201777726875 | Time Elapsed = 0.06227932211035508\n",
      "Eps = 14 | Fold = 6 | MAE = 0.8986333870577109 | Time Elapsed = 0.06189748485044114\n",
      "Eps = 14 | Fold = 7 | MAE = 0.8818085716299003 | Time Elapsed = 0.06287096914697943\n",
      "Eps = 14 | Fold = 8 | MAE = 0.8677228637931131 | Time Elapsed = 0.0628156247914206\n",
      "Eps = 14 | Fold = 9 | MAE = 0.8816926387720212 | Time Elapsed = 0.06343864934522839\n",
      "Eps = 14 | Fold = 10 | MAE = 0.8753175212070504 | Time Elapsed = 0.05770126952194879\n",
      "Eps = 14 | Average MAE = 0.8815025983279801 | Average Time = 0.059044614582376434\n"
     ]
    }
   ],
   "source": [
    "run_test_dbscan(14, rating_path='dataset_5_min_75/')"
   ]
  },
  {
   "cell_type": "code",
   "execution_count": null,
   "metadata": {},
   "outputs": [
    {
     "name": "stdout",
     "output_type": "stream",
     "text": [
      "Eps = 15 | Fold = 1 | MAE = 0.8785367136196631 | Time Elapsed = 0.05551786216762393\n",
      "Eps = 15 | Fold = 2 | MAE = 0.8679753474010728 | Time Elapsed = 0.055345384522920364\n",
      "Eps = 15 | Fold = 3 | MAE = 0.8760335200892296 | Time Elapsed = 0.06707863897866778\n",
      "Eps = 15 | Fold = 4 | MAE = 0.8757969624577061 | Time Elapsed = 0.055761286086575025\n",
      "Eps = 15 | Fold = 5 | MAE = 0.8768272830636458 | Time Elapsed = 0.05436688941342179\n",
      "Eps = 15 | Fold = 6 | MAE = 0.8886341684181779 | Time Elapsed = 0.05342894575116174\n",
      "Eps = 15 | Fold = 7 | MAE = 0.8757932892587809 | Time Elapsed = 0.05272494942187507\n",
      "Eps = 15 | Fold = 8 | MAE = 0.8721802851996108 | Time Elapsed = 0.05668283586275392\n",
      "Eps = 15 | Fold = 9 | MAE = 0.8751915218936029 | Time Elapsed = 0.06773007203418976\n",
      "Eps = 15 | Fold = 10 | MAE = 0.8730805490634392 | Time Elapsed = 0.05460590536874788\n",
      "Eps = 15 | Average MAE = 0.876004964046493 | Average Time = 0.057324276960793716\n"
     ]
    }
   ],
   "source": [
    "run_test_dbscan(15, rating_path='dataset_5_min_75/')"
   ]
  },
  {
   "cell_type": "code",
   "execution_count": null,
   "metadata": {},
   "outputs": [
    {
     "name": "stdout",
     "output_type": "stream",
     "text": [
      "Eps = 16 | Fold = 1 | MAE = 0.8691824491185746 | Time Elapsed = 0.05580870758221885\n",
      "Eps = 16 | Fold = 2 | MAE = 0.8562021719536347 | Time Elapsed = 0.06949790121071017\n",
      "Eps = 16 | Fold = 3 | MAE = 0.8669069163074052 | Time Elapsed = 0.054436048518588284\n",
      "Eps = 16 | Fold = 4 | MAE = 0.8628001710367476 | Time Elapsed = 0.0548361656739959\n",
      "Eps = 16 | Fold = 5 | MAE = 0.8650225256642565 | Time Elapsed = 0.06944909660139027\n",
      "Eps = 16 | Fold = 6 | MAE = 0.8838974583368856 | Time Elapsed = 0.05624768165732569\n",
      "Eps = 16 | Fold = 7 | MAE = 0.8689472475396894 | Time Elapsed = 0.05434943934351782\n",
      "Eps = 16 | Fold = 8 | MAE = 0.8584079393379686 | Time Elapsed = 0.06774729422894683\n",
      "Eps = 16 | Fold = 9 | MAE = 0.8672907286556678 | Time Elapsed = 0.05688312157623074\n",
      "Eps = 16 | Fold = 10 | MAE = 0.8616067570455161 | Time Elapsed = 0.05507353973896988\n",
      "Eps = 16 | Average MAE = 0.8660264364996347 | Average Time = 0.05943289961318944\n"
     ]
    }
   ],
   "source": [
    "run_test_dbscan(16, rating_path='dataset_5_min_75/')"
   ]
  },
  {
   "cell_type": "code",
   "execution_count": null,
   "metadata": {},
   "outputs": [
    {
     "name": "stdout",
     "output_type": "stream",
     "text": [
      "Eps = 17 | Fold = 1 | MAE = 0.8538842825383505 | Time Elapsed = 0.056205872281666756\n",
      "Eps = 17 | Fold = 2 | MAE = 0.8446352320582314 | Time Elapsed = 0.05640154113171283\n",
      "Eps = 17 | Fold = 3 | MAE = 0.863258156131938 | Time Elapsed = 0.05797076499815782\n",
      "Eps = 17 | Fold = 4 | MAE = 0.8547855925926031 | Time Elapsed = 0.05758988909886977\n",
      "Eps = 17 | Fold = 5 | MAE = 0.8550752764299407 | Time Elapsed = 0.07295630844171731\n",
      "Eps = 17 | Fold = 6 | MAE = 0.8706322371142873 | Time Elapsed = 0.07100600517382862\n",
      "Eps = 17 | Fold = 7 | MAE = 0.8564137312101445 | Time Elapsed = 0.07039497719505285\n",
      "Eps = 17 | Fold = 8 | MAE = 0.8501635462468085 | Time Elapsed = 0.058042211003869804\n",
      "Eps = 17 | Fold = 9 | MAE = 0.8531996173769307 | Time Elapsed = 0.05721893827033905\n",
      "Eps = 17 | Fold = 10 | MAE = 0.8581335043768551 | Time Elapsed = 0.07338883871781939\n",
      "Eps = 17 | Average MAE = 0.8560181176076089 | Average Time = 0.06311753463130342\n"
     ]
    }
   ],
   "source": [
    "run_test_dbscan(17, rating_path='dataset_5_min_75/')"
   ]
  },
  {
   "cell_type": "code",
   "execution_count": null,
   "metadata": {},
   "outputs": [
    {
     "name": "stdout",
     "output_type": "stream",
     "text": [
      "Eps = 18 | Fold = 1 | MAE = 0.8543834293704448 | Time Elapsed = 0.05120130071681703\n",
      "Eps = 18 | Fold = 2 | MAE = 0.8496195410342438 | Time Elapsed = 0.04752351313304548\n",
      "Eps = 18 | Fold = 3 | MAE = 0.86333439575349 | Time Elapsed = 0.05000444457899256\n",
      "Eps = 18 | Fold = 4 | MAE = 0.8494398643391696 | Time Elapsed = 0.04773482205715077\n",
      "Eps = 18 | Fold = 5 | MAE = 0.8613224506245937 | Time Elapsed = 0.049037718024247653\n",
      "Eps = 18 | Fold = 6 | MAE = 0.8712381330764463 | Time Elapsed = 0.04652432582139774\n",
      "Eps = 18 | Fold = 7 | MAE = 0.8593520819726602 | Time Elapsed = 0.049537767569352756\n",
      "Eps = 18 | Fold = 8 | MAE = 0.8510805307143913 | Time Elapsed = 0.04554462124809708\n",
      "Eps = 18 | Fold = 9 | MAE = 0.8546645110870448 | Time Elapsed = 0.05029429403989287\n",
      "Eps = 18 | Fold = 10 | MAE = 0.8559028328654088 | Time Elapsed = 0.044295034223832803\n",
      "Eps = 18 | Average MAE = 0.8570337770837894 | Average Time = 0.04816978414128268\n"
     ]
    }
   ],
   "source": [
    "run_test_dbscan(18, rating_path='dataset_5_min_75/')"
   ]
  },
  {
   "cell_type": "code",
   "execution_count": null,
   "metadata": {},
   "outputs": [
    {
     "name": "stdout",
     "output_type": "stream",
     "text": [
      "Eps = 19 | Fold = 1 | MAE = 0.8425742177270609 | Time Elapsed = 0.05017909320019613\n",
      "Eps = 19 | Fold = 2 | MAE = 0.8406551475270351 | Time Elapsed = 0.053832713268923034\n",
      "Eps = 19 | Fold = 3 | MAE = 0.8473137317983475 | Time Elapsed = 0.05394924124401869\n",
      "Eps = 19 | Fold = 4 | MAE = 0.8423385994423246 | Time Elapsed = 0.05367905471118903\n",
      "Eps = 19 | Fold = 5 | MAE = 0.860571704836691 | Time Elapsed = 0.05385693419769868\n",
      "Eps = 19 | Fold = 6 | MAE = 0.8595485463488505 | Time Elapsed = 0.05113804892343261\n",
      "Eps = 19 | Fold = 7 | MAE = 0.8490817050158013 | Time Elapsed = 0.05296821985517681\n",
      "Eps = 19 | Fold = 8 | MAE = 0.8456672220166189 | Time Elapsed = 0.05502215724395893\n",
      "Eps = 19 | Fold = 9 | MAE = 0.8492232700116263 | Time Elapsed = 0.046466520993431765\n",
      "Eps = 19 | Fold = 10 | MAE = 0.8418004822908692 | Time Elapsed = 0.05488904896856609\n",
      "Eps = 19 | Average MAE = 0.8478774627015225 | Average Time = 0.05259810326065917\n"
     ]
    }
   ],
   "source": [
    "run_test_dbscan(19, rating_path='dataset_5_min_75/')"
   ]
  },
  {
   "cell_type": "code",
   "execution_count": null,
   "metadata": {},
   "outputs": [
    {
     "name": "stdout",
     "output_type": "stream",
     "text": [
      "Eps = 20 | Fold = 1 | MAE = 0.8428395786377746 | Time Elapsed = 0.050968725368575704\n",
      "Eps = 20 | Fold = 2 | MAE = 0.8343453894255921 | Time Elapsed = 0.04970801257082519\n",
      "Eps = 20 | Fold = 3 | MAE = 0.8439183701008571 | Time Elapsed = 0.05077875356778461\n",
      "Eps = 20 | Fold = 4 | MAE = 0.8415451118740547 | Time Elapsed = 0.04988326225485285\n",
      "Eps = 20 | Fold = 5 | MAE = 0.8539818851821329 | Time Elapsed = 0.05097043852880567\n",
      "Eps = 20 | Fold = 6 | MAE = 0.8550440099509216 | Time Elapsed = 0.04938394634496433\n",
      "Eps = 20 | Fold = 7 | MAE = 0.841290197727117 | Time Elapsed = 0.05006820317419944\n",
      "Eps = 20 | Fold = 8 | MAE = 0.837150076354296 | Time Elapsed = 0.049022027093630564\n",
      "Eps = 20 | Fold = 9 | MAE = 0.8496657617763951 | Time Elapsed = 0.05248954448116086\n",
      "Eps = 20 | Fold = 10 | MAE = 0.8344807926114326 | Time Elapsed = 0.0515703530063021\n",
      "Eps = 20 | Average MAE = 0.8434261173640574 | Average Time = 0.050484326639110136\n"
     ]
    }
   ],
   "source": [
    "run_test_dbscan(20, rating_path='dataset_5_min_75/')"
   ]
  }
 ],
 "metadata": {
  "interpreter": {
   "hash": "6093fa3b248174b374b709111c412862ed9d642d68334f11c425669a3f6da8b1"
  },
  "kernelspec": {
   "display_name": "conda_amazonei_tensorflow_p36",
   "language": "python",
   "name": "conda_amazonei_tensorflow_p36"
  },
  "language_info": {
   "codemirror_mode": {
    "name": "ipython",
    "version": 3
   },
   "file_extension": ".py",
   "mimetype": "text/x-python",
   "name": "python",
   "nbconvert_exporter": "python",
   "pygments_lexer": "ipython3",
   "version": "3.6.10"
  }
 },
 "nbformat": 4,
 "nbformat_minor": 4
}
